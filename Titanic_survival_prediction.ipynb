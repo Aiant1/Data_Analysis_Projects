{
 "cells": [
  {
   "cell_type": "code",
   "execution_count": 1,
   "metadata": {
    "_cell_guid": "b1076dfc-b9ad-4769-8c92-a6c4dae69d19",
    "_uuid": "8f2839f25d086af736a60e9eeb907d3b93b6e0e5",
    "execution": {
     "iopub.execute_input": "2021-01-14T08:21:58.865771Z",
     "iopub.status.busy": "2021-01-14T08:21:58.865071Z",
     "iopub.status.idle": "2021-01-14T08:21:58.871473Z",
     "shell.execute_reply": "2021-01-14T08:21:58.870862Z"
    },
    "papermill": {
     "duration": 0.036547,
     "end_time": "2021-01-14T08:21:58.871609",
     "exception": false,
     "start_time": "2021-01-14T08:21:58.835062",
     "status": "completed"
    },
    "tags": []
   },
   "outputs": [
    {
     "name": "stdout",
     "output_type": "stream",
     "text": [
      "/kaggle/input/titanic/train.csv\n",
      "/kaggle/input/titanic/test.csv\n",
      "/kaggle/input/titanic/gender_submission.csv\n"
     ]
    }
   ],
   "source": [
    "# This Python 3 environment comes with many helpful analytics libraries installed\n",
    "# It is defined by the kaggle/python Docker image: https://github.com/kaggle/docker-python\n",
    "# For example, here's several helpful packages to load\n",
    "\n",
    "import numpy as np # linear algebra\n",
    "import pandas as pd # data processing, CSV file I/O (e.g. pd.read_csv)\n",
    "\n",
    "# Input data files are available in the read-only \"../input/\" directory\n",
    "# For example, running this (by clicking run or pressing Shift+Enter) will list all files under the input directory\n",
    "\n",
    "import os\n",
    "for dirname, _, filenames in os.walk('/kaggle/input'):\n",
    "    for filename in filenames:\n",
    "        print(os.path.join(dirname, filename))\n",
    "\n",
    "# You can write up to 20GB to the current directory (/kaggle/working/) that gets preserved as output when you create a version using \"Save & Run All\" \n",
    "# You can also write temporary files to /kaggle/temp/, but they won't be saved outside of the current session"
   ]
  },
  {
   "cell_type": "code",
   "execution_count": 2,
   "metadata": {
    "execution": {
     "iopub.execute_input": "2021-01-14T08:21:58.930235Z",
     "iopub.status.busy": "2021-01-14T08:21:58.927166Z",
     "iopub.status.idle": "2021-01-14T08:22:01.351079Z",
     "shell.execute_reply": "2021-01-14T08:22:01.350398Z"
    },
    "papermill": {
     "duration": 2.454971,
     "end_time": "2021-01-14T08:22:01.351202",
     "exception": false,
     "start_time": "2021-01-14T08:21:58.896231",
     "status": "completed"
    },
    "tags": []
   },
   "outputs": [],
   "source": [
    "#import all the libraries\n",
    "\n",
    "#common libraries\n",
    "import numpy as np\n",
    "import pandas as pd\n",
    "import time\n",
    "import os\n",
    "import math\n",
    "import missingno as msno \n",
    "\n",
    "\n",
    "#library for visualization\n",
    "\n",
    "from matplotlib import pyplot as plt\n",
    "import seaborn as sns\n",
    "from mpl_toolkits.mplot3d import Axes3D \n",
    "plt.style.use('ggplot')\n",
    "\n",
    "#sklearn libraries \n",
    "\n",
    "from sklearn.model_selection import train_test_split\n",
    "from sklearn.preprocessing import normalize,StandardScaler\n",
    "from sklearn.metrics import confusion_matrix,accuracy_score,precision_score,recall_score,f1_score,matthews_corrcoef,classification_report,roc_curve\n",
    "from sklearn.decomposition import PCA\n",
    "from sklearn.preprocessing import OneHotEncoder \n",
    "from sklearn.preprocessing import LabelEncoder \n",
    "from sklearn.compose import ColumnTransformer \n",
    "from sklearn import model_selection\n",
    "from sklearn.linear_model import LogisticRegression\n",
    "from sklearn.tree import DecisionTreeClassifier\n",
    "from sklearn.neighbors import KNeighborsClassifier\n",
    "from sklearn.ensemble import RandomForestClassifier\n",
    "from sklearn.discriminant_analysis import LinearDiscriminantAnalysis\n",
    "from xgboost import XGBClassifier\n",
    "from sklearn.ensemble import GradientBoostingClassifier\n",
    "from sklearn.svm import SVC\n",
    "from sklearn.metrics import confusion_matrix\n",
    "from sklearn.naive_bayes import GaussianNB\n",
    "from sklearn.model_selection import GridSearchCV, RepeatedStratifiedKFold\n",
    "from sklearn.model_selection import cross_val_score\n"
   ]
  },
  {
   "cell_type": "code",
   "execution_count": 3,
   "metadata": {
    "execution": {
     "iopub.execute_input": "2021-01-14T08:22:01.401494Z",
     "iopub.status.busy": "2021-01-14T08:22:01.400788Z",
     "iopub.status.idle": "2021-01-14T08:22:01.404345Z",
     "shell.execute_reply": "2021-01-14T08:22:01.403699Z"
    },
    "papermill": {
     "duration": 0.030722,
     "end_time": "2021-01-14T08:22:01.404458",
     "exception": false,
     "start_time": "2021-01-14T08:22:01.373736",
     "status": "completed"
    },
    "tags": []
   },
   "outputs": [
    {
     "name": "stdout",
     "output_type": "stream",
     "text": [
      "/kaggle/working\n"
     ]
    }
   ],
   "source": [
    "cd /kaggle/working"
   ]
  },
  {
   "cell_type": "code",
   "execution_count": 4,
   "metadata": {
    "execution": {
     "iopub.execute_input": "2021-01-14T08:22:01.457501Z",
     "iopub.status.busy": "2021-01-14T08:22:01.456848Z",
     "iopub.status.idle": "2021-01-14T08:22:01.517998Z",
     "shell.execute_reply": "2021-01-14T08:22:01.518561Z"
    },
    "papermill": {
     "duration": 0.091897,
     "end_time": "2021-01-14T08:22:01.518722",
     "exception": false,
     "start_time": "2021-01-14T08:22:01.426825",
     "status": "completed"
    },
    "tags": []
   },
   "outputs": [
    {
     "data": {
      "text/html": [
       "<div>\n",
       "<style scoped>\n",
       "    .dataframe tbody tr th:only-of-type {\n",
       "        vertical-align: middle;\n",
       "    }\n",
       "\n",
       "    .dataframe tbody tr th {\n",
       "        vertical-align: top;\n",
       "    }\n",
       "\n",
       "    .dataframe thead th {\n",
       "        text-align: right;\n",
       "    }\n",
       "</style>\n",
       "<table border=\"1\" class=\"dataframe\">\n",
       "  <thead>\n",
       "    <tr style=\"text-align: right;\">\n",
       "      <th></th>\n",
       "      <th>PassengerId</th>\n",
       "      <th>Survived</th>\n",
       "      <th>Pclass</th>\n",
       "      <th>Name</th>\n",
       "      <th>Sex</th>\n",
       "      <th>Age</th>\n",
       "      <th>SibSp</th>\n",
       "      <th>Parch</th>\n",
       "      <th>Ticket</th>\n",
       "      <th>Fare</th>\n",
       "      <th>Cabin</th>\n",
       "      <th>Embarked</th>\n",
       "    </tr>\n",
       "  </thead>\n",
       "  <tbody>\n",
       "    <tr>\n",
       "      <th>0</th>\n",
       "      <td>1</td>\n",
       "      <td>0</td>\n",
       "      <td>3</td>\n",
       "      <td>Braund, Mr. Owen Harris</td>\n",
       "      <td>male</td>\n",
       "      <td>22.0</td>\n",
       "      <td>1</td>\n",
       "      <td>0</td>\n",
       "      <td>A/5 21171</td>\n",
       "      <td>7.2500</td>\n",
       "      <td>NaN</td>\n",
       "      <td>S</td>\n",
       "    </tr>\n",
       "    <tr>\n",
       "      <th>1</th>\n",
       "      <td>2</td>\n",
       "      <td>1</td>\n",
       "      <td>1</td>\n",
       "      <td>Cumings, Mrs. John Bradley (Florence Briggs Th...</td>\n",
       "      <td>female</td>\n",
       "      <td>38.0</td>\n",
       "      <td>1</td>\n",
       "      <td>0</td>\n",
       "      <td>PC 17599</td>\n",
       "      <td>71.2833</td>\n",
       "      <td>C85</td>\n",
       "      <td>C</td>\n",
       "    </tr>\n",
       "    <tr>\n",
       "      <th>2</th>\n",
       "      <td>3</td>\n",
       "      <td>1</td>\n",
       "      <td>3</td>\n",
       "      <td>Heikkinen, Miss. Laina</td>\n",
       "      <td>female</td>\n",
       "      <td>26.0</td>\n",
       "      <td>0</td>\n",
       "      <td>0</td>\n",
       "      <td>STON/O2. 3101282</td>\n",
       "      <td>7.9250</td>\n",
       "      <td>NaN</td>\n",
       "      <td>S</td>\n",
       "    </tr>\n",
       "    <tr>\n",
       "      <th>3</th>\n",
       "      <td>4</td>\n",
       "      <td>1</td>\n",
       "      <td>1</td>\n",
       "      <td>Futrelle, Mrs. Jacques Heath (Lily May Peel)</td>\n",
       "      <td>female</td>\n",
       "      <td>35.0</td>\n",
       "      <td>1</td>\n",
       "      <td>0</td>\n",
       "      <td>113803</td>\n",
       "      <td>53.1000</td>\n",
       "      <td>C123</td>\n",
       "      <td>S</td>\n",
       "    </tr>\n",
       "    <tr>\n",
       "      <th>4</th>\n",
       "      <td>5</td>\n",
       "      <td>0</td>\n",
       "      <td>3</td>\n",
       "      <td>Allen, Mr. William Henry</td>\n",
       "      <td>male</td>\n",
       "      <td>35.0</td>\n",
       "      <td>0</td>\n",
       "      <td>0</td>\n",
       "      <td>373450</td>\n",
       "      <td>8.0500</td>\n",
       "      <td>NaN</td>\n",
       "      <td>S</td>\n",
       "    </tr>\n",
       "    <tr>\n",
       "      <th>...</th>\n",
       "      <td>...</td>\n",
       "      <td>...</td>\n",
       "      <td>...</td>\n",
       "      <td>...</td>\n",
       "      <td>...</td>\n",
       "      <td>...</td>\n",
       "      <td>...</td>\n",
       "      <td>...</td>\n",
       "      <td>...</td>\n",
       "      <td>...</td>\n",
       "      <td>...</td>\n",
       "      <td>...</td>\n",
       "    </tr>\n",
       "    <tr>\n",
       "      <th>95</th>\n",
       "      <td>96</td>\n",
       "      <td>0</td>\n",
       "      <td>3</td>\n",
       "      <td>Shorney, Mr. Charles Joseph</td>\n",
       "      <td>male</td>\n",
       "      <td>NaN</td>\n",
       "      <td>0</td>\n",
       "      <td>0</td>\n",
       "      <td>374910</td>\n",
       "      <td>8.0500</td>\n",
       "      <td>NaN</td>\n",
       "      <td>S</td>\n",
       "    </tr>\n",
       "    <tr>\n",
       "      <th>96</th>\n",
       "      <td>97</td>\n",
       "      <td>0</td>\n",
       "      <td>1</td>\n",
       "      <td>Goldschmidt, Mr. George B</td>\n",
       "      <td>male</td>\n",
       "      <td>71.0</td>\n",
       "      <td>0</td>\n",
       "      <td>0</td>\n",
       "      <td>PC 17754</td>\n",
       "      <td>34.6542</td>\n",
       "      <td>A5</td>\n",
       "      <td>C</td>\n",
       "    </tr>\n",
       "    <tr>\n",
       "      <th>97</th>\n",
       "      <td>98</td>\n",
       "      <td>1</td>\n",
       "      <td>1</td>\n",
       "      <td>Greenfield, Mr. William Bertram</td>\n",
       "      <td>male</td>\n",
       "      <td>23.0</td>\n",
       "      <td>0</td>\n",
       "      <td>1</td>\n",
       "      <td>PC 17759</td>\n",
       "      <td>63.3583</td>\n",
       "      <td>D10 D12</td>\n",
       "      <td>C</td>\n",
       "    </tr>\n",
       "    <tr>\n",
       "      <th>98</th>\n",
       "      <td>99</td>\n",
       "      <td>1</td>\n",
       "      <td>2</td>\n",
       "      <td>Doling, Mrs. John T (Ada Julia Bone)</td>\n",
       "      <td>female</td>\n",
       "      <td>34.0</td>\n",
       "      <td>0</td>\n",
       "      <td>1</td>\n",
       "      <td>231919</td>\n",
       "      <td>23.0000</td>\n",
       "      <td>NaN</td>\n",
       "      <td>S</td>\n",
       "    </tr>\n",
       "    <tr>\n",
       "      <th>99</th>\n",
       "      <td>100</td>\n",
       "      <td>0</td>\n",
       "      <td>2</td>\n",
       "      <td>Kantor, Mr. Sinai</td>\n",
       "      <td>male</td>\n",
       "      <td>34.0</td>\n",
       "      <td>1</td>\n",
       "      <td>0</td>\n",
       "      <td>244367</td>\n",
       "      <td>26.0000</td>\n",
       "      <td>NaN</td>\n",
       "      <td>S</td>\n",
       "    </tr>\n",
       "  </tbody>\n",
       "</table>\n",
       "<p>100 rows × 12 columns</p>\n",
       "</div>"
      ],
      "text/plain": [
       "    PassengerId  Survived  Pclass  \\\n",
       "0             1         0       3   \n",
       "1             2         1       1   \n",
       "2             3         1       3   \n",
       "3             4         1       1   \n",
       "4             5         0       3   \n",
       "..          ...       ...     ...   \n",
       "95           96         0       3   \n",
       "96           97         0       1   \n",
       "97           98         1       1   \n",
       "98           99         1       2   \n",
       "99          100         0       2   \n",
       "\n",
       "                                                 Name     Sex   Age  SibSp  \\\n",
       "0                             Braund, Mr. Owen Harris    male  22.0      1   \n",
       "1   Cumings, Mrs. John Bradley (Florence Briggs Th...  female  38.0      1   \n",
       "2                              Heikkinen, Miss. Laina  female  26.0      0   \n",
       "3        Futrelle, Mrs. Jacques Heath (Lily May Peel)  female  35.0      1   \n",
       "4                            Allen, Mr. William Henry    male  35.0      0   \n",
       "..                                                ...     ...   ...    ...   \n",
       "95                        Shorney, Mr. Charles Joseph    male   NaN      0   \n",
       "96                          Goldschmidt, Mr. George B    male  71.0      0   \n",
       "97                    Greenfield, Mr. William Bertram    male  23.0      0   \n",
       "98               Doling, Mrs. John T (Ada Julia Bone)  female  34.0      0   \n",
       "99                                  Kantor, Mr. Sinai    male  34.0      1   \n",
       "\n",
       "    Parch            Ticket     Fare    Cabin Embarked  \n",
       "0       0         A/5 21171   7.2500      NaN        S  \n",
       "1       0          PC 17599  71.2833      C85        C  \n",
       "2       0  STON/O2. 3101282   7.9250      NaN        S  \n",
       "3       0            113803  53.1000     C123        S  \n",
       "4       0            373450   8.0500      NaN        S  \n",
       "..    ...               ...      ...      ...      ...  \n",
       "95      0            374910   8.0500      NaN        S  \n",
       "96      0          PC 17754  34.6542       A5        C  \n",
       "97      1          PC 17759  63.3583  D10 D12        C  \n",
       "98      1            231919  23.0000      NaN        S  \n",
       "99      0            244367  26.0000      NaN        S  \n",
       "\n",
       "[100 rows x 12 columns]"
      ]
     },
     "execution_count": 4,
     "metadata": {},
     "output_type": "execute_result"
    }
   ],
   "source": [
    "#Read the data\n",
    "\n",
    "data=pd.read_csv(\"/kaggle/input/titanic/train.csv\")\n",
    "data_predict=pd.read_csv(\"/kaggle/input/titanic/test.csv\")\n",
    "data_predict_ori=data_predict.copy()\n",
    "data.head(100)\n"
   ]
  },
  {
   "cell_type": "markdown",
   "metadata": {
    "papermill": {
     "duration": 0.026034,
     "end_time": "2021-01-14T08:22:01.570971",
     "exception": false,
     "start_time": "2021-01-14T08:22:01.544937",
     "status": "completed"
    },
    "tags": []
   },
   "source": [
    "# Pre-data processing"
   ]
  },
  {
   "cell_type": "code",
   "execution_count": 5,
   "metadata": {
    "execution": {
     "iopub.execute_input": "2021-01-14T08:22:01.624341Z",
     "iopub.status.busy": "2021-01-14T08:22:01.623674Z",
     "iopub.status.idle": "2021-01-14T08:22:01.661824Z",
     "shell.execute_reply": "2021-01-14T08:22:01.661161Z"
    },
    "papermill": {
     "duration": 0.064771,
     "end_time": "2021-01-14T08:22:01.661951",
     "exception": false,
     "start_time": "2021-01-14T08:22:01.597180",
     "status": "completed"
    },
    "tags": []
   },
   "outputs": [
    {
     "data": {
      "text/html": [
       "<div>\n",
       "<style scoped>\n",
       "    .dataframe tbody tr th:only-of-type {\n",
       "        vertical-align: middle;\n",
       "    }\n",
       "\n",
       "    .dataframe tbody tr th {\n",
       "        vertical-align: top;\n",
       "    }\n",
       "\n",
       "    .dataframe thead th {\n",
       "        text-align: right;\n",
       "    }\n",
       "</style>\n",
       "<table border=\"1\" class=\"dataframe\">\n",
       "  <thead>\n",
       "    <tr style=\"text-align: right;\">\n",
       "      <th></th>\n",
       "      <th>PassengerId</th>\n",
       "      <th>Survived</th>\n",
       "      <th>Pclass</th>\n",
       "      <th>Age</th>\n",
       "      <th>SibSp</th>\n",
       "      <th>Parch</th>\n",
       "      <th>Fare</th>\n",
       "    </tr>\n",
       "  </thead>\n",
       "  <tbody>\n",
       "    <tr>\n",
       "      <th>count</th>\n",
       "      <td>891.000000</td>\n",
       "      <td>891.000000</td>\n",
       "      <td>891.000000</td>\n",
       "      <td>714.000000</td>\n",
       "      <td>891.000000</td>\n",
       "      <td>891.000000</td>\n",
       "      <td>891.000000</td>\n",
       "    </tr>\n",
       "    <tr>\n",
       "      <th>mean</th>\n",
       "      <td>446.000000</td>\n",
       "      <td>0.383838</td>\n",
       "      <td>2.308642</td>\n",
       "      <td>29.699118</td>\n",
       "      <td>0.523008</td>\n",
       "      <td>0.381594</td>\n",
       "      <td>32.204208</td>\n",
       "    </tr>\n",
       "    <tr>\n",
       "      <th>std</th>\n",
       "      <td>257.353842</td>\n",
       "      <td>0.486592</td>\n",
       "      <td>0.836071</td>\n",
       "      <td>14.526497</td>\n",
       "      <td>1.102743</td>\n",
       "      <td>0.806057</td>\n",
       "      <td>49.693429</td>\n",
       "    </tr>\n",
       "    <tr>\n",
       "      <th>min</th>\n",
       "      <td>1.000000</td>\n",
       "      <td>0.000000</td>\n",
       "      <td>1.000000</td>\n",
       "      <td>0.420000</td>\n",
       "      <td>0.000000</td>\n",
       "      <td>0.000000</td>\n",
       "      <td>0.000000</td>\n",
       "    </tr>\n",
       "    <tr>\n",
       "      <th>25%</th>\n",
       "      <td>223.500000</td>\n",
       "      <td>0.000000</td>\n",
       "      <td>2.000000</td>\n",
       "      <td>20.125000</td>\n",
       "      <td>0.000000</td>\n",
       "      <td>0.000000</td>\n",
       "      <td>7.910400</td>\n",
       "    </tr>\n",
       "    <tr>\n",
       "      <th>50%</th>\n",
       "      <td>446.000000</td>\n",
       "      <td>0.000000</td>\n",
       "      <td>3.000000</td>\n",
       "      <td>28.000000</td>\n",
       "      <td>0.000000</td>\n",
       "      <td>0.000000</td>\n",
       "      <td>14.454200</td>\n",
       "    </tr>\n",
       "    <tr>\n",
       "      <th>75%</th>\n",
       "      <td>668.500000</td>\n",
       "      <td>1.000000</td>\n",
       "      <td>3.000000</td>\n",
       "      <td>38.000000</td>\n",
       "      <td>1.000000</td>\n",
       "      <td>0.000000</td>\n",
       "      <td>31.000000</td>\n",
       "    </tr>\n",
       "    <tr>\n",
       "      <th>max</th>\n",
       "      <td>891.000000</td>\n",
       "      <td>1.000000</td>\n",
       "      <td>3.000000</td>\n",
       "      <td>80.000000</td>\n",
       "      <td>8.000000</td>\n",
       "      <td>6.000000</td>\n",
       "      <td>512.329200</td>\n",
       "    </tr>\n",
       "  </tbody>\n",
       "</table>\n",
       "</div>"
      ],
      "text/plain": [
       "       PassengerId    Survived      Pclass         Age       SibSp  \\\n",
       "count   891.000000  891.000000  891.000000  714.000000  891.000000   \n",
       "mean    446.000000    0.383838    2.308642   29.699118    0.523008   \n",
       "std     257.353842    0.486592    0.836071   14.526497    1.102743   \n",
       "min       1.000000    0.000000    1.000000    0.420000    0.000000   \n",
       "25%     223.500000    0.000000    2.000000   20.125000    0.000000   \n",
       "50%     446.000000    0.000000    3.000000   28.000000    0.000000   \n",
       "75%     668.500000    1.000000    3.000000   38.000000    1.000000   \n",
       "max     891.000000    1.000000    3.000000   80.000000    8.000000   \n",
       "\n",
       "            Parch        Fare  \n",
       "count  891.000000  891.000000  \n",
       "mean     0.381594   32.204208  \n",
       "std      0.806057   49.693429  \n",
       "min      0.000000    0.000000  \n",
       "25%      0.000000    7.910400  \n",
       "50%      0.000000   14.454200  \n",
       "75%      0.000000   31.000000  \n",
       "max      6.000000  512.329200  "
      ]
     },
     "execution_count": 5,
     "metadata": {},
     "output_type": "execute_result"
    }
   ],
   "source": [
    "data.describe()\n"
   ]
  },
  {
   "cell_type": "code",
   "execution_count": 6,
   "metadata": {
    "execution": {
     "iopub.execute_input": "2021-01-14T08:22:01.719899Z",
     "iopub.status.busy": "2021-01-14T08:22:01.719239Z",
     "iopub.status.idle": "2021-01-14T08:22:01.722537Z",
     "shell.execute_reply": "2021-01-14T08:22:01.723158Z"
    },
    "papermill": {
     "duration": 0.036141,
     "end_time": "2021-01-14T08:22:01.723314",
     "exception": false,
     "start_time": "2021-01-14T08:22:01.687173",
     "status": "completed"
    },
    "tags": []
   },
   "outputs": [
    {
     "data": {
      "text/plain": [
       "PassengerId      0\n",
       "Survived         0\n",
       "Pclass           0\n",
       "Name             0\n",
       "Sex              0\n",
       "Age            177\n",
       "SibSp            0\n",
       "Parch            0\n",
       "Ticket           0\n",
       "Fare             0\n",
       "Cabin          687\n",
       "Embarked         2\n",
       "dtype: int64"
      ]
     },
     "execution_count": 6,
     "metadata": {},
     "output_type": "execute_result"
    }
   ],
   "source": [
    "#check for missing values\n",
    "data.isnull().sum()"
   ]
  },
  {
   "cell_type": "code",
   "execution_count": 7,
   "metadata": {
    "execution": {
     "iopub.execute_input": "2021-01-14T08:22:01.778398Z",
     "iopub.status.busy": "2021-01-14T08:22:01.777671Z",
     "iopub.status.idle": "2021-01-14T08:22:01.785960Z",
     "shell.execute_reply": "2021-01-14T08:22:01.785412Z"
    },
    "papermill": {
     "duration": 0.038175,
     "end_time": "2021-01-14T08:22:01.786068",
     "exception": false,
     "start_time": "2021-01-14T08:22:01.747893",
     "status": "completed"
    },
    "tags": []
   },
   "outputs": [
    {
     "data": {
      "text/plain": [
       "PassengerId      0\n",
       "Pclass           0\n",
       "Name             0\n",
       "Sex              0\n",
       "Age             86\n",
       "SibSp            0\n",
       "Parch            0\n",
       "Ticket           0\n",
       "Fare             1\n",
       "Cabin          327\n",
       "Embarked         0\n",
       "dtype: int64"
      ]
     },
     "execution_count": 7,
     "metadata": {},
     "output_type": "execute_result"
    }
   ],
   "source": [
    "data_predict.isnull().sum()"
   ]
  },
  {
   "cell_type": "code",
   "execution_count": 8,
   "metadata": {
    "execution": {
     "iopub.execute_input": "2021-01-14T08:22:01.842926Z",
     "iopub.status.busy": "2021-01-14T08:22:01.842223Z",
     "iopub.status.idle": "2021-01-14T08:22:02.336368Z",
     "shell.execute_reply": "2021-01-14T08:22:02.335563Z"
    },
    "papermill": {
     "duration": 0.52498,
     "end_time": "2021-01-14T08:22:02.336490",
     "exception": false,
     "start_time": "2021-01-14T08:22:01.811510",
     "status": "completed"
    },
    "tags": []
   },
   "outputs": [
    {
     "data": {
      "text/plain": [
       "<matplotlib.axes._subplots.AxesSubplot at 0x7fb959b8bbd0>"
      ]
     },
     "execution_count": 8,
     "metadata": {},
     "output_type": "execute_result"
    },
    {
     "data": {
      "image/png": "[encoded data removed]",
      "text/plain": [
       "<Figure size 1800x720 with 2 Axes>"
      ]
     },
     "metadata": {},
     "output_type": "display_data"
    }
   ],
   "source": [
    "#plot the missing values using missingno library\n",
    "msno.matrix(data)\n"
   ]
  },
  {
   "cell_type": "code",
   "execution_count": 9,
   "metadata": {
    "execution": {
     "iopub.execute_input": "2021-01-14T08:22:02.401184Z",
     "iopub.status.busy": "2021-01-14T08:22:02.400522Z",
     "iopub.status.idle": "2021-01-14T08:22:02.403395Z",
     "shell.execute_reply": "2021-01-14T08:22:02.403839Z"
    },
    "papermill": {
     "duration": 0.039592,
     "end_time": "2021-01-14T08:22:02.403979",
     "exception": false,
     "start_time": "2021-01-14T08:22:02.364387",
     "status": "completed"
    },
    "tags": []
   },
   "outputs": [],
   "source": [
    "#drop the unnecessary colums which for sure wont have any effect on training/prediction\n",
    "data=data.drop([\"PassengerId\",\"Name\",\"Cabin\"],axis=1)\n",
    "data_predict=data_predict.drop([\"PassengerId\",\"Name\",\"Cabin\"],axis=1)\n"
   ]
  },
  {
   "cell_type": "code",
   "execution_count": 10,
   "metadata": {
    "execution": {
     "iopub.execute_input": "2021-01-14T08:22:02.472305Z",
     "iopub.status.busy": "2021-01-14T08:22:02.471632Z",
     "iopub.status.idle": "2021-01-14T08:22:02.474451Z",
     "shell.execute_reply": "2021-01-14T08:22:02.474993Z"
    },
    "papermill": {
     "duration": 0.043469,
     "end_time": "2021-01-14T08:22:02.475136",
     "exception": false,
     "start_time": "2021-01-14T08:22:02.431667",
     "status": "completed"
    },
    "tags": []
   },
   "outputs": [],
   "source": [
    "#replace the nan vales : method mean for numerical values and backward/forward fill for categorical values\n",
    "data[\"Age\"] = data[\"Age\"].replace(np.NaN, data[\"Age\"].mean())\n",
    "data[\"Embarked\"] = data[\"Embarked\"].replace(np.NaN,method='bfill')\n",
    "\n",
    "data_predict[\"Age\"] = data_predict[\"Age\"].replace(np.NaN, data_predict[\"Age\"].mean())\n",
    "data_predict[\"Fare\"] = data_predict[\"Fare\"].replace(np.NaN, data_predict[\"Fare\"].mean())\n",
    "\n",
    "\n"
   ]
  },
  {
   "cell_type": "code",
   "execution_count": 11,
   "metadata": {
    "execution": {
     "iopub.execute_input": "2021-01-14T08:22:02.539318Z",
     "iopub.status.busy": "2021-01-14T08:22:02.538231Z",
     "iopub.status.idle": "2021-01-14T08:22:02.542858Z",
     "shell.execute_reply": "2021-01-14T08:22:02.542226Z"
    },
    "papermill": {
     "duration": 0.039971,
     "end_time": "2021-01-14T08:22:02.542977",
     "exception": false,
     "start_time": "2021-01-14T08:22:02.503006",
     "status": "completed"
    },
    "tags": []
   },
   "outputs": [
    {
     "data": {
      "text/plain": [
       "Survived    0\n",
       "Pclass      0\n",
       "Sex         0\n",
       "Age         0\n",
       "SibSp       0\n",
       "Parch       0\n",
       "Ticket      0\n",
       "Fare        0\n",
       "Embarked    0\n",
       "dtype: int64"
      ]
     },
     "execution_count": 11,
     "metadata": {},
     "output_type": "execute_result"
    }
   ],
   "source": [
    "#Check is all the missing values have been replaced or not\n",
    "data.isnull().sum()"
   ]
  },
  {
   "cell_type": "code",
   "execution_count": 12,
   "metadata": {
    "execution": {
     "iopub.execute_input": "2021-01-14T08:22:02.607875Z",
     "iopub.status.busy": "2021-01-14T08:22:02.606847Z",
     "iopub.status.idle": "2021-01-14T08:22:02.621388Z",
     "shell.execute_reply": "2021-01-14T08:22:02.620705Z"
    },
    "papermill": {
     "duration": 0.050338,
     "end_time": "2021-01-14T08:22:02.621502",
     "exception": false,
     "start_time": "2021-01-14T08:22:02.571164",
     "status": "completed"
    },
    "tags": []
   },
   "outputs": [
    {
     "data": {
      "text/html": [
       "<div>\n",
       "<style scoped>\n",
       "    .dataframe tbody tr th:only-of-type {\n",
       "        vertical-align: middle;\n",
       "    }\n",
       "\n",
       "    .dataframe tbody tr th {\n",
       "        vertical-align: top;\n",
       "    }\n",
       "\n",
       "    .dataframe thead th {\n",
       "        text-align: right;\n",
       "    }\n",
       "</style>\n",
       "<table border=\"1\" class=\"dataframe\">\n",
       "  <thead>\n",
       "    <tr style=\"text-align: right;\">\n",
       "      <th></th>\n",
       "      <th>Survived</th>\n",
       "      <th>Pclass</th>\n",
       "      <th>Age</th>\n",
       "      <th>SibSp</th>\n",
       "      <th>Parch</th>\n",
       "      <th>Fare</th>\n",
       "    </tr>\n",
       "  </thead>\n",
       "  <tbody>\n",
       "    <tr>\n",
       "      <th>Survived</th>\n",
       "      <td>1.000000</td>\n",
       "      <td>-0.338481</td>\n",
       "      <td>-0.069809</td>\n",
       "      <td>-0.035322</td>\n",
       "      <td>0.081629</td>\n",
       "      <td>0.257307</td>\n",
       "    </tr>\n",
       "    <tr>\n",
       "      <th>Pclass</th>\n",
       "      <td>-0.338481</td>\n",
       "      <td>1.000000</td>\n",
       "      <td>-0.331339</td>\n",
       "      <td>0.083081</td>\n",
       "      <td>0.018443</td>\n",
       "      <td>-0.549500</td>\n",
       "    </tr>\n",
       "    <tr>\n",
       "      <th>Age</th>\n",
       "      <td>-0.069809</td>\n",
       "      <td>-0.331339</td>\n",
       "      <td>1.000000</td>\n",
       "      <td>-0.232625</td>\n",
       "      <td>-0.179191</td>\n",
       "      <td>0.091566</td>\n",
       "    </tr>\n",
       "    <tr>\n",
       "      <th>SibSp</th>\n",
       "      <td>-0.035322</td>\n",
       "      <td>0.083081</td>\n",
       "      <td>-0.232625</td>\n",
       "      <td>1.000000</td>\n",
       "      <td>0.414838</td>\n",
       "      <td>0.159651</td>\n",
       "    </tr>\n",
       "    <tr>\n",
       "      <th>Parch</th>\n",
       "      <td>0.081629</td>\n",
       "      <td>0.018443</td>\n",
       "      <td>-0.179191</td>\n",
       "      <td>0.414838</td>\n",
       "      <td>1.000000</td>\n",
       "      <td>0.216225</td>\n",
       "    </tr>\n",
       "    <tr>\n",
       "      <th>Fare</th>\n",
       "      <td>0.257307</td>\n",
       "      <td>-0.549500</td>\n",
       "      <td>0.091566</td>\n",
       "      <td>0.159651</td>\n",
       "      <td>0.216225</td>\n",
       "      <td>1.000000</td>\n",
       "    </tr>\n",
       "  </tbody>\n",
       "</table>\n",
       "</div>"
      ],
      "text/plain": [
       "          Survived    Pclass       Age     SibSp     Parch      Fare\n",
       "Survived  1.000000 -0.338481 -0.069809 -0.035322  0.081629  0.257307\n",
       "Pclass   -0.338481  1.000000 -0.331339  0.083081  0.018443 -0.549500\n",
       "Age      -0.069809 -0.331339  1.000000 -0.232625 -0.179191  0.091566\n",
       "SibSp    -0.035322  0.083081 -0.232625  1.000000  0.414838  0.159651\n",
       "Parch     0.081629  0.018443 -0.179191  0.414838  1.000000  0.216225\n",
       "Fare      0.257307 -0.549500  0.091566  0.159651  0.216225  1.000000"
      ]
     },
     "execution_count": 12,
     "metadata": {},
     "output_type": "execute_result"
    }
   ],
   "source": [
    "#check for correlation matrix [onlt for numeric values]\n",
    "data.corr()"
   ]
  },
  {
   "cell_type": "markdown",
   "metadata": {
    "papermill": {
     "duration": 0.028895,
     "end_time": "2021-01-14T08:22:02.679687",
     "exception": false,
     "start_time": "2021-01-14T08:22:02.650792",
     "status": "completed"
    },
    "tags": []
   },
   "source": [
    "parch and sibsp seem to have co-linearity(mulicolinearity).If you wish you can drop one of them and check for the accruracy and decide to keep both of them or only one"
   ]
  },
  {
   "cell_type": "code",
   "execution_count": 13,
   "metadata": {
    "execution": {
     "iopub.execute_input": "2021-01-14T08:22:02.747544Z",
     "iopub.status.busy": "2021-01-14T08:22:02.746843Z",
     "iopub.status.idle": "2021-01-14T08:22:02.775787Z",
     "shell.execute_reply": "2021-01-14T08:22:02.776361Z"
    },
    "papermill": {
     "duration": 0.067732,
     "end_time": "2021-01-14T08:22:02.776527",
     "exception": false,
     "start_time": "2021-01-14T08:22:02.708795",
     "status": "completed"
    },
    "tags": []
   },
   "outputs": [
    {
     "name": "stdout",
     "output_type": "stream",
     "text": [
      "Pclass      1   2    3\n",
      "Survived              \n",
      "0          80  97  372\n",
      "1         136  87  119\n",
      "\n",
      "Sex       female  male\n",
      "Survived              \n",
      "0             81   468\n",
      "1            233   109\n",
      "\n"
     ]
    }
   ],
   "source": [
    "print(pd.pivot_table(data, index = 'Survived', columns = 'Pclass', values = 'Ticket' ,aggfunc ='count'))\n",
    "print()\n",
    "print(pd.pivot_table(data, index = 'Survived', columns = 'Sex', values = 'Ticket' ,aggfunc ='count'))\n",
    "print()\n"
   ]
  },
  {
   "cell_type": "code",
   "execution_count": 14,
   "metadata": {
    "execution": {
     "iopub.execute_input": "2021-01-14T08:22:02.858930Z",
     "iopub.status.busy": "2021-01-14T08:22:02.853034Z",
     "iopub.status.idle": "2021-01-14T08:22:02.863348Z",
     "shell.execute_reply": "2021-01-14T08:22:02.862568Z"
    },
    "papermill": {
     "duration": 0.053578,
     "end_time": "2021-01-14T08:22:02.863471",
     "exception": false,
     "start_time": "2021-01-14T08:22:02.809893",
     "status": "completed"
    },
    "tags": []
   },
   "outputs": [
    {
     "data": {
      "text/html": [
       "<div>\n",
       "<style scoped>\n",
       "    .dataframe tbody tr th:only-of-type {\n",
       "        vertical-align: middle;\n",
       "    }\n",
       "\n",
       "    .dataframe tbody tr th {\n",
       "        vertical-align: top;\n",
       "    }\n",
       "\n",
       "    .dataframe thead th {\n",
       "        text-align: right;\n",
       "    }\n",
       "</style>\n",
       "<table border=\"1\" class=\"dataframe\">\n",
       "  <thead>\n",
       "    <tr style=\"text-align: right;\">\n",
       "      <th></th>\n",
       "      <th>Survived</th>\n",
       "      <th>Pclass</th>\n",
       "      <th>Sex</th>\n",
       "      <th>Age</th>\n",
       "      <th>SibSp</th>\n",
       "      <th>Parch</th>\n",
       "      <th>Ticket</th>\n",
       "      <th>Fare</th>\n",
       "      <th>Embarked</th>\n",
       "    </tr>\n",
       "  </thead>\n",
       "  <tbody>\n",
       "    <tr>\n",
       "      <th>0</th>\n",
       "      <td>0</td>\n",
       "      <td>3</td>\n",
       "      <td>male</td>\n",
       "      <td>22.0</td>\n",
       "      <td>1</td>\n",
       "      <td>0</td>\n",
       "      <td>A/5 21171</td>\n",
       "      <td>7.2500</td>\n",
       "      <td>S</td>\n",
       "    </tr>\n",
       "    <tr>\n",
       "      <th>1</th>\n",
       "      <td>1</td>\n",
       "      <td>1</td>\n",
       "      <td>female</td>\n",
       "      <td>38.0</td>\n",
       "      <td>1</td>\n",
       "      <td>0</td>\n",
       "      <td>PC 17599</td>\n",
       "      <td>71.2833</td>\n",
       "      <td>C</td>\n",
       "    </tr>\n",
       "    <tr>\n",
       "      <th>2</th>\n",
       "      <td>1</td>\n",
       "      <td>3</td>\n",
       "      <td>female</td>\n",
       "      <td>26.0</td>\n",
       "      <td>0</td>\n",
       "      <td>0</td>\n",
       "      <td>STON/O2. 3101282</td>\n",
       "      <td>7.9250</td>\n",
       "      <td>S</td>\n",
       "    </tr>\n",
       "    <tr>\n",
       "      <th>3</th>\n",
       "      <td>1</td>\n",
       "      <td>1</td>\n",
       "      <td>female</td>\n",
       "      <td>35.0</td>\n",
       "      <td>1</td>\n",
       "      <td>0</td>\n",
       "      <td>113803</td>\n",
       "      <td>53.1000</td>\n",
       "      <td>S</td>\n",
       "    </tr>\n",
       "    <tr>\n",
       "      <th>4</th>\n",
       "      <td>0</td>\n",
       "      <td>3</td>\n",
       "      <td>male</td>\n",
       "      <td>35.0</td>\n",
       "      <td>0</td>\n",
       "      <td>0</td>\n",
       "      <td>373450</td>\n",
       "      <td>8.0500</td>\n",
       "      <td>S</td>\n",
       "    </tr>\n",
       "  </tbody>\n",
       "</table>\n",
       "</div>"
      ],
      "text/plain": [
       "   Survived  Pclass     Sex   Age  SibSp  Parch            Ticket     Fare  \\\n",
       "0         0       3    male  22.0      1      0         A/5 21171   7.2500   \n",
       "1         1       1  female  38.0      1      0          PC 17599  71.2833   \n",
       "2         1       3  female  26.0      0      0  STON/O2. 3101282   7.9250   \n",
       "3         1       1  female  35.0      1      0            113803  53.1000   \n",
       "4         0       3    male  35.0      0      0            373450   8.0500   \n",
       "\n",
       "  Embarked  \n",
       "0        S  \n",
       "1        C  \n",
       "2        S  \n",
       "3        S  \n",
       "4        S  "
      ]
     },
     "execution_count": 14,
     "metadata": {},
     "output_type": "execute_result"
    }
   ],
   "source": [
    "data.head()"
   ]
  },
  {
   "cell_type": "code",
   "execution_count": 15,
   "metadata": {
    "execution": {
     "iopub.execute_input": "2021-01-14T08:22:02.945479Z",
     "iopub.status.busy": "2021-01-14T08:22:02.943157Z",
     "iopub.status.idle": "2021-01-14T08:22:02.958286Z",
     "shell.execute_reply": "2021-01-14T08:22:02.957697Z"
    },
    "papermill": {
     "duration": 0.060343,
     "end_time": "2021-01-14T08:22:02.958404",
     "exception": false,
     "start_time": "2021-01-14T08:22:02.898061",
     "status": "completed"
    },
    "tags": []
   },
   "outputs": [],
   "source": [
    "#The categorical values should be encoded  \n",
    "le = LabelEncoder() \n",
    "one_hot = OneHotEncoder()\n",
    "\n",
    "  \n",
    "data['Sex']= le.fit_transform(data['Sex']) \n",
    "data_predict['Sex']= le.fit_transform(data_predict['Sex']) \n",
    "\n",
    "oe_results= one_hot.fit_transform(data[['Embarked']])\n",
    "oe_results_pre= one_hot.fit_transform(data_predict[['Embarked']])\n",
    "\n",
    "data = data.join(pd.DataFrame(oe_results.toarray(), columns=one_hot.categories_))\n",
    "data_predict= data_predict.join(pd.DataFrame(oe_results_pre.toarray(), columns=one_hot.categories_))\n",
    "\n",
    "\n"
   ]
  },
  {
   "cell_type": "code",
   "execution_count": 16,
   "metadata": {
    "execution": {
     "iopub.execute_input": "2021-01-14T08:22:03.038310Z",
     "iopub.status.busy": "2021-01-14T08:22:03.037597Z",
     "iopub.status.idle": "2021-01-14T08:22:03.041812Z",
     "shell.execute_reply": "2021-01-14T08:22:03.041199Z"
    },
    "papermill": {
     "duration": 0.052965,
     "end_time": "2021-01-14T08:22:03.041925",
     "exception": false,
     "start_time": "2021-01-14T08:22:02.988960",
     "status": "completed"
    },
    "tags": []
   },
   "outputs": [
    {
     "data": {
      "text/html": [
       "<div>\n",
       "<style scoped>\n",
       "    .dataframe tbody tr th:only-of-type {\n",
       "        vertical-align: middle;\n",
       "    }\n",
       "\n",
       "    .dataframe tbody tr th {\n",
       "        vertical-align: top;\n",
       "    }\n",
       "\n",
       "    .dataframe thead th {\n",
       "        text-align: right;\n",
       "    }\n",
       "</style>\n",
       "<table border=\"1\" class=\"dataframe\">\n",
       "  <thead>\n",
       "    <tr style=\"text-align: right;\">\n",
       "      <th></th>\n",
       "      <th>Pclass</th>\n",
       "      <th>Sex</th>\n",
       "      <th>Age</th>\n",
       "      <th>SibSp</th>\n",
       "      <th>Parch</th>\n",
       "      <th>Ticket</th>\n",
       "      <th>Fare</th>\n",
       "      <th>Embarked</th>\n",
       "      <th>(C,)</th>\n",
       "      <th>(Q,)</th>\n",
       "      <th>(S,)</th>\n",
       "    </tr>\n",
       "  </thead>\n",
       "  <tbody>\n",
       "    <tr>\n",
       "      <th>0</th>\n",
       "      <td>3</td>\n",
       "      <td>1</td>\n",
       "      <td>34.5</td>\n",
       "      <td>0</td>\n",
       "      <td>0</td>\n",
       "      <td>330911</td>\n",
       "      <td>7.8292</td>\n",
       "      <td>Q</td>\n",
       "      <td>0.0</td>\n",
       "      <td>1.0</td>\n",
       "      <td>0.0</td>\n",
       "    </tr>\n",
       "    <tr>\n",
       "      <th>1</th>\n",
       "      <td>3</td>\n",
       "      <td>0</td>\n",
       "      <td>47.0</td>\n",
       "      <td>1</td>\n",
       "      <td>0</td>\n",
       "      <td>363272</td>\n",
       "      <td>7.0000</td>\n",
       "      <td>S</td>\n",
       "      <td>0.0</td>\n",
       "      <td>0.0</td>\n",
       "      <td>1.0</td>\n",
       "    </tr>\n",
       "    <tr>\n",
       "      <th>2</th>\n",
       "      <td>2</td>\n",
       "      <td>1</td>\n",
       "      <td>62.0</td>\n",
       "      <td>0</td>\n",
       "      <td>0</td>\n",
       "      <td>240276</td>\n",
       "      <td>9.6875</td>\n",
       "      <td>Q</td>\n",
       "      <td>0.0</td>\n",
       "      <td>1.0</td>\n",
       "      <td>0.0</td>\n",
       "    </tr>\n",
       "    <tr>\n",
       "      <th>3</th>\n",
       "      <td>3</td>\n",
       "      <td>1</td>\n",
       "      <td>27.0</td>\n",
       "      <td>0</td>\n",
       "      <td>0</td>\n",
       "      <td>315154</td>\n",
       "      <td>8.6625</td>\n",
       "      <td>S</td>\n",
       "      <td>0.0</td>\n",
       "      <td>0.0</td>\n",
       "      <td>1.0</td>\n",
       "    </tr>\n",
       "    <tr>\n",
       "      <th>4</th>\n",
       "      <td>3</td>\n",
       "      <td>0</td>\n",
       "      <td>22.0</td>\n",
       "      <td>1</td>\n",
       "      <td>1</td>\n",
       "      <td>3101298</td>\n",
       "      <td>12.2875</td>\n",
       "      <td>S</td>\n",
       "      <td>0.0</td>\n",
       "      <td>0.0</td>\n",
       "      <td>1.0</td>\n",
       "    </tr>\n",
       "  </tbody>\n",
       "</table>\n",
       "</div>"
      ],
      "text/plain": [
       "   Pclass  Sex   Age  SibSp  Parch   Ticket     Fare Embarked  (C,)  (Q,)  \\\n",
       "0       3    1  34.5      0      0   330911   7.8292        Q   0.0   1.0   \n",
       "1       3    0  47.0      1      0   363272   7.0000        S   0.0   0.0   \n",
       "2       2    1  62.0      0      0   240276   9.6875        Q   0.0   1.0   \n",
       "3       3    1  27.0      0      0   315154   8.6625        S   0.0   0.0   \n",
       "4       3    0  22.0      1      1  3101298  12.2875        S   0.0   0.0   \n",
       "\n",
       "   (S,)  \n",
       "0   0.0  \n",
       "1   1.0  \n",
       "2   0.0  \n",
       "3   1.0  \n",
       "4   1.0  "
      ]
     },
     "execution_count": 16,
     "metadata": {},
     "output_type": "execute_result"
    }
   ],
   "source": [
    "data_predict.head()"
   ]
  },
  {
   "cell_type": "code",
   "execution_count": 17,
   "metadata": {
    "execution": {
     "iopub.execute_input": "2021-01-14T08:22:03.114215Z",
     "iopub.status.busy": "2021-01-14T08:22:03.113137Z",
     "iopub.status.idle": "2021-01-14T08:22:03.120381Z",
     "shell.execute_reply": "2021-01-14T08:22:03.120923Z"
    },
    "papermill": {
     "duration": 0.047968,
     "end_time": "2021-01-14T08:22:03.121061",
     "exception": false,
     "start_time": "2021-01-14T08:22:03.073093",
     "status": "completed"
    },
    "tags": []
   },
   "outputs": [],
   "source": [
    "data=data.drop([\"Ticket\",\"Embarked\"],axis=1)\n",
    "data_predict=data_predict.drop([\"Ticket\",\"Embarked\"],axis=1)"
   ]
  },
  {
   "cell_type": "code",
   "execution_count": 18,
   "metadata": {
    "execution": {
     "iopub.execute_input": "2021-01-14T08:22:03.219445Z",
     "iopub.status.busy": "2021-01-14T08:22:03.212818Z",
     "iopub.status.idle": "2021-01-14T08:22:03.223598Z",
     "shell.execute_reply": "2021-01-14T08:22:03.224517Z"
    },
    "papermill": {
     "duration": 0.068768,
     "end_time": "2021-01-14T08:22:03.224738",
     "exception": false,
     "start_time": "2021-01-14T08:22:03.155970",
     "status": "completed"
    },
    "tags": []
   },
   "outputs": [
    {
     "data": {
      "text/html": [
       "<div>\n",
       "<style scoped>\n",
       "    .dataframe tbody tr th:only-of-type {\n",
       "        vertical-align: middle;\n",
       "    }\n",
       "\n",
       "    .dataframe tbody tr th {\n",
       "        vertical-align: top;\n",
       "    }\n",
       "\n",
       "    .dataframe thead th {\n",
       "        text-align: right;\n",
       "    }\n",
       "</style>\n",
       "<table border=\"1\" class=\"dataframe\">\n",
       "  <thead>\n",
       "    <tr style=\"text-align: right;\">\n",
       "      <th></th>\n",
       "      <th>Survived</th>\n",
       "      <th>Pclass</th>\n",
       "      <th>Sex</th>\n",
       "      <th>Age</th>\n",
       "      <th>SibSp</th>\n",
       "      <th>Parch</th>\n",
       "      <th>Fare</th>\n",
       "      <th>(C,)</th>\n",
       "      <th>(Q,)</th>\n",
       "      <th>(S,)</th>\n",
       "    </tr>\n",
       "  </thead>\n",
       "  <tbody>\n",
       "    <tr>\n",
       "      <th>0</th>\n",
       "      <td>0</td>\n",
       "      <td>3</td>\n",
       "      <td>1</td>\n",
       "      <td>22.0</td>\n",
       "      <td>1</td>\n",
       "      <td>0</td>\n",
       "      <td>7.2500</td>\n",
       "      <td>0.0</td>\n",
       "      <td>0.0</td>\n",
       "      <td>1.0</td>\n",
       "    </tr>\n",
       "    <tr>\n",
       "      <th>1</th>\n",
       "      <td>1</td>\n",
       "      <td>1</td>\n",
       "      <td>0</td>\n",
       "      <td>38.0</td>\n",
       "      <td>1</td>\n",
       "      <td>0</td>\n",
       "      <td>71.2833</td>\n",
       "      <td>1.0</td>\n",
       "      <td>0.0</td>\n",
       "      <td>0.0</td>\n",
       "    </tr>\n",
       "    <tr>\n",
       "      <th>2</th>\n",
       "      <td>1</td>\n",
       "      <td>3</td>\n",
       "      <td>0</td>\n",
       "      <td>26.0</td>\n",
       "      <td>0</td>\n",
       "      <td>0</td>\n",
       "      <td>7.9250</td>\n",
       "      <td>0.0</td>\n",
       "      <td>0.0</td>\n",
       "      <td>1.0</td>\n",
       "    </tr>\n",
       "    <tr>\n",
       "      <th>3</th>\n",
       "      <td>1</td>\n",
       "      <td>1</td>\n",
       "      <td>0</td>\n",
       "      <td>35.0</td>\n",
       "      <td>1</td>\n",
       "      <td>0</td>\n",
       "      <td>53.1000</td>\n",
       "      <td>0.0</td>\n",
       "      <td>0.0</td>\n",
       "      <td>1.0</td>\n",
       "    </tr>\n",
       "    <tr>\n",
       "      <th>4</th>\n",
       "      <td>0</td>\n",
       "      <td>3</td>\n",
       "      <td>1</td>\n",
       "      <td>35.0</td>\n",
       "      <td>0</td>\n",
       "      <td>0</td>\n",
       "      <td>8.0500</td>\n",
       "      <td>0.0</td>\n",
       "      <td>0.0</td>\n",
       "      <td>1.0</td>\n",
       "    </tr>\n",
       "  </tbody>\n",
       "</table>\n",
       "</div>"
      ],
      "text/plain": [
       "   Survived  Pclass  Sex   Age  SibSp  Parch     Fare  (C,)  (Q,)  (S,)\n",
       "0         0       3    1  22.0      1      0   7.2500   0.0   0.0   1.0\n",
       "1         1       1    0  38.0      1      0  71.2833   1.0   0.0   0.0\n",
       "2         1       3    0  26.0      0      0   7.9250   0.0   0.0   1.0\n",
       "3         1       1    0  35.0      1      0  53.1000   0.0   0.0   1.0\n",
       "4         0       3    1  35.0      0      0   8.0500   0.0   0.0   1.0"
      ]
     },
     "execution_count": 18,
     "metadata": {},
     "output_type": "execute_result"
    }
   ],
   "source": [
    "data.head()"
   ]
  },
  {
   "cell_type": "code",
   "execution_count": 19,
   "metadata": {
    "execution": {
     "iopub.execute_input": "2021-01-14T08:22:03.326819Z",
     "iopub.status.busy": "2021-01-14T08:22:03.325859Z",
     "iopub.status.idle": "2021-01-14T08:22:03.330541Z",
     "shell.execute_reply": "2021-01-14T08:22:03.329822Z"
    },
    "papermill": {
     "duration": 0.063029,
     "end_time": "2021-01-14T08:22:03.330663",
     "exception": false,
     "start_time": "2021-01-14T08:22:03.267634",
     "status": "completed"
    },
    "tags": []
   },
   "outputs": [
    {
     "data": {
      "text/html": [
       "<div>\n",
       "<style scoped>\n",
       "    .dataframe tbody tr th:only-of-type {\n",
       "        vertical-align: middle;\n",
       "    }\n",
       "\n",
       "    .dataframe tbody tr th {\n",
       "        vertical-align: top;\n",
       "    }\n",
       "\n",
       "    .dataframe thead th {\n",
       "        text-align: right;\n",
       "    }\n",
       "</style>\n",
       "<table border=\"1\" class=\"dataframe\">\n",
       "  <thead>\n",
       "    <tr style=\"text-align: right;\">\n",
       "      <th></th>\n",
       "      <th>Pclass</th>\n",
       "      <th>Sex</th>\n",
       "      <th>Age</th>\n",
       "      <th>SibSp</th>\n",
       "      <th>Parch</th>\n",
       "      <th>Fare</th>\n",
       "      <th>(C,)</th>\n",
       "      <th>(Q,)</th>\n",
       "      <th>(S,)</th>\n",
       "    </tr>\n",
       "  </thead>\n",
       "  <tbody>\n",
       "    <tr>\n",
       "      <th>0</th>\n",
       "      <td>3</td>\n",
       "      <td>1</td>\n",
       "      <td>34.5</td>\n",
       "      <td>0</td>\n",
       "      <td>0</td>\n",
       "      <td>7.8292</td>\n",
       "      <td>0.0</td>\n",
       "      <td>1.0</td>\n",
       "      <td>0.0</td>\n",
       "    </tr>\n",
       "    <tr>\n",
       "      <th>1</th>\n",
       "      <td>3</td>\n",
       "      <td>0</td>\n",
       "      <td>47.0</td>\n",
       "      <td>1</td>\n",
       "      <td>0</td>\n",
       "      <td>7.0000</td>\n",
       "      <td>0.0</td>\n",
       "      <td>0.0</td>\n",
       "      <td>1.0</td>\n",
       "    </tr>\n",
       "    <tr>\n",
       "      <th>2</th>\n",
       "      <td>2</td>\n",
       "      <td>1</td>\n",
       "      <td>62.0</td>\n",
       "      <td>0</td>\n",
       "      <td>0</td>\n",
       "      <td>9.6875</td>\n",
       "      <td>0.0</td>\n",
       "      <td>1.0</td>\n",
       "      <td>0.0</td>\n",
       "    </tr>\n",
       "    <tr>\n",
       "      <th>3</th>\n",
       "      <td>3</td>\n",
       "      <td>1</td>\n",
       "      <td>27.0</td>\n",
       "      <td>0</td>\n",
       "      <td>0</td>\n",
       "      <td>8.6625</td>\n",
       "      <td>0.0</td>\n",
       "      <td>0.0</td>\n",
       "      <td>1.0</td>\n",
       "    </tr>\n",
       "    <tr>\n",
       "      <th>4</th>\n",
       "      <td>3</td>\n",
       "      <td>0</td>\n",
       "      <td>22.0</td>\n",
       "      <td>1</td>\n",
       "      <td>1</td>\n",
       "      <td>12.2875</td>\n",
       "      <td>0.0</td>\n",
       "      <td>0.0</td>\n",
       "      <td>1.0</td>\n",
       "    </tr>\n",
       "  </tbody>\n",
       "</table>\n",
       "</div>"
      ],
      "text/plain": [
       "   Pclass  Sex   Age  SibSp  Parch     Fare  (C,)  (Q,)  (S,)\n",
       "0       3    1  34.5      0      0   7.8292   0.0   1.0   0.0\n",
       "1       3    0  47.0      1      0   7.0000   0.0   0.0   1.0\n",
       "2       2    1  62.0      0      0   9.6875   0.0   1.0   0.0\n",
       "3       3    1  27.0      0      0   8.6625   0.0   0.0   1.0\n",
       "4       3    0  22.0      1      1  12.2875   0.0   0.0   1.0"
      ]
     },
     "execution_count": 19,
     "metadata": {},
     "output_type": "execute_result"
    }
   ],
   "source": [
    "data_predict.head()"
   ]
  },
  {
   "cell_type": "code",
   "execution_count": 20,
   "metadata": {
    "execution": {
     "iopub.execute_input": "2021-01-14T08:22:03.409822Z",
     "iopub.status.busy": "2021-01-14T08:22:03.406177Z",
     "iopub.status.idle": "2021-01-14T08:22:03.412651Z",
     "shell.execute_reply": "2021-01-14T08:22:03.413145Z"
    },
    "papermill": {
     "duration": 0.046785,
     "end_time": "2021-01-14T08:22:03.413304",
     "exception": false,
     "start_time": "2021-01-14T08:22:03.366519",
     "status": "completed"
    },
    "tags": []
   },
   "outputs": [],
   "source": [
    "#scale the all the columns so thar they have the same range\n",
    "standscaler=StandardScaler()\n",
    "data_predict = pd.DataFrame(standscaler.fit_transform(data_predict),columns = data_predict.columns)\n",
    "\n"
   ]
  },
  {
   "cell_type": "code",
   "execution_count": 21,
   "metadata": {
    "execution": {
     "iopub.execute_input": "2021-01-14T08:22:03.485475Z",
     "iopub.status.busy": "2021-01-14T08:22:03.484725Z",
     "iopub.status.idle": "2021-01-14T08:22:03.488432Z",
     "shell.execute_reply": "2021-01-14T08:22:03.487916Z"
    },
    "papermill": {
     "duration": 0.042735,
     "end_time": "2021-01-14T08:22:03.488546",
     "exception": false,
     "start_time": "2021-01-14T08:22:03.445811",
     "status": "completed"
    },
    "tags": []
   },
   "outputs": [],
   "source": [
    "X = data.drop('Survived',axis = 1)\n",
    "y = data['Survived']"
   ]
  },
  {
   "cell_type": "code",
   "execution_count": 22,
   "metadata": {
    "execution": {
     "iopub.execute_input": "2021-01-14T08:22:03.562779Z",
     "iopub.status.busy": "2021-01-14T08:22:03.561646Z",
     "iopub.status.idle": "2021-01-14T08:22:03.568922Z",
     "shell.execute_reply": "2021-01-14T08:22:03.568198Z"
    },
    "papermill": {
     "duration": 0.047805,
     "end_time": "2021-01-14T08:22:03.569040",
     "exception": false,
     "start_time": "2021-01-14T08:22:03.521235",
     "status": "completed"
    },
    "tags": []
   },
   "outputs": [],
   "source": [
    "X = pd.DataFrame(standscaler.fit_transform(X),columns = X.columns)\n"
   ]
  },
  {
   "cell_type": "code",
   "execution_count": 23,
   "metadata": {
    "execution": {
     "iopub.execute_input": "2021-01-14T08:22:03.655761Z",
     "iopub.status.busy": "2021-01-14T08:22:03.654944Z",
     "iopub.status.idle": "2021-01-14T08:22:03.658594Z",
     "shell.execute_reply": "2021-01-14T08:22:03.657941Z"
    },
    "papermill": {
     "duration": 0.052956,
     "end_time": "2021-01-14T08:22:03.658720",
     "exception": false,
     "start_time": "2021-01-14T08:22:03.605764",
     "status": "completed"
    },
    "tags": []
   },
   "outputs": [
    {
     "data": {
      "text/html": [
       "<div>\n",
       "<style scoped>\n",
       "    .dataframe tbody tr th:only-of-type {\n",
       "        vertical-align: middle;\n",
       "    }\n",
       "\n",
       "    .dataframe tbody tr th {\n",
       "        vertical-align: top;\n",
       "    }\n",
       "\n",
       "    .dataframe thead th {\n",
       "        text-align: right;\n",
       "    }\n",
       "</style>\n",
       "<table border=\"1\" class=\"dataframe\">\n",
       "  <thead>\n",
       "    <tr style=\"text-align: right;\">\n",
       "      <th></th>\n",
       "      <th>Pclass</th>\n",
       "      <th>Sex</th>\n",
       "      <th>Age</th>\n",
       "      <th>SibSp</th>\n",
       "      <th>Parch</th>\n",
       "      <th>Fare</th>\n",
       "      <th>(C,)</th>\n",
       "      <th>(Q,)</th>\n",
       "      <th>(S,)</th>\n",
       "    </tr>\n",
       "  </thead>\n",
       "  <tbody>\n",
       "    <tr>\n",
       "      <th>0</th>\n",
       "      <td>0.827377</td>\n",
       "      <td>0.737695</td>\n",
       "      <td>-0.592481</td>\n",
       "      <td>0.432793</td>\n",
       "      <td>-0.473674</td>\n",
       "      <td>-0.502445</td>\n",
       "      <td>-0.483810</td>\n",
       "      <td>-0.307562</td>\n",
       "      <td>0.617572</td>\n",
       "    </tr>\n",
       "    <tr>\n",
       "      <th>1</th>\n",
       "      <td>-1.566107</td>\n",
       "      <td>-1.355574</td>\n",
       "      <td>0.638789</td>\n",
       "      <td>0.432793</td>\n",
       "      <td>-0.473674</td>\n",
       "      <td>0.786845</td>\n",
       "      <td>2.066928</td>\n",
       "      <td>-0.307562</td>\n",
       "      <td>-1.619244</td>\n",
       "    </tr>\n",
       "    <tr>\n",
       "      <th>2</th>\n",
       "      <td>0.827377</td>\n",
       "      <td>-1.355574</td>\n",
       "      <td>-0.284663</td>\n",
       "      <td>-0.474545</td>\n",
       "      <td>-0.473674</td>\n",
       "      <td>-0.488854</td>\n",
       "      <td>-0.483810</td>\n",
       "      <td>-0.307562</td>\n",
       "      <td>0.617572</td>\n",
       "    </tr>\n",
       "    <tr>\n",
       "      <th>3</th>\n",
       "      <td>-1.566107</td>\n",
       "      <td>-1.355574</td>\n",
       "      <td>0.407926</td>\n",
       "      <td>0.432793</td>\n",
       "      <td>-0.473674</td>\n",
       "      <td>0.420730</td>\n",
       "      <td>-0.483810</td>\n",
       "      <td>-0.307562</td>\n",
       "      <td>0.617572</td>\n",
       "    </tr>\n",
       "    <tr>\n",
       "      <th>4</th>\n",
       "      <td>0.827377</td>\n",
       "      <td>0.737695</td>\n",
       "      <td>0.407926</td>\n",
       "      <td>-0.474545</td>\n",
       "      <td>-0.473674</td>\n",
       "      <td>-0.486337</td>\n",
       "      <td>-0.483810</td>\n",
       "      <td>-0.307562</td>\n",
       "      <td>0.617572</td>\n",
       "    </tr>\n",
       "  </tbody>\n",
       "</table>\n",
       "</div>"
      ],
      "text/plain": [
       "     Pclass       Sex       Age     SibSp     Parch      Fare      (C,)  \\\n",
       "0  0.827377  0.737695 -0.592481  0.432793 -0.473674 -0.502445 -0.483810   \n",
       "1 -1.566107 -1.355574  0.638789  0.432793 -0.473674  0.786845  2.066928   \n",
       "2  0.827377 -1.355574 -0.284663 -0.474545 -0.473674 -0.488854 -0.483810   \n",
       "3 -1.566107 -1.355574  0.407926  0.432793 -0.473674  0.420730 -0.483810   \n",
       "4  0.827377  0.737695  0.407926 -0.474545 -0.473674 -0.486337 -0.483810   \n",
       "\n",
       "       (Q,)      (S,)  \n",
       "0 -0.307562  0.617572  \n",
       "1 -0.307562 -1.619244  \n",
       "2 -0.307562  0.617572  \n",
       "3 -0.307562  0.617572  \n",
       "4 -0.307562  0.617572  "
      ]
     },
     "execution_count": 23,
     "metadata": {},
     "output_type": "execute_result"
    }
   ],
   "source": [
    "\n",
    "X.head()"
   ]
  },
  {
   "cell_type": "code",
   "execution_count": 24,
   "metadata": {
    "execution": {
     "iopub.execute_input": "2021-01-14T08:22:03.737435Z",
     "iopub.status.busy": "2021-01-14T08:22:03.736416Z",
     "iopub.status.idle": "2021-01-14T08:22:03.740389Z",
     "shell.execute_reply": "2021-01-14T08:22:03.739836Z"
    },
    "papermill": {
     "duration": 0.044563,
     "end_time": "2021-01-14T08:22:03.740505",
     "exception": false,
     "start_time": "2021-01-14T08:22:03.695942",
     "status": "completed"
    },
    "tags": []
   },
   "outputs": [
    {
     "data": {
      "text/plain": [
       "Pclass    0\n",
       "Sex       0\n",
       "Age       0\n",
       "SibSp     0\n",
       "Parch     0\n",
       "Fare      0\n",
       "(C,)      0\n",
       "(Q,)      0\n",
       "(S,)      0\n",
       "dtype: int64"
      ]
     },
     "execution_count": 24,
     "metadata": {},
     "output_type": "execute_result"
    }
   ],
   "source": [
    "data_predict.isnull().sum()"
   ]
  },
  {
   "cell_type": "markdown",
   "metadata": {
    "papermill": {
     "duration": 0.03445,
     "end_time": "2021-01-14T08:22:03.809239",
     "exception": false,
     "start_time": "2021-01-14T08:22:03.774789",
     "status": "completed"
    },
    "tags": []
   },
   "source": [
    "# Training the model"
   ]
  },
  {
   "cell_type": "code",
   "execution_count": 25,
   "metadata": {
    "execution": {
     "iopub.execute_input": "2021-01-14T08:22:03.890959Z",
     "iopub.status.busy": "2021-01-14T08:22:03.890231Z",
     "iopub.status.idle": "2021-01-14T08:22:09.220804Z",
     "shell.execute_reply": "2021-01-14T08:22:09.221873Z"
    },
    "papermill": {
     "duration": 5.378166,
     "end_time": "2021-01-14T08:22:09.222058",
     "exception": false,
     "start_time": "2021-01-14T08:22:03.843892",
     "status": "completed"
    },
    "tags": []
   },
   "outputs": [
    {
     "name": "stdout",
     "output_type": "stream",
     "text": [
      "0.7969163545568041\n",
      "0.795705368289638\n",
      "0.8187578027465667\n",
      "0.7856242197253434\n",
      "0.7783021223470661\n",
      "0.8069225967540575\n",
      "0.812621722846442\n"
     ]
    }
   ],
   "source": [
    "\n",
    "seed = 7\n",
    "# preparing models\n",
    "models = []\n",
    "models.append(('LR', LogisticRegression()))\n",
    "models.append(('LDA', LinearDiscriminantAnalysis()))\n",
    "models.append(('GradientBoostingClassifier', GradientBoostingClassifier(learning_rate=0.01)))\n",
    "models.append(('CART', DecisionTreeClassifier()))\n",
    "models.append(('NB', GaussianNB()))\n",
    "models.append(('NB', RandomForestClassifier(n_estimators=10,criterion = 'entropy')))\n",
    "\n",
    "models.append(('XGBClassifier', XGBClassifier()))\n",
    "\n",
    "for name,model in models:\n",
    "    cv = RepeatedStratifiedKFold(n_splits=10, n_repeats=2)\n",
    "    \n",
    "    \n",
    "    cv_results = model_selection.cross_val_score(model, X, y, cv=cv, scoring=\"accuracy\").mean()\n",
    "    \n",
    "    print (cv_results)\n",
    "\n"
   ]
  },
  {
   "cell_type": "code",
   "execution_count": 26,
   "metadata": {
    "execution": {
     "iopub.execute_input": "2021-01-14T08:22:09.335332Z",
     "iopub.status.busy": "2021-01-14T08:22:09.334551Z",
     "iopub.status.idle": "2021-01-14T08:22:09.486583Z",
     "shell.execute_reply": "2021-01-14T08:22:09.487533Z"
    },
    "papermill": {
     "duration": 0.218014,
     "end_time": "2021-01-14T08:22:09.487685",
     "exception": false,
     "start_time": "2021-01-14T08:22:09.269671",
     "status": "completed"
    },
    "tags": []
   },
   "outputs": [],
   "source": [
    "#choose the final model depending on Cross validation accuracy\n",
    "classifier=GradientBoostingClassifier(learning_rate=0.01)\n",
    "# classifier=GaussianNB()\n",
    "classifier.fit(X,y)\n",
    "y_prdict_t=classifier.predict(X)\n",
    "\n"
   ]
  },
  {
   "cell_type": "markdown",
   "metadata": {
    "papermill": {
     "duration": 0.035676,
     "end_time": "2021-01-14T08:22:09.559601",
     "exception": false,
     "start_time": "2021-01-14T08:22:09.523925",
     "status": "completed"
    },
    "tags": []
   },
   "source": [
    "# Evaluate accuracy of the model"
   ]
  },
  {
   "cell_type": "code",
   "execution_count": 27,
   "metadata": {
    "execution": {
     "iopub.execute_input": "2021-01-14T08:22:09.639792Z",
     "iopub.status.busy": "2021-01-14T08:22:09.638757Z",
     "iopub.status.idle": "2021-01-14T08:22:09.649149Z",
     "shell.execute_reply": "2021-01-14T08:22:09.649770Z"
    },
    "papermill": {
     "duration": 0.054245,
     "end_time": "2021-01-14T08:22:09.649925",
     "exception": false,
     "start_time": "2021-01-14T08:22:09.595680",
     "status": "completed"
    },
    "tags": []
   },
   "outputs": [],
   "source": [
    "acc_score=accuracy_score(y,y_prdict_t)\n",
    "prec_score=precision_score(y,y_prdict_t)\n",
    "confusion_mat=confusion_matrix(y,y_prdict_t)\n",
    "y_predict=classifier.predict(data_predict)"
   ]
  },
  {
   "cell_type": "code",
   "execution_count": 28,
   "metadata": {
    "execution": {
     "iopub.execute_input": "2021-01-14T08:22:09.727925Z",
     "iopub.status.busy": "2021-01-14T08:22:09.726831Z",
     "iopub.status.idle": "2021-01-14T08:22:09.732822Z",
     "shell.execute_reply": "2021-01-14T08:22:09.733416Z"
    },
    "papermill": {
     "duration": 0.046274,
     "end_time": "2021-01-14T08:22:09.733560",
     "exception": false,
     "start_time": "2021-01-14T08:22:09.687286",
     "status": "completed"
    },
    "tags": []
   },
   "outputs": [],
   "source": [
    "submission = pd.DataFrame({'PassengerId':data_predict_ori[\"PassengerId\"],'Survived':y_predict})"
   ]
  },
  {
   "cell_type": "code",
   "execution_count": 29,
   "metadata": {
    "execution": {
     "iopub.execute_input": "2021-01-14T08:22:09.811342Z",
     "iopub.status.busy": "2021-01-14T08:22:09.810322Z",
     "iopub.status.idle": "2021-01-14T08:22:09.817285Z",
     "shell.execute_reply": "2021-01-14T08:22:09.816758Z"
    },
    "papermill": {
     "duration": 0.046844,
     "end_time": "2021-01-14T08:22:09.817404",
     "exception": false,
     "start_time": "2021-01-14T08:22:09.770560",
     "status": "completed"
    },
    "tags": []
   },
   "outputs": [
    {
     "data": {
      "text/plain": [
       "418"
      ]
     },
     "execution_count": 29,
     "metadata": {},
     "output_type": "execute_result"
    }
   ],
   "source": [
    "len(submission)"
   ]
  },
  {
   "cell_type": "code",
   "execution_count": 30,
   "metadata": {
    "execution": {
     "iopub.execute_input": "2021-01-14T08:22:09.897980Z",
     "iopub.status.busy": "2021-01-14T08:22:09.896994Z",
     "iopub.status.idle": "2021-01-14T08:22:10.157194Z",
     "shell.execute_reply": "2021-01-14T08:22:10.156602Z"
    },
    "papermill": {
     "duration": 0.302432,
     "end_time": "2021-01-14T08:22:10.157349",
     "exception": false,
     "start_time": "2021-01-14T08:22:09.854917",
     "status": "completed"
    },
    "tags": []
   },
   "outputs": [],
   "source": [
    "submission.to_csv('submission.csv',index=False)"
   ]
  },
  {
   "cell_type": "code",
   "execution_count": null,
   "metadata": {
    "papermill": {
     "duration": 0.036921,
     "end_time": "2021-01-14T08:22:10.231847",
     "exception": false,
     "start_time": "2021-01-14T08:22:10.194926",
     "status": "completed"
    },
    "tags": []
   },
   "outputs": [],
   "source": []
  }
 ],
 "metadata": {
  "kernelspec": {
   "display_name": "Python 3",
   "language": "python",
   "name": "python3"
  },
  "language_info": {
   "codemirror_mode": {
    "name": "ipython",
    "version": 3
   },
   "file_extension": ".py",
   "mimetype": "text/x-python",
   "name": "python",
   "nbconvert_exporter": "python",
   "pygments_lexer": "ipython3",
   "version": "3.7.6"
  },
  "papermill": {
   "duration": 16.429534,
   "end_time": "2021-01-14T08:22:10.377950",
   "environment_variables": {},
   "exception": null,
   "input_path": "__notebook__.ipynb",
   "output_path": "__notebook__.ipynb",
   "parameters": {},
   "start_time": "2021-01-14T08:21:53.948416",
   "version": "2.1.0"
  }
 },
 "nbformat": 4,
 "nbformat_minor": 4
}
