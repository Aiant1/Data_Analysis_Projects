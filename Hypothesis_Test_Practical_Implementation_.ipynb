{
  "nbformat": 4,
  "nbformat_minor": 0,
  "metadata": {
    "kernelspec": {
      "display_name": "Python 3",
      "language": "python",
      "name": "python3"
    },
    "language_info": {
      "codemirror_mode": {
        "name": "ipython",
        "version": 3
      },
      "file_extension": ".py",
      "mimetype": "text/x-python",
      "name": "python",
      "nbconvert_exporter": "python",
      "pygments_lexer": "ipython3",
      "version": "3.7.3"
    },
    "colab": {
      "name": "Hypothesis Test Practical Implementation .ipynb",
      "provenance": [],
      "collapsed_sections": [
        "sY-sS_YRypvs"
      ],
      "include_colab_link": true
    }
  },
  "cells": [
    {
      "cell_type": "markdown",
      "metadata": {
        "id": "view-in-github",
        "colab_type": "text"
      },
      "source": [
        "<a href=\"https://colab.research.google.com/github/Antikadas1/Data_Analysis_Projects/blob/main/Hypothesis_Test_Practical_Implementation_.ipynb\" target=\"_parent\"><img src=\"https://colab.research.google.com/assets/colab-badge.svg\" alt=\"Open In Colab\"/></a>"
      ]
    },
    {
      "cell_type": "markdown",
      "metadata": {
        "id": "OR41r8Tzypvh"
      },
      "source": [
        "# Variants of Hypothesis testing"
      ]
    },
    {
      "cell_type": "markdown",
      "metadata": {
        "id": "rxAKoHh7ypvi"
      },
      "source": [
        "# Process of Hypothesis testing"
      ]
    },
    {
      "cell_type": "markdown",
      "metadata": {
        "id": "BfaId-daypvj"
      },
      "source": [
        "# lets do some practical implemetation:"
      ]
    },
    {
      "cell_type": "markdown",
      "metadata": {
        "id": "m1K6OIGhypvj"
      },
      "source": [
        "# Normality test using Shapiro-Wilk Test : tests If data is normally distributed \n",
        "Assumption : Observations are identically distributed"
      ]
    },
    {
      "cell_type": "code",
      "metadata": {
        "id": "O5kBDvNAypvk"
      },
      "source": [
        "#Data Import\n",
        "import pandas as pd\n",
        "WineData = pd.read_csv(\"winequality-red.csv\")"
      ],
      "execution_count": null,
      "outputs": []
    },
    {
      "cell_type": "code",
      "metadata": {
        "colab": {
          "base_uri": "https://localhost:8080/"
        },
        "id": "ckcYn2z1Xk_l",
        "outputId": "76631433-765a-4ba0-aa3c-c56a01e1961c"
      },
      "source": [
        "len(WineData)"
      ],
      "execution_count": null,
      "outputs": [
        {
          "output_type": "execute_result",
          "data": {
            "text/plain": [
              "1599"
            ]
          },
          "metadata": {
            "tags": []
          },
          "execution_count": 2
        }
      ]
    },
    {
      "cell_type": "code",
      "metadata": {
        "colab": {
          "base_uri": "https://localhost:8080/",
          "height": 257
        },
        "id": "zLpL0pqmypvk",
        "outputId": "62a01568-e6ee-4539-ddfe-e2af20a01be8"
      },
      "source": [
        "WineData.head()"
      ],
      "execution_count": null,
      "outputs": [
        {
          "output_type": "execute_result",
          "data": {
            "text/html": [
              "<div>\n",
              "<style scoped>\n",
              "    .dataframe tbody tr th:only-of-type {\n",
              "        vertical-align: middle;\n",
              "    }\n",
              "\n",
              "    .dataframe tbody tr th {\n",
              "        vertical-align: top;\n",
              "    }\n",
              "\n",
              "    .dataframe thead th {\n",
              "        text-align: right;\n",
              "    }\n",
              "</style>\n",
              "<table border=\"1\" class=\"dataframe\">\n",
              "  <thead>\n",
              "    <tr style=\"text-align: right;\">\n",
              "      <th></th>\n",
              "      <th>fixed acidity</th>\n",
              "      <th>volatile acidity</th>\n",
              "      <th>citric acid</th>\n",
              "      <th>residual sugar</th>\n",
              "      <th>chlorides</th>\n",
              "      <th>free sulfur dioxide</th>\n",
              "      <th>total sulfur dioxide</th>\n",
              "      <th>density</th>\n",
              "      <th>pH</th>\n",
              "      <th>sulphates</th>\n",
              "      <th>alcohol</th>\n",
              "      <th>quality</th>\n",
              "    </tr>\n",
              "  </thead>\n",
              "  <tbody>\n",
              "    <tr>\n",
              "      <th>0</th>\n",
              "      <td>7.4</td>\n",
              "      <td>0.70</td>\n",
              "      <td>0.00</td>\n",
              "      <td>1.9</td>\n",
              "      <td>0.076</td>\n",
              "      <td>11.0</td>\n",
              "      <td>34.0</td>\n",
              "      <td>0.9978</td>\n",
              "      <td>3.51</td>\n",
              "      <td>0.56</td>\n",
              "      <td>9.4</td>\n",
              "      <td>5</td>\n",
              "    </tr>\n",
              "    <tr>\n",
              "      <th>1</th>\n",
              "      <td>7.8</td>\n",
              "      <td>0.88</td>\n",
              "      <td>0.00</td>\n",
              "      <td>2.6</td>\n",
              "      <td>0.098</td>\n",
              "      <td>25.0</td>\n",
              "      <td>67.0</td>\n",
              "      <td>0.9968</td>\n",
              "      <td>3.20</td>\n",
              "      <td>0.68</td>\n",
              "      <td>9.8</td>\n",
              "      <td>5</td>\n",
              "    </tr>\n",
              "    <tr>\n",
              "      <th>2</th>\n",
              "      <td>7.8</td>\n",
              "      <td>0.76</td>\n",
              "      <td>0.04</td>\n",
              "      <td>2.3</td>\n",
              "      <td>0.092</td>\n",
              "      <td>15.0</td>\n",
              "      <td>54.0</td>\n",
              "      <td>0.9970</td>\n",
              "      <td>3.26</td>\n",
              "      <td>0.65</td>\n",
              "      <td>9.8</td>\n",
              "      <td>5</td>\n",
              "    </tr>\n",
              "    <tr>\n",
              "      <th>3</th>\n",
              "      <td>11.2</td>\n",
              "      <td>0.28</td>\n",
              "      <td>0.56</td>\n",
              "      <td>1.9</td>\n",
              "      <td>0.075</td>\n",
              "      <td>17.0</td>\n",
              "      <td>60.0</td>\n",
              "      <td>0.9980</td>\n",
              "      <td>3.16</td>\n",
              "      <td>0.58</td>\n",
              "      <td>9.8</td>\n",
              "      <td>6</td>\n",
              "    </tr>\n",
              "    <tr>\n",
              "      <th>4</th>\n",
              "      <td>7.4</td>\n",
              "      <td>0.70</td>\n",
              "      <td>0.00</td>\n",
              "      <td>1.9</td>\n",
              "      <td>0.076</td>\n",
              "      <td>11.0</td>\n",
              "      <td>34.0</td>\n",
              "      <td>0.9978</td>\n",
              "      <td>3.51</td>\n",
              "      <td>0.56</td>\n",
              "      <td>9.4</td>\n",
              "      <td>5</td>\n",
              "    </tr>\n",
              "  </tbody>\n",
              "</table>\n",
              "</div>"
            ],
            "text/plain": [
              "   fixed acidity  volatile acidity  citric acid  ...  sulphates  alcohol  quality\n",
              "0            7.4              0.70         0.00  ...       0.56      9.4        5\n",
              "1            7.8              0.88         0.00  ...       0.68      9.8        5\n",
              "2            7.8              0.76         0.04  ...       0.65      9.8        5\n",
              "3           11.2              0.28         0.56  ...       0.58      9.8        6\n",
              "4            7.4              0.70         0.00  ...       0.56      9.4        5\n",
              "\n",
              "[5 rows x 12 columns]"
            ]
          },
          "metadata": {
            "tags": []
          },
          "execution_count": 2
        }
      ]
    },
    {
      "cell_type": "code",
      "metadata": {
        "id": "o8mGTFfuYoHe"
      },
      "source": [
        ""
      ],
      "execution_count": null,
      "outputs": []
    },
    {
      "cell_type": "code",
      "metadata": {
        "colab": {
          "base_uri": "https://localhost:8080/",
          "height": 339
        },
        "id": "vp7LzuH1ypvl",
        "outputId": "ea98117f-f448-405a-9dcd-bccdcc170496"
      },
      "source": [
        "#Cheking Histogram\n",
        "import matplotlib\n",
        "from matplotlib import pyplot \n",
        "%matplotlib inline\n",
        "pyplot.figure(figsize=(14,6))\n",
        "pyplot.hist(WineData['volatile acidity'])\n",
        "pyplot.show()"
      ],
      "execution_count": null,
      "outputs": [
        {
          "output_type": "display_data",
          "data": {
            "image/png": "[encoded data removed]",
            "text/plain": [
              "<Figure size 1008x432 with 1 Axes>"
            ]
          },
          "metadata": {
            "tags": [],
            "needs_background": "light"
          }
        }
      ]
    },
    {
      "cell_type": "code",
      "metadata": {
        "colab": {
          "base_uri": "https://localhost:8080/"
        },
        "id": "_kDzNl8cypvl",
        "outputId": "07a5d5e6-bb71-4c11-c580-6685a09100a2"
      },
      "source": [
        "#Help from Python\n",
        "#the smaller the p-value, the stronger the evidence that you should reject the null hypothesis\n",
        "\n",
        "ho=\"normaly distributed\"\n",
        "\n",
        "from scipy.stats import shapiro\n",
        "\n",
        "DataToTest = WineData['volatile acidity']\n",
        "\n",
        "stat, p = shapiro(DataToTest)\n",
        "\n",
        "print('stat=%.2f, p=%.30f' % (stat, p))\n",
        "\n",
        "alpha=0.05\n",
        "\n",
        "#if p<0.05/alpha h0 is not \n",
        "if p > alpha:\n",
        "    print('Normal distribution')\n",
        "else:\n",
        "    print('Not a normal distribution')"
      ],
      "execution_count": null,
      "outputs": [
        {
          "output_type": "stream",
          "text": [
            "stat=0.97, p=0.000000000000000268680677283857\n",
            "Not a normal distribution\n"
          ],
          "name": "stdout"
        }
      ]
    },
    {
      "cell_type": "code",
      "metadata": {
        "id": "0AC2ZcK6ypvm"
      },
      "source": [
        "#Lets genrate normally distributed data from Python\n",
        "from numpy.random import randn\n",
        "DataToTest = randn(100)"
      ],
      "execution_count": null,
      "outputs": []
    },
    {
      "cell_type": "code",
      "metadata": {
        "colab": {
          "base_uri": "https://localhost:8080/"
        },
        "id": "kx7cBdXyypvm",
        "outputId": "fc9f3c33-4bb6-4ea7-c78c-486798864eed"
      },
      "source": [
        "DataToTest"
      ],
      "execution_count": null,
      "outputs": [
        {
          "output_type": "execute_result",
          "data": {
            "text/plain": [
              "array([-1.26835175,  0.39519958, -1.34066502, -0.07486318,  0.49628157,\n",
              "        0.55320107, -0.13219699,  1.51713582,  1.22791908, -0.54461467,\n",
              "       -0.98165942,  0.05235275, -0.0420821 , -1.32850809,  2.02985811,\n",
              "        0.08841611, -0.40327596,  0.10328189, -1.04265866, -0.52618444,\n",
              "       -0.34065605, -0.3682545 ,  0.84636525, -0.64795336,  0.85422184,\n",
              "        0.51138591, -0.2505193 ,  0.58065867,  1.36814427, -0.848968  ,\n",
              "       -1.41730206, -0.07349661, -0.76240099, -0.61145997, -0.39049219,\n",
              "        1.60048252, -0.08686128,  1.27805609,  0.28706832,  0.13707852,\n",
              "        1.75805872,  0.36130711,  0.97660949, -0.73873852, -0.29463218,\n",
              "        0.37949245, -0.17714034,  0.90840786,  0.50410535, -0.13996203,\n",
              "        0.60077083,  1.47787588, -0.18546041, -0.35638544,  0.25356097,\n",
              "        1.03398434,  0.66387009, -1.49980933,  1.29807202,  1.46311513,\n",
              "        0.29274165, -0.79833951, -0.41515497,  0.47696922, -1.61150569,\n",
              "        0.51229154,  1.47821002, -0.47742382,  0.42627255, -1.3181513 ,\n",
              "        0.54583783,  0.79208169, -0.95797297, -0.58396672,  1.2446066 ,\n",
              "        0.83289194, -0.55237556, -0.34687946,  0.50780619, -1.02024718,\n",
              "       -1.41418265, -0.53426106, -0.92568767, -1.33917363, -1.39412427,\n",
              "       -0.45722805,  1.1113049 , -0.39918058, -0.28012401,  0.81049181,\n",
              "        0.58715867, -0.06241565,  1.38894738,  1.08531876,  1.20926864,\n",
              "        0.29046242, -0.14859126, -1.31779181, -1.82356617, -0.05811581])"
            ]
          },
          "metadata": {
            "tags": []
          },
          "execution_count": 6
        }
      ]
    },
    {
      "cell_type": "code",
      "metadata": {
        "scrolled": true,
        "colab": {
          "base_uri": "https://localhost:8080/"
        },
        "id": "msBh67UOypvm",
        "outputId": "c66f177c-7d01-4049-f98b-c99366d15b85"
      },
      "source": [
        "stat, p = shapiro(DataToTest)\n",
        "\n",
        "print('stat=%.2f, p=%.30f' % (stat, p))\n",
        "\n",
        "if p > 0.05:\n",
        "    print('Normal distribution')\n",
        "else:\n",
        "    print('Not a normal distribution')"
      ],
      "execution_count": null,
      "outputs": [
        {
          "output_type": "stream",
          "text": [
            "stat=0.98, p=0.200424879789352416992187500000\n",
            "Normal distribution\n"
          ],
          "name": "stdout"
        }
      ]
    },
    {
      "cell_type": "markdown",
      "metadata": {
        "id": "4ANuoeKUypvn"
      },
      "source": [
        "# Normality test using K^2 Normality Test Test : tests If data is normally distributed \n",
        "Assumption : Observations are identically distributed"
      ]
    },
    {
      "cell_type": "code",
      "metadata": {
        "colab": {
          "base_uri": "https://localhost:8080/"
        },
        "id": "0x66Pe3Bypvn",
        "outputId": "bb857a5c-58a5-477e-8dcf-83365662461b"
      },
      "source": [
        "# Example of the D'Agostino's K^2 Normality Test\n",
        "from scipy.stats import normaltest\n",
        "DataToTest = WineData['volatile acidity']\n",
        "\n",
        "#statisticfloat or array\n",
        "#s^2 + k^2, where s is the z-score returned by skewtest and k is the z-score returned by kurtosistest.\n",
        "\n",
        "stat, p = normaltest(DataToTest)\n",
        "\n",
        "print('stat=%.10f, p=%.10f' % (stat, p))\n",
        "\n",
        "if p > 0.05:\n",
        "    print('Normal')\n",
        "\n",
        "else:\n",
        "    print('Not Normllay distributed')"
      ],
      "execution_count": null,
      "outputs": [
        {
          "output_type": "stream",
          "text": [
            "stat=143.4193435598, p=0.0000000000\n",
            "Not Normllay distributed\n"
          ],
          "name": "stdout"
        }
      ]
    },
    {
      "cell_type": "markdown",
      "metadata": {
        "id": "xTROBSLqypvn"
      },
      "source": [
        "# Correlation Test - Pearson and Spearman’s Rank Correlation\n",
        "Asumption - Identical and Normal Distribution"
      ]
    },
    {
      "cell_type": "code",
      "metadata": {
        "colab": {
          "base_uri": "https://localhost:8080/",
          "height": 265
        },
        "id": "8CG4ZeNOypvn",
        "outputId": "e6d81a3f-c794-427f-e3fb-c8ddd2131b3f"
      },
      "source": [
        "FirstSample = WineData[1:30]['total sulfur dioxide']\n",
        "SecondSample = WineData[1:30]['free sulfur dioxide']\n",
        "\n",
        "pyplot.plot(FirstSample,SecondSample)\n",
        "pyplot.show()"
      ],
      "execution_count": null,
      "outputs": [
        {
          "output_type": "display_data",
          "data": {
            "image/png": "[encoded data removed]",
            "text/plain": [
              "<Figure size 432x288 with 1 Axes>"
            ]
          },
          "metadata": {
            "tags": [],
            "needs_background": "light"
          }
        }
      ]
    },
    {
      "cell_type": "code",
      "metadata": {
        "id": "Rae8QJ7Bypvo"
      },
      "source": [
        "ho=\"our data is not co-related\""
      ],
      "execution_count": null,
      "outputs": []
    },
    {
      "cell_type": "code",
      "metadata": {
        "colab": {
          "base_uri": "https://localhost:8080/"
        },
        "id": "I2uXXPgoypvo",
        "outputId": "e7930cb6-b930-4547-f95b-f0bb99fcc4a2"
      },
      "source": [
        "#pearson correlation\n",
        "from scipy.stats import pearsonr\n",
        "stat, p = pearsonr(FirstSample, SecondSample)\n",
        "print('stat=%.3f, p=%5f' % (stat, p))\n",
        "if p > 0.05:\n",
        "    print('independent samples')\n",
        "else:\n",
        "    print('dependent samples')"
      ],
      "execution_count": null,
      "outputs": [
        {
          "output_type": "stream",
          "text": [
            "stat=0.855, p=0.000000\n",
            "dependent samples\n"
          ],
          "name": "stdout"
        }
      ]
    },
    {
      "cell_type": "code",
      "metadata": {
        "colab": {
          "base_uri": "https://localhost:8080/",
          "height": 593
        },
        "id": "aiNqdAGsypvp",
        "outputId": "6f31f9fd-ab69-4a20-d880-64bde0c5012e"
      },
      "source": [
        "WineData[1:30].corr(method=\"pearson\")"
      ],
      "execution_count": null,
      "outputs": [
        {
          "output_type": "execute_result",
          "data": {
            "text/html": [
              "<div>\n",
              "<style scoped>\n",
              "    .dataframe tbody tr th:only-of-type {\n",
              "        vertical-align: middle;\n",
              "    }\n",
              "\n",
              "    .dataframe tbody tr th {\n",
              "        vertical-align: top;\n",
              "    }\n",
              "\n",
              "    .dataframe thead th {\n",
              "        text-align: right;\n",
              "    }\n",
              "</style>\n",
              "<table border=\"1\" class=\"dataframe\">\n",
              "  <thead>\n",
              "    <tr style=\"text-align: right;\">\n",
              "      <th></th>\n",
              "      <th>fixed acidity</th>\n",
              "      <th>volatile acidity</th>\n",
              "      <th>citric acid</th>\n",
              "      <th>residual sugar</th>\n",
              "      <th>chlorides</th>\n",
              "      <th>free sulfur dioxide</th>\n",
              "      <th>total sulfur dioxide</th>\n",
              "      <th>density</th>\n",
              "      <th>pH</th>\n",
              "      <th>sulphates</th>\n",
              "      <th>alcohol</th>\n",
              "      <th>quality</th>\n",
              "    </tr>\n",
              "  </thead>\n",
              "  <tbody>\n",
              "    <tr>\n",
              "      <th>fixed acidity</th>\n",
              "      <td>1.000000</td>\n",
              "      <td>-0.325296</td>\n",
              "      <td>0.553331</td>\n",
              "      <td>0.064789</td>\n",
              "      <td>0.145997</td>\n",
              "      <td>0.369643</td>\n",
              "      <td>0.351803</td>\n",
              "      <td>0.558823</td>\n",
              "      <td>-0.554355</td>\n",
              "      <td>0.176146</td>\n",
              "      <td>-0.014915</td>\n",
              "      <td>0.232732</td>\n",
              "    </tr>\n",
              "    <tr>\n",
              "      <th>volatile acidity</th>\n",
              "      <td>-0.325296</td>\n",
              "      <td>1.000000</td>\n",
              "      <td>-0.808892</td>\n",
              "      <td>0.086848</td>\n",
              "      <td>-0.086997</td>\n",
              "      <td>-0.046489</td>\n",
              "      <td>-0.045020</td>\n",
              "      <td>-0.018832</td>\n",
              "      <td>0.176232</td>\n",
              "      <td>-0.058765</td>\n",
              "      <td>-0.116946</td>\n",
              "      <td>-0.323907</td>\n",
              "    </tr>\n",
              "    <tr>\n",
              "      <th>citric acid</th>\n",
              "      <td>0.553331</td>\n",
              "      <td>-0.808892</td>\n",
              "      <td>1.000000</td>\n",
              "      <td>0.163451</td>\n",
              "      <td>0.302150</td>\n",
              "      <td>0.273691</td>\n",
              "      <td>0.356156</td>\n",
              "      <td>0.321183</td>\n",
              "      <td>-0.402765</td>\n",
              "      <td>0.404090</td>\n",
              "      <td>0.247358</td>\n",
              "      <td>0.246825</td>\n",
              "    </tr>\n",
              "    <tr>\n",
              "      <th>residual sugar</th>\n",
              "      <td>0.064789</td>\n",
              "      <td>0.086848</td>\n",
              "      <td>0.163451</td>\n",
              "      <td>1.000000</td>\n",
              "      <td>-0.069497</td>\n",
              "      <td>0.278564</td>\n",
              "      <td>0.580704</td>\n",
              "      <td>0.524667</td>\n",
              "      <td>-0.011351</td>\n",
              "      <td>0.074962</td>\n",
              "      <td>0.358012</td>\n",
              "      <td>-0.324054</td>\n",
              "    </tr>\n",
              "    <tr>\n",
              "      <th>chlorides</th>\n",
              "      <td>0.145997</td>\n",
              "      <td>-0.086997</td>\n",
              "      <td>0.302150</td>\n",
              "      <td>-0.069497</td>\n",
              "      <td>1.000000</td>\n",
              "      <td>0.226563</td>\n",
              "      <td>0.211043</td>\n",
              "      <td>0.118830</td>\n",
              "      <td>-0.601472</td>\n",
              "      <td>0.644596</td>\n",
              "      <td>-0.342212</td>\n",
              "      <td>-0.037891</td>\n",
              "    </tr>\n",
              "    <tr>\n",
              "      <th>free sulfur dioxide</th>\n",
              "      <td>0.369643</td>\n",
              "      <td>-0.046489</td>\n",
              "      <td>0.273691</td>\n",
              "      <td>0.278564</td>\n",
              "      <td>0.226563</td>\n",
              "      <td>1.000000</td>\n",
              "      <td>0.854553</td>\n",
              "      <td>0.430067</td>\n",
              "      <td>-0.204240</td>\n",
              "      <td>0.156305</td>\n",
              "      <td>0.056671</td>\n",
              "      <td>0.120759</td>\n",
              "    </tr>\n",
              "    <tr>\n",
              "      <th>total sulfur dioxide</th>\n",
              "      <td>0.351803</td>\n",
              "      <td>-0.045020</td>\n",
              "      <td>0.356156</td>\n",
              "      <td>0.580704</td>\n",
              "      <td>0.211043</td>\n",
              "      <td>0.854553</td>\n",
              "      <td>1.000000</td>\n",
              "      <td>0.523186</td>\n",
              "      <td>-0.280118</td>\n",
              "      <td>0.210051</td>\n",
              "      <td>0.229037</td>\n",
              "      <td>-0.112902</td>\n",
              "    </tr>\n",
              "    <tr>\n",
              "      <th>density</th>\n",
              "      <td>0.558823</td>\n",
              "      <td>-0.018832</td>\n",
              "      <td>0.321183</td>\n",
              "      <td>0.524667</td>\n",
              "      <td>0.118830</td>\n",
              "      <td>0.430067</td>\n",
              "      <td>0.523186</td>\n",
              "      <td>1.000000</td>\n",
              "      <td>-0.181546</td>\n",
              "      <td>0.300643</td>\n",
              "      <td>-0.089917</td>\n",
              "      <td>-0.249689</td>\n",
              "    </tr>\n",
              "    <tr>\n",
              "      <th>pH</th>\n",
              "      <td>-0.554355</td>\n",
              "      <td>0.176232</td>\n",
              "      <td>-0.402765</td>\n",
              "      <td>-0.011351</td>\n",
              "      <td>-0.601472</td>\n",
              "      <td>-0.204240</td>\n",
              "      <td>-0.280118</td>\n",
              "      <td>-0.181546</td>\n",
              "      <td>1.000000</td>\n",
              "      <td>-0.539957</td>\n",
              "      <td>0.232744</td>\n",
              "      <td>0.007259</td>\n",
              "    </tr>\n",
              "    <tr>\n",
              "      <th>sulphates</th>\n",
              "      <td>0.176146</td>\n",
              "      <td>-0.058765</td>\n",
              "      <td>0.404090</td>\n",
              "      <td>0.074962</td>\n",
              "      <td>0.644596</td>\n",
              "      <td>0.156305</td>\n",
              "      <td>0.210051</td>\n",
              "      <td>0.300643</td>\n",
              "      <td>-0.539957</td>\n",
              "      <td>1.000000</td>\n",
              "      <td>-0.172364</td>\n",
              "      <td>-0.120335</td>\n",
              "    </tr>\n",
              "    <tr>\n",
              "      <th>alcohol</th>\n",
              "      <td>-0.014915</td>\n",
              "      <td>-0.116946</td>\n",
              "      <td>0.247358</td>\n",
              "      <td>0.358012</td>\n",
              "      <td>-0.342212</td>\n",
              "      <td>0.056671</td>\n",
              "      <td>0.229037</td>\n",
              "      <td>-0.089917</td>\n",
              "      <td>0.232744</td>\n",
              "      <td>-0.172364</td>\n",
              "      <td>1.000000</td>\n",
              "      <td>0.377116</td>\n",
              "    </tr>\n",
              "    <tr>\n",
              "      <th>quality</th>\n",
              "      <td>0.232732</td>\n",
              "      <td>-0.323907</td>\n",
              "      <td>0.246825</td>\n",
              "      <td>-0.324054</td>\n",
              "      <td>-0.037891</td>\n",
              "      <td>0.120759</td>\n",
              "      <td>-0.112902</td>\n",
              "      <td>-0.249689</td>\n",
              "      <td>0.007259</td>\n",
              "      <td>-0.120335</td>\n",
              "      <td>0.377116</td>\n",
              "      <td>1.000000</td>\n",
              "    </tr>\n",
              "  </tbody>\n",
              "</table>\n",
              "</div>"
            ],
            "text/plain": [
              "                      fixed acidity  volatile acidity  ...   alcohol   quality\n",
              "fixed acidity              1.000000         -0.325296  ... -0.014915  0.232732\n",
              "volatile acidity          -0.325296          1.000000  ... -0.116946 -0.323907\n",
              "citric acid                0.553331         -0.808892  ...  0.247358  0.246825\n",
              "residual sugar             0.064789          0.086848  ...  0.358012 -0.324054\n",
              "chlorides                  0.145997         -0.086997  ... -0.342212 -0.037891\n",
              "free sulfur dioxide        0.369643         -0.046489  ...  0.056671  0.120759\n",
              "total sulfur dioxide       0.351803         -0.045020  ...  0.229037 -0.112902\n",
              "density                    0.558823         -0.018832  ... -0.089917 -0.249689\n",
              "pH                        -0.554355          0.176232  ...  0.232744  0.007259\n",
              "sulphates                  0.176146         -0.058765  ... -0.172364 -0.120335\n",
              "alcohol                   -0.014915         -0.116946  ...  1.000000  0.377116\n",
              "quality                    0.232732         -0.323907  ...  0.377116  1.000000\n",
              "\n",
              "[12 rows x 12 columns]"
            ]
          },
          "metadata": {
            "tags": []
          },
          "execution_count": 20
        }
      ]
    },
    {
      "cell_type": "code",
      "metadata": {
        "colab": {
          "base_uri": "https://localhost:8080/",
          "height": 265
        },
        "id": "vuEB4CMd2I2G",
        "outputId": "53c8e86f-4388-4eb3-aa79-ab1d297c6254"
      },
      "source": [
        "FirstSample = WineData[1:30]['total sulfur dioxide']\n",
        "SecondSample = WineData[1:30]['volatile acidity']\n",
        "\n",
        "pyplot.plot(FirstSample,SecondSample)\n",
        "pyplot.show()"
      ],
      "execution_count": null,
      "outputs": [
        {
          "output_type": "display_data",
          "data": {
            "image/png": "[encoded data removed]",
            "text/plain": [
              "<Figure size 432x288 with 1 Axes>"
            ]
          },
          "metadata": {
            "tags": [],
            "needs_background": "light"
          }
        }
      ]
    },
    {
      "cell_type": "code",
      "metadata": {
        "colab": {
          "base_uri": "https://localhost:8080/"
        },
        "id": "m9ohfNPE2lfE",
        "outputId": "af65e36b-eefb-499e-a6cc-ae9c6acdcd60"
      },
      "source": [
        "#pearson correlation\n",
        "from scipy.stats import pearsonr\n",
        "stat, p = pearsonr(FirstSample, SecondSample)\n",
        "\n",
        "print('stat=%.3f, p=%5f' % (stat, p))\n",
        "if p > 0.05:\n",
        "    print('independent samples')\n",
        "else:\n",
        "    print('dependent samples')"
      ],
      "execution_count": null,
      "outputs": [
        {
          "output_type": "stream",
          "text": [
            "stat=-0.045, p=0.816623\n",
            "independent samples\n"
          ],
          "name": "stdout"
        }
      ]
    },
    {
      "cell_type": "markdown",
      "metadata": {
        "id": "IRANmczJypvp"
      },
      "source": [
        "# Correlation of categorical variable - Chi square test"
      ]
    },
    {
      "cell_type": "code",
      "metadata": {
        "id": "MOG9ixGdypvp"
      },
      "source": [
        "#Tests whether two categorical variables are related or independent.\n",
        "#Assumptions - independent observation, size in each box of contingency table > 25\n",
        "# Example of the Chi-Squared Test\n"
      ],
      "execution_count": null,
      "outputs": []
    },
    {
      "cell_type": "code",
      "metadata": {
        "id": "EPjqUtvpypvp"
      },
      "source": [
        "TitanicData = pd.read_csv(\"train.csv\")"
      ],
      "execution_count": null,
      "outputs": []
    },
    {
      "cell_type": "code",
      "metadata": {
        "colab": {
          "base_uri": "https://localhost:8080/",
          "height": 905
        },
        "id": "fg00upDkypvq",
        "outputId": "ac62a015-6f00-4023-c0e2-2416d1752af0"
      },
      "source": [
        "TitanicData.head(10)"
      ],
      "execution_count": null,
      "outputs": [
        {
          "output_type": "execute_result",
          "data": {
            "text/html": [
              "<div>\n",
              "<style scoped>\n",
              "    .dataframe tbody tr th:only-of-type {\n",
              "        vertical-align: middle;\n",
              "    }\n",
              "\n",
              "    .dataframe tbody tr th {\n",
              "        vertical-align: top;\n",
              "    }\n",
              "\n",
              "    .dataframe thead th {\n",
              "        text-align: right;\n",
              "    }\n",
              "</style>\n",
              "<table border=\"1\" class=\"dataframe\">\n",
              "  <thead>\n",
              "    <tr style=\"text-align: right;\">\n",
              "      <th></th>\n",
              "      <th>PassengerId</th>\n",
              "      <th>Survived</th>\n",
              "      <th>Pclass</th>\n",
              "      <th>Name</th>\n",
              "      <th>Sex</th>\n",
              "      <th>Age</th>\n",
              "      <th>SibSp</th>\n",
              "      <th>Parch</th>\n",
              "      <th>Ticket</th>\n",
              "      <th>Fare</th>\n",
              "      <th>Cabin</th>\n",
              "      <th>Embarked</th>\n",
              "    </tr>\n",
              "  </thead>\n",
              "  <tbody>\n",
              "    <tr>\n",
              "      <th>0</th>\n",
              "      <td>1</td>\n",
              "      <td>0</td>\n",
              "      <td>3</td>\n",
              "      <td>Braund, Mr. Owen Harris</td>\n",
              "      <td>male</td>\n",
              "      <td>22.0</td>\n",
              "      <td>1</td>\n",
              "      <td>0</td>\n",
              "      <td>A/5 21171</td>\n",
              "      <td>7.2500</td>\n",
              "      <td>NaN</td>\n",
              "      <td>S</td>\n",
              "    </tr>\n",
              "    <tr>\n",
              "      <th>1</th>\n",
              "      <td>2</td>\n",
              "      <td>1</td>\n",
              "      <td>1</td>\n",
              "      <td>Cumings, Mrs. John Bradley (Florence Briggs Th...</td>\n",
              "      <td>female</td>\n",
              "      <td>38.0</td>\n",
              "      <td>1</td>\n",
              "      <td>0</td>\n",
              "      <td>PC 17599</td>\n",
              "      <td>71.2833</td>\n",
              "      <td>C85</td>\n",
              "      <td>C</td>\n",
              "    </tr>\n",
              "    <tr>\n",
              "      <th>2</th>\n",
              "      <td>3</td>\n",
              "      <td>1</td>\n",
              "      <td>3</td>\n",
              "      <td>Heikkinen, Miss. Laina</td>\n",
              "      <td>female</td>\n",
              "      <td>26.0</td>\n",
              "      <td>0</td>\n",
              "      <td>0</td>\n",
              "      <td>STON/O2. 3101282</td>\n",
              "      <td>7.9250</td>\n",
              "      <td>NaN</td>\n",
              "      <td>S</td>\n",
              "    </tr>\n",
              "    <tr>\n",
              "      <th>3</th>\n",
              "      <td>4</td>\n",
              "      <td>1</td>\n",
              "      <td>1</td>\n",
              "      <td>Futrelle, Mrs. Jacques Heath (Lily May Peel)</td>\n",
              "      <td>female</td>\n",
              "      <td>35.0</td>\n",
              "      <td>1</td>\n",
              "      <td>0</td>\n",
              "      <td>113803</td>\n",
              "      <td>53.1000</td>\n",
              "      <td>C123</td>\n",
              "      <td>S</td>\n",
              "    </tr>\n",
              "    <tr>\n",
              "      <th>4</th>\n",
              "      <td>5</td>\n",
              "      <td>0</td>\n",
              "      <td>3</td>\n",
              "      <td>Allen, Mr. William Henry</td>\n",
              "      <td>male</td>\n",
              "      <td>35.0</td>\n",
              "      <td>0</td>\n",
              "      <td>0</td>\n",
              "      <td>373450</td>\n",
              "      <td>8.0500</td>\n",
              "      <td>NaN</td>\n",
              "      <td>S</td>\n",
              "    </tr>\n",
              "    <tr>\n",
              "      <th>5</th>\n",
              "      <td>6</td>\n",
              "      <td>0</td>\n",
              "      <td>3</td>\n",
              "      <td>Moran, Mr. James</td>\n",
              "      <td>male</td>\n",
              "      <td>NaN</td>\n",
              "      <td>0</td>\n",
              "      <td>0</td>\n",
              "      <td>330877</td>\n",
              "      <td>8.4583</td>\n",
              "      <td>NaN</td>\n",
              "      <td>Q</td>\n",
              "    </tr>\n",
              "    <tr>\n",
              "      <th>6</th>\n",
              "      <td>7</td>\n",
              "      <td>0</td>\n",
              "      <td>1</td>\n",
              "      <td>McCarthy, Mr. Timothy J</td>\n",
              "      <td>male</td>\n",
              "      <td>54.0</td>\n",
              "      <td>0</td>\n",
              "      <td>0</td>\n",
              "      <td>17463</td>\n",
              "      <td>51.8625</td>\n",
              "      <td>E46</td>\n",
              "      <td>S</td>\n",
              "    </tr>\n",
              "    <tr>\n",
              "      <th>7</th>\n",
              "      <td>8</td>\n",
              "      <td>0</td>\n",
              "      <td>3</td>\n",
              "      <td>Palsson, Master. Gosta Leonard</td>\n",
              "      <td>male</td>\n",
              "      <td>2.0</td>\n",
              "      <td>3</td>\n",
              "      <td>1</td>\n",
              "      <td>349909</td>\n",
              "      <td>21.0750</td>\n",
              "      <td>NaN</td>\n",
              "      <td>S</td>\n",
              "    </tr>\n",
              "    <tr>\n",
              "      <th>8</th>\n",
              "      <td>9</td>\n",
              "      <td>1</td>\n",
              "      <td>3</td>\n",
              "      <td>Johnson, Mrs. Oscar W (Elisabeth Vilhelmina Berg)</td>\n",
              "      <td>female</td>\n",
              "      <td>27.0</td>\n",
              "      <td>0</td>\n",
              "      <td>2</td>\n",
              "      <td>347742</td>\n",
              "      <td>11.1333</td>\n",
              "      <td>NaN</td>\n",
              "      <td>S</td>\n",
              "    </tr>\n",
              "    <tr>\n",
              "      <th>9</th>\n",
              "      <td>10</td>\n",
              "      <td>1</td>\n",
              "      <td>2</td>\n",
              "      <td>Nasser, Mrs. Nicholas (Adele Achem)</td>\n",
              "      <td>female</td>\n",
              "      <td>14.0</td>\n",
              "      <td>1</td>\n",
              "      <td>0</td>\n",
              "      <td>237736</td>\n",
              "      <td>30.0708</td>\n",
              "      <td>NaN</td>\n",
              "      <td>C</td>\n",
              "    </tr>\n",
              "  </tbody>\n",
              "</table>\n",
              "</div>"
            ],
            "text/plain": [
              "   PassengerId  Survived  Pclass  ...     Fare Cabin  Embarked\n",
              "0            1         0       3  ...   7.2500   NaN         S\n",
              "1            2         1       1  ...  71.2833   C85         C\n",
              "2            3         1       3  ...   7.9250   NaN         S\n",
              "3            4         1       1  ...  53.1000  C123         S\n",
              "4            5         0       3  ...   8.0500   NaN         S\n",
              "5            6         0       3  ...   8.4583   NaN         Q\n",
              "6            7         0       1  ...  51.8625   E46         S\n",
              "7            8         0       3  ...  21.0750   NaN         S\n",
              "8            9         1       3  ...  11.1333   NaN         S\n",
              "9           10         1       2  ...  30.0708   NaN         C\n",
              "\n",
              "[10 rows x 12 columns]"
            ]
          },
          "metadata": {
            "tags": []
          },
          "execution_count": 35
        }
      ]
    },
    {
      "cell_type": "code",
      "metadata": {
        "id": "y17f3edRypvq"
      },
      "source": [
        "contingency_data = pd.crosstab(TitanicData['Pclass'], TitanicData['Sex'],margins = False)"
      ],
      "execution_count": null,
      "outputs": []
    },
    {
      "cell_type": "code",
      "metadata": {
        "colab": {
          "base_uri": "https://localhost:8080/",
          "height": 173
        },
        "id": "qTQU73u9ypvq",
        "outputId": "90a4a83c-74e2-42ed-b04e-8c149a1dc286"
      },
      "source": [
        "contingency_data"
      ],
      "execution_count": null,
      "outputs": [
        {
          "output_type": "execute_result",
          "data": {
            "text/html": [
              "<div>\n",
              "<style scoped>\n",
              "    .dataframe tbody tr th:only-of-type {\n",
              "        vertical-align: middle;\n",
              "    }\n",
              "\n",
              "    .dataframe tbody tr th {\n",
              "        vertical-align: top;\n",
              "    }\n",
              "\n",
              "    .dataframe thead th {\n",
              "        text-align: right;\n",
              "    }\n",
              "</style>\n",
              "<table border=\"1\" class=\"dataframe\">\n",
              "  <thead>\n",
              "    <tr style=\"text-align: right;\">\n",
              "      <th>Sex</th>\n",
              "      <th>female</th>\n",
              "      <th>male</th>\n",
              "    </tr>\n",
              "    <tr>\n",
              "      <th>Pclass</th>\n",
              "      <th></th>\n",
              "      <th></th>\n",
              "    </tr>\n",
              "  </thead>\n",
              "  <tbody>\n",
              "    <tr>\n",
              "      <th>1</th>\n",
              "      <td>94</td>\n",
              "      <td>122</td>\n",
              "    </tr>\n",
              "    <tr>\n",
              "      <th>2</th>\n",
              "      <td>76</td>\n",
              "      <td>108</td>\n",
              "    </tr>\n",
              "    <tr>\n",
              "      <th>3</th>\n",
              "      <td>144</td>\n",
              "      <td>347</td>\n",
              "    </tr>\n",
              "  </tbody>\n",
              "</table>\n",
              "</div>"
            ],
            "text/plain": [
              "Sex     female  male\n",
              "Pclass              \n",
              "1           94   122\n",
              "2           76   108\n",
              "3          144   347"
            ]
          },
          "metadata": {
            "tags": []
          },
          "execution_count": 40
        }
      ]
    },
    {
      "cell_type": "code",
      "metadata": {
        "id": "Y4YRvtCxypvr"
      },
      "source": [
        "from scipy.stats import chi2_contingency"
      ],
      "execution_count": null,
      "outputs": []
    },
    {
      "cell_type": "code",
      "metadata": {
        "colab": {
          "base_uri": "https://localhost:8080/"
        },
        "id": "6B1ZNOgrypvr",
        "outputId": "09c7de02-b767-43b4-cdcd-a4a2d7efe12d"
      },
      "source": [
        "stat, p, dof, expected = chi2_contingency(contingency_data)\n",
        "print('stat=%.3f, p=%.3f' % (stat, p))\n",
        "if p > 0.05:\n",
        "    print('dependent categories')\n",
        "else:\n",
        "    print('independent categories')"
      ],
      "execution_count": null,
      "outputs": [
        {
          "output_type": "stream",
          "text": [
            "stat=16.971, p=0.000\n",
            "dependent categories\n"
          ],
          "name": "stdout"
        }
      ]
    },
    {
      "cell_type": "code",
      "metadata": {
        "id": "J0R9ORd9ypvr"
      },
      "source": [
        "contingency_data = [[25,125],[1200,240]] #Observe the numbers carefully"
      ],
      "execution_count": null,
      "outputs": []
    },
    {
      "cell_type": "code",
      "metadata": {
        "colab": {
          "base_uri": "https://localhost:8080/"
        },
        "id": "8iIBD7IAypvr",
        "outputId": "15173f64-2165-4a92-d919-3bf596602b40"
      },
      "source": [
        "stat, p, dof, expected = chi2_contingency(contingency_data)\n",
        "print('stat=%.3f, p=%.3f' % (stat, p))\n",
        "if p > 0.05:\n",
        "    print('independent categories')\n",
        "else:\n",
        "    print('dependent categories')"
      ],
      "execution_count": null,
      "outputs": [
        {
          "output_type": "stream",
          "text": [
            "stat=337.622, p=0.000\n",
            "dependent categories\n"
          ],
          "name": "stdout"
        }
      ]
    },
    {
      "cell_type": "code",
      "metadata": {
        "id": "c4nLLEPgDzIK"
      },
      "source": [
        ""
      ],
      "execution_count": null,
      "outputs": []
    },
    {
      "cell_type": "code",
      "metadata": {
        "id": "_tctC7p0DzKb"
      },
      "source": [
        ""
      ],
      "execution_count": null,
      "outputs": []
    },
    {
      "cell_type": "code",
      "metadata": {
        "id": "OwHNkaGIDzNF"
      },
      "source": [
        ""
      ],
      "execution_count": null,
      "outputs": []
    },
    {
      "cell_type": "code",
      "metadata": {
        "id": "zOhwimvaDzQo"
      },
      "source": [
        ""
      ],
      "execution_count": null,
      "outputs": []
    },
    {
      "cell_type": "markdown",
      "metadata": {
        "id": "sY-sS_YRypvs"
      },
      "source": [
        "# Parametic test 1- T-test"
      ]
    },
    {
      "cell_type": "markdown",
      "metadata": {
        "id": "5pNSudEKypvs"
      },
      "source": [
        "# Definiton of Parametric test - Main assumption - data is normally distributed"
      ]
    },
    {
      "cell_type": "code",
      "metadata": {
        "id": "dx6RbGS2ypvs"
      },
      "source": [
        "#Scores of me and Virat\n",
        "my_score = [23,21,31,20,19,35,26,22,21,19]\n",
        "virat_score = [46,42,62,40,38,70,52,44,42,38]"
      ],
      "execution_count": null,
      "outputs": []
    },
    {
      "cell_type": "code",
      "metadata": {
        "id": "6D4yO69nypvs",
        "colab": {
          "base_uri": "https://localhost:8080/"
        },
        "outputId": "cc1d46c2-b05e-4edd-fd0a-367fbf5a5046"
      },
      "source": [
        "#Lets check mean of our scores\n",
        "import numpy as np\n",
        "print('Aman mean score:', np.mean(my_score))\n",
        "print('Virat mean score:', np.mean(virat_score))"
      ],
      "execution_count": null,
      "outputs": [
        {
          "output_type": "stream",
          "text": [
            "Aman mean score: 23.7\n",
            "Virat mean score: 47.4\n"
          ],
          "name": "stdout"
        }
      ]
    },
    {
      "cell_type": "code",
      "metadata": {
        "id": "6t-CqrMmypvt",
        "colab": {
          "base_uri": "https://localhost:8080/"
        },
        "outputId": "6c311d52-adf6-4090-e317-3edb77c534d9"
      },
      "source": [
        "#One Sample T-test\n",
        "import scipy\n",
        "import scipy.stats\n",
        "scipy.stats.ttest_1samp(my_score,23.7)\n",
        "\n",
        "#NULL THERE IS NO DIFFERENCE\n",
        "# p>0.05/5% \n",
        "#accept null"
      ],
      "execution_count": null,
      "outputs": [
        {
          "output_type": "execute_result",
          "data": {
            "text/plain": [
              "Ttest_1sampResult(statistic=0.0, pvalue=1.0)"
            ]
          },
          "metadata": {
            "tags": []
          },
          "execution_count": 10
        }
      ]
    },
    {
      "cell_type": "code",
      "metadata": {
        "id": "xxH6sYqMypvt",
        "colab": {
          "base_uri": "https://localhost:8080/"
        },
        "outputId": "eb6edd36-a416-436a-bd25-85bb00726dd4"
      },
      "source": [
        "#Independent Sample T-test\n",
        "scipy.stats.ttest_ind(my_score,virat_score)\n",
        "\n"
      ],
      "execution_count": null,
      "outputs": [
        {
          "output_type": "execute_result",
          "data": {
            "text/plain": [
              "Ttest_indResult(statistic=-6.210850679090182, pvalue=7.3390410384768156e-06)"
            ]
          },
          "metadata": {
            "tags": []
          },
          "execution_count": 9
        }
      ]
    },
    {
      "cell_type": "code",
      "metadata": {
        "id": "sPspxc4Vypvt"
      },
      "source": [
        "my_score_second_Tour = [46,42,62,40,38,70,52,44,42,38]"
      ],
      "execution_count": null,
      "outputs": []
    },
    {
      "cell_type": "code",
      "metadata": {
        "id": "5m8_nXOYypvt",
        "outputId": "428b1e09-8249-4df7-eae4-d2f7e4885b39"
      },
      "source": [
        "#Apired sample t-test\n",
        "scipy.stats.ttest_rel(my_score,my_score_second_Tour)"
      ],
      "execution_count": null,
      "outputs": [
        {
          "output_type": "execute_result",
          "data": {
            "text/plain": [
              "Ttest_relResult(statistic=-13.88788431654638, pvalue=2.1983272300073563e-07)"
            ]
          },
          "metadata": {
            "tags": []
          },
          "execution_count": 103
        }
      ]
    },
    {
      "cell_type": "markdown",
      "metadata": {
        "id": "lDqrqhtWypvu"
      },
      "source": [
        "# Parametic test 2 - Anova - Tests whether the means of two or more independent samples are significantly different."
      ]
    },
    {
      "cell_type": "code",
      "metadata": {
        "id": "n-t9yTPOypvu"
      },
      "source": [
        "# Assumption -  Normal distributon, same variance, identical distribution"
      ],
      "execution_count": null,
      "outputs": []
    },
    {
      "cell_type": "code",
      "metadata": {
        "id": "LfhpDCDZypvu"
      },
      "source": [
        "average_score = [40,44,60,50,48,68,55,46,44,54]"
      ],
      "execution_count": null,
      "outputs": []
    },
    {
      "cell_type": "code",
      "metadata": {
        "id": "b4qR_Bynypvu",
        "outputId": "0b4c4396-ef91-478a-932a-9a4e5e2ed18d"
      },
      "source": [
        "my_score"
      ],
      "execution_count": null,
      "outputs": [
        {
          "output_type": "execute_result",
          "data": {
            "text/plain": [
              "[23, 21, 31, 20, 19, 35, 26, 22, 21, 19]"
            ]
          },
          "metadata": {
            "tags": []
          },
          "execution_count": 104
        }
      ]
    },
    {
      "cell_type": "code",
      "metadata": {
        "id": "O9CxvtCLypvu",
        "outputId": "1d003698-a13f-4313-ea1d-2c5a049cf2a2"
      },
      "source": [
        "average_score"
      ],
      "execution_count": null,
      "outputs": [
        {
          "output_type": "execute_result",
          "data": {
            "text/plain": [
              "[40, 44, 60, 50, 48, 68, 55, 46, 44, 54]"
            ]
          },
          "metadata": {
            "tags": []
          },
          "execution_count": 105
        }
      ]
    },
    {
      "cell_type": "code",
      "metadata": {
        "id": "frvTBzuQypvv",
        "outputId": "c33579ed-63a9-455c-a92a-a4d0ba351262"
      },
      "source": [
        "virat_score"
      ],
      "execution_count": null,
      "outputs": [
        {
          "output_type": "execute_result",
          "data": {
            "text/plain": [
              "[46, 42, 62, 40, 38, 70, 52, 44, 42, 38]"
            ]
          },
          "metadata": {
            "tags": []
          },
          "execution_count": 106
        }
      ]
    },
    {
      "cell_type": "code",
      "metadata": {
        "id": "3IkgyO_eypvv",
        "outputId": "97d14a3a-0735-4ba8-fce1-9985987a00a2"
      },
      "source": [
        "tstat, p = scipy.stats.f_oneway(my_score, average_score, virat_score)\n",
        "print('stat=%.3f, p=%.3f' % (stat, p))\n",
        "if p > 0.05:\n",
        "    print('Same distribution of scores')\n",
        "else:\n",
        "    print('Different distributions of scores')"
      ],
      "execution_count": null,
      "outputs": [
        {
          "output_type": "stream",
          "text": [
            "stat=-0.949, p=0.000\n",
            "Different distributions of scores\n"
          ],
          "name": "stdout"
        }
      ]
    }
  ]
}