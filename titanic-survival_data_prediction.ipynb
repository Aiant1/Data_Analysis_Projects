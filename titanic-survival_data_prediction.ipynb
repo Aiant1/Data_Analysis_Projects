{
 "cells": [
  {
   "cell_type": "code",
   "execution_count": 1,
   "metadata": {
    "_cell_guid": "b1076dfc-b9ad-4769-8c92-a6c4dae69d19",
    "_uuid": "8f2839f25d086af736a60e9eeb907d3b93b6e0e5",
    "execution": {
     "iopub.execute_input": "2021-01-14T11:31:07.182234Z",
     "iopub.status.busy": "2021-01-14T11:31:07.181539Z",
     "iopub.status.idle": "2021-01-14T11:31:07.185953Z",
     "shell.execute_reply": "2021-01-14T11:31:07.186462Z"
    },
    "papermill": {
     "duration": 0.038924,
     "end_time": "2021-01-14T11:31:07.186661",
     "exception": false,
     "start_time": "2021-01-14T11:31:07.147737",
     "status": "completed"
    },
    "tags": []
   },
   "outputs": [
    {
     "name": "stdout",
     "output_type": "stream",
     "text": [
      "/kaggle/input/titanic/train.csv\n",
      "/kaggle/input/titanic/test.csv\n",
      "/kaggle/input/titanic/gender_submission.csv\n"
     ]
    }
   ],
   "source": [
    "# This Python 3 environment comes with many helpful analytics libraries installed\n",
    "# It is defined by the kaggle/python Docker image: https://github.com/kaggle/docker-python\n",
    "# For example, here's several helpful packages to load\n",
    "\n",
    "import numpy as np # linear algebra\n",
    "import pandas as pd # data processing, CSV file I/O (e.g. pd.read_csv)\n",
    "\n",
    "# Input data files are available in the read-only \"../input/\" directory\n",
    "# For example, running this (by clicking run or pressing Shift+Enter) will list all files under the input directory\n",
    "\n",
    "import os\n",
    "for dirname, _, filenames in os.walk('/kaggle/input'):\n",
    "    for filename in filenames:\n",
    "        print(os.path.join(dirname, filename))\n",
    "\n",
    "# You can write up to 20GB to the current directory (/kaggle/working/) that gets preserved as output when you create a version using \"Save & Run All\" \n",
    "# You can also write temporary files to /kaggle/temp/, but they won't be saved outside of the current session"
   ]
  },
  {
   "cell_type": "code",
   "execution_count": 2,
   "metadata": {
    "execution": {
     "iopub.execute_input": "2021-01-14T11:31:07.248270Z",
     "iopub.status.busy": "2021-01-14T11:31:07.247584Z",
     "iopub.status.idle": "2021-01-14T11:31:09.750798Z",
     "shell.execute_reply": "2021-01-14T11:31:09.751311Z"
    },
    "papermill": {
     "duration": 2.540257,
     "end_time": "2021-01-14T11:31:09.751488",
     "exception": false,
     "start_time": "2021-01-14T11:31:07.211231",
     "status": "completed"
    },
    "tags": []
   },
   "outputs": [],
   "source": [
    "#import all the libraries\n",
    "\n",
    "#common libraries\n",
    "import numpy as np\n",
    "import pandas as pd\n",
    "import time\n",
    "import os\n",
    "import math\n",
    "import missingno as msno \n",
    "\n",
    "\n",
    "#library for visualization\n",
    "\n",
    "from matplotlib import pyplot as plt\n",
    "import seaborn as sns\n",
    "from mpl_toolkits.mplot3d import Axes3D \n",
    "plt.style.use('ggplot')\n",
    "\n",
    "#sklearn libraries \n",
    "\n",
    "from sklearn.model_selection import train_test_split\n",
    "from sklearn.preprocessing import normalize,StandardScaler\n",
    "from sklearn.metrics import confusion_matrix,accuracy_score,precision_score,recall_score,f1_score,matthews_corrcoef,classification_report,roc_curve\n",
    "from sklearn.decomposition import PCA\n",
    "from sklearn.preprocessing import OneHotEncoder \n",
    "from sklearn.preprocessing import LabelEncoder \n",
    "from sklearn.compose import ColumnTransformer \n",
    "from sklearn import model_selection\n",
    "from sklearn.linear_model import LogisticRegression\n",
    "from sklearn.tree import DecisionTreeClassifier\n",
    "from sklearn.neighbors import KNeighborsClassifier\n",
    "from sklearn.ensemble import RandomForestClassifier\n",
    "from sklearn.discriminant_analysis import LinearDiscriminantAnalysis\n",
    "from xgboost import XGBClassifier\n",
    "from sklearn.ensemble import GradientBoostingClassifier\n",
    "from sklearn.svm import SVC\n",
    "from sklearn.metrics import confusion_matrix\n",
    "from sklearn.naive_bayes import GaussianNB\n",
    "from sklearn.model_selection import GridSearchCV, RepeatedStratifiedKFold\n",
    "from sklearn.model_selection import cross_val_score\n"
   ]
  },
  {
   "cell_type": "code",
   "execution_count": 3,
   "metadata": {
    "execution": {
     "iopub.execute_input": "2021-01-14T11:31:09.806677Z",
     "iopub.status.busy": "2021-01-14T11:31:09.805907Z",
     "iopub.status.idle": "2021-01-14T11:31:09.808727Z",
     "shell.execute_reply": "2021-01-14T11:31:09.809244Z"
    },
    "papermill": {
     "duration": 0.032522,
     "end_time": "2021-01-14T11:31:09.809399",
     "exception": false,
     "start_time": "2021-01-14T11:31:09.776877",
     "status": "completed"
    },
    "tags": []
   },
   "outputs": [
    {
     "name": "stdout",
     "output_type": "stream",
     "text": [
      "/kaggle/working\n"
     ]
    }
   ],
   "source": [
    "cd /kaggle/working"
   ]
  },
  {
   "cell_type": "code",
   "execution_count": 4,
   "metadata": {
    "execution": {
     "iopub.execute_input": "2021-01-14T11:31:09.865341Z",
     "iopub.status.busy": "2021-01-14T11:31:09.864674Z",
     "iopub.status.idle": "2021-01-14T11:31:09.933322Z",
     "shell.execute_reply": "2021-01-14T11:31:09.932651Z"
    },
    "papermill": {
     "duration": 0.100148,
     "end_time": "2021-01-14T11:31:09.933475",
     "exception": false,
     "start_time": "2021-01-14T11:31:09.833327",
     "status": "completed"
    },
    "tags": []
   },
   "outputs": [
    {
     "data": {
      "text/html": [
       "<div>\n",
       "<style scoped>\n",
       "    .dataframe tbody tr th:only-of-type {\n",
       "        vertical-align: middle;\n",
       "    }\n",
       "\n",
       "    .dataframe tbody tr th {\n",
       "        vertical-align: top;\n",
       "    }\n",
       "\n",
       "    .dataframe thead th {\n",
       "        text-align: right;\n",
       "    }\n",
       "</style>\n",
       "<table border=\"1\" class=\"dataframe\">\n",
       "  <thead>\n",
       "    <tr style=\"text-align: right;\">\n",
       "      <th></th>\n",
       "      <th>PassengerId</th>\n",
       "      <th>Survived</th>\n",
       "      <th>Pclass</th>\n",
       "      <th>Name</th>\n",
       "      <th>Sex</th>\n",
       "      <th>Age</th>\n",
       "      <th>SibSp</th>\n",
       "      <th>Parch</th>\n",
       "      <th>Ticket</th>\n",
       "      <th>Fare</th>\n",
       "      <th>Cabin</th>\n",
       "      <th>Embarked</th>\n",
       "    </tr>\n",
       "  </thead>\n",
       "  <tbody>\n",
       "    <tr>\n",
       "      <th>0</th>\n",
       "      <td>1</td>\n",
       "      <td>0</td>\n",
       "      <td>3</td>\n",
       "      <td>Braund, Mr. Owen Harris</td>\n",
       "      <td>male</td>\n",
       "      <td>22.0</td>\n",
       "      <td>1</td>\n",
       "      <td>0</td>\n",
       "      <td>A/5 21171</td>\n",
       "      <td>7.2500</td>\n",
       "      <td>NaN</td>\n",
       "      <td>S</td>\n",
       "    </tr>\n",
       "    <tr>\n",
       "      <th>1</th>\n",
       "      <td>2</td>\n",
       "      <td>1</td>\n",
       "      <td>1</td>\n",
       "      <td>Cumings, Mrs. John Bradley (Florence Briggs Th...</td>\n",
       "      <td>female</td>\n",
       "      <td>38.0</td>\n",
       "      <td>1</td>\n",
       "      <td>0</td>\n",
       "      <td>PC 17599</td>\n",
       "      <td>71.2833</td>\n",
       "      <td>C85</td>\n",
       "      <td>C</td>\n",
       "    </tr>\n",
       "    <tr>\n",
       "      <th>2</th>\n",
       "      <td>3</td>\n",
       "      <td>1</td>\n",
       "      <td>3</td>\n",
       "      <td>Heikkinen, Miss. Laina</td>\n",
       "      <td>female</td>\n",
       "      <td>26.0</td>\n",
       "      <td>0</td>\n",
       "      <td>0</td>\n",
       "      <td>STON/O2. 3101282</td>\n",
       "      <td>7.9250</td>\n",
       "      <td>NaN</td>\n",
       "      <td>S</td>\n",
       "    </tr>\n",
       "    <tr>\n",
       "      <th>3</th>\n",
       "      <td>4</td>\n",
       "      <td>1</td>\n",
       "      <td>1</td>\n",
       "      <td>Futrelle, Mrs. Jacques Heath (Lily May Peel)</td>\n",
       "      <td>female</td>\n",
       "      <td>35.0</td>\n",
       "      <td>1</td>\n",
       "      <td>0</td>\n",
       "      <td>113803</td>\n",
       "      <td>53.1000</td>\n",
       "      <td>C123</td>\n",
       "      <td>S</td>\n",
       "    </tr>\n",
       "    <tr>\n",
       "      <th>4</th>\n",
       "      <td>5</td>\n",
       "      <td>0</td>\n",
       "      <td>3</td>\n",
       "      <td>Allen, Mr. William Henry</td>\n",
       "      <td>male</td>\n",
       "      <td>35.0</td>\n",
       "      <td>0</td>\n",
       "      <td>0</td>\n",
       "      <td>373450</td>\n",
       "      <td>8.0500</td>\n",
       "      <td>NaN</td>\n",
       "      <td>S</td>\n",
       "    </tr>\n",
       "    <tr>\n",
       "      <th>...</th>\n",
       "      <td>...</td>\n",
       "      <td>...</td>\n",
       "      <td>...</td>\n",
       "      <td>...</td>\n",
       "      <td>...</td>\n",
       "      <td>...</td>\n",
       "      <td>...</td>\n",
       "      <td>...</td>\n",
       "      <td>...</td>\n",
       "      <td>...</td>\n",
       "      <td>...</td>\n",
       "      <td>...</td>\n",
       "    </tr>\n",
       "    <tr>\n",
       "      <th>95</th>\n",
       "      <td>96</td>\n",
       "      <td>0</td>\n",
       "      <td>3</td>\n",
       "      <td>Shorney, Mr. Charles Joseph</td>\n",
       "      <td>male</td>\n",
       "      <td>NaN</td>\n",
       "      <td>0</td>\n",
       "      <td>0</td>\n",
       "      <td>374910</td>\n",
       "      <td>8.0500</td>\n",
       "      <td>NaN</td>\n",
       "      <td>S</td>\n",
       "    </tr>\n",
       "    <tr>\n",
       "      <th>96</th>\n",
       "      <td>97</td>\n",
       "      <td>0</td>\n",
       "      <td>1</td>\n",
       "      <td>Goldschmidt, Mr. George B</td>\n",
       "      <td>male</td>\n",
       "      <td>71.0</td>\n",
       "      <td>0</td>\n",
       "      <td>0</td>\n",
       "      <td>PC 17754</td>\n",
       "      <td>34.6542</td>\n",
       "      <td>A5</td>\n",
       "      <td>C</td>\n",
       "    </tr>\n",
       "    <tr>\n",
       "      <th>97</th>\n",
       "      <td>98</td>\n",
       "      <td>1</td>\n",
       "      <td>1</td>\n",
       "      <td>Greenfield, Mr. William Bertram</td>\n",
       "      <td>male</td>\n",
       "      <td>23.0</td>\n",
       "      <td>0</td>\n",
       "      <td>1</td>\n",
       "      <td>PC 17759</td>\n",
       "      <td>63.3583</td>\n",
       "      <td>D10 D12</td>\n",
       "      <td>C</td>\n",
       "    </tr>\n",
       "    <tr>\n",
       "      <th>98</th>\n",
       "      <td>99</td>\n",
       "      <td>1</td>\n",
       "      <td>2</td>\n",
       "      <td>Doling, Mrs. John T (Ada Julia Bone)</td>\n",
       "      <td>female</td>\n",
       "      <td>34.0</td>\n",
       "      <td>0</td>\n",
       "      <td>1</td>\n",
       "      <td>231919</td>\n",
       "      <td>23.0000</td>\n",
       "      <td>NaN</td>\n",
       "      <td>S</td>\n",
       "    </tr>\n",
       "    <tr>\n",
       "      <th>99</th>\n",
       "      <td>100</td>\n",
       "      <td>0</td>\n",
       "      <td>2</td>\n",
       "      <td>Kantor, Mr. Sinai</td>\n",
       "      <td>male</td>\n",
       "      <td>34.0</td>\n",
       "      <td>1</td>\n",
       "      <td>0</td>\n",
       "      <td>244367</td>\n",
       "      <td>26.0000</td>\n",
       "      <td>NaN</td>\n",
       "      <td>S</td>\n",
       "    </tr>\n",
       "  </tbody>\n",
       "</table>\n",
       "<p>100 rows × 12 columns</p>\n",
       "</div>"
      ],
      "text/plain": [
       "    PassengerId  Survived  Pclass  \\\n",
       "0             1         0       3   \n",
       "1             2         1       1   \n",
       "2             3         1       3   \n",
       "3             4         1       1   \n",
       "4             5         0       3   \n",
       "..          ...       ...     ...   \n",
       "95           96         0       3   \n",
       "96           97         0       1   \n",
       "97           98         1       1   \n",
       "98           99         1       2   \n",
       "99          100         0       2   \n",
       "\n",
       "                                                 Name     Sex   Age  SibSp  \\\n",
       "0                             Braund, Mr. Owen Harris    male  22.0      1   \n",
       "1   Cumings, Mrs. John Bradley (Florence Briggs Th...  female  38.0      1   \n",
       "2                              Heikkinen, Miss. Laina  female  26.0      0   \n",
       "3        Futrelle, Mrs. Jacques Heath (Lily May Peel)  female  35.0      1   \n",
       "4                            Allen, Mr. William Henry    male  35.0      0   \n",
       "..                                                ...     ...   ...    ...   \n",
       "95                        Shorney, Mr. Charles Joseph    male   NaN      0   \n",
       "96                          Goldschmidt, Mr. George B    male  71.0      0   \n",
       "97                    Greenfield, Mr. William Bertram    male  23.0      0   \n",
       "98               Doling, Mrs. John T (Ada Julia Bone)  female  34.0      0   \n",
       "99                                  Kantor, Mr. Sinai    male  34.0      1   \n",
       "\n",
       "    Parch            Ticket     Fare    Cabin Embarked  \n",
       "0       0         A/5 21171   7.2500      NaN        S  \n",
       "1       0          PC 17599  71.2833      C85        C  \n",
       "2       0  STON/O2. 3101282   7.9250      NaN        S  \n",
       "3       0            113803  53.1000     C123        S  \n",
       "4       0            373450   8.0500      NaN        S  \n",
       "..    ...               ...      ...      ...      ...  \n",
       "95      0            374910   8.0500      NaN        S  \n",
       "96      0          PC 17754  34.6542       A5        C  \n",
       "97      1          PC 17759  63.3583  D10 D12        C  \n",
       "98      1            231919  23.0000      NaN        S  \n",
       "99      0            244367  26.0000      NaN        S  \n",
       "\n",
       "[100 rows x 12 columns]"
      ]
     },
     "execution_count": 4,
     "metadata": {},
     "output_type": "execute_result"
    }
   ],
   "source": [
    "#Read the data\n",
    "\n",
    "data=pd.read_csv(\"/kaggle/input/titanic/train.csv\")\n",
    "data_predict=pd.read_csv(\"/kaggle/input/titanic/test.csv\")\n",
    "data_predict_ori=data_predict.copy()\n",
    "data.head(100)\n"
   ]
  },
  {
   "cell_type": "markdown",
   "metadata": {
    "papermill": {
     "duration": 0.024641,
     "end_time": "2021-01-14T11:31:09.983395",
     "exception": false,
     "start_time": "2021-01-14T11:31:09.958754",
     "status": "completed"
    },
    "tags": []
   },
   "source": [
    "# Pre-data processing"
   ]
  },
  {
   "cell_type": "code",
   "execution_count": 5,
   "metadata": {
    "execution": {
     "iopub.execute_input": "2021-01-14T11:31:10.041547Z",
     "iopub.status.busy": "2021-01-14T11:31:10.040847Z",
     "iopub.status.idle": "2021-01-14T11:31:10.044875Z",
     "shell.execute_reply": "2021-01-14T11:31:10.044264Z"
    },
    "papermill": {
     "duration": 0.036098,
     "end_time": "2021-01-14T11:31:10.044990",
     "exception": false,
     "start_time": "2021-01-14T11:31:10.008892",
     "status": "completed"
    },
    "tags": []
   },
   "outputs": [
    {
     "name": "stdout",
     "output_type": "stream",
     "text": [
      "0.3838383838383838 0.6161616161616161\n"
     ]
    }
   ],
   "source": [
    "#overall survival and death rate\n",
    "len_sur=len(data[\"Survived\"])\n",
    "total_survival_count=list(data[\"Survived\"]).count(1)\n",
    "total_death_count=list(data[\"Survived\"]).count(0)\n",
    "\n",
    "survival_rate=(total_survival_count/len_sur)\n",
    "death_rate=1-survival_rate\n",
    "print (survival_rate,death_rate)\n"
   ]
  },
  {
   "cell_type": "code",
   "execution_count": 6,
   "metadata": {
    "execution": {
     "iopub.execute_input": "2021-01-14T11:31:10.105232Z",
     "iopub.status.busy": "2021-01-14T11:31:10.104074Z",
     "iopub.status.idle": "2021-01-14T11:31:10.113291Z",
     "shell.execute_reply": "2021-01-14T11:31:10.113817Z"
    },
    "papermill": {
     "duration": 0.042775,
     "end_time": "2021-01-14T11:31:10.113975",
     "exception": false,
     "start_time": "2021-01-14T11:31:10.071200",
     "status": "completed"
    },
    "tags": []
   },
   "outputs": [
    {
     "name": "stdout",
     "output_type": "stream",
     "text": [
      "0.6812865497076024\n",
      "0.31871345029239767\n"
     ]
    }
   ],
   "source": [
    "# death rate and survival rate by men and women\n",
    "data_female = data[data['Sex'] == 'female']\n",
    "female_survivors=list(data_female[\"Survived\"]).count(1)\n",
    "female_survivor_rate=female_survivors/total_survival_count\n",
    "print (female_survivor_rate)\n",
    "\n",
    "data_male = data[data['Sex'] == 'male']\n",
    "male_survivors=list(data_male[\"Survived\"]).count(1)\n",
    "male_survivor_rate=male_survivors/total_survival_count\n",
    "print (male_survivor_rate)\n",
    "\n"
   ]
  },
  {
   "cell_type": "code",
   "execution_count": 7,
   "metadata": {
    "execution": {
     "iopub.execute_input": "2021-01-14T11:31:10.176009Z",
     "iopub.status.busy": "2021-01-14T11:31:10.174918Z",
     "iopub.status.idle": "2021-01-14T11:31:10.180254Z",
     "shell.execute_reply": "2021-01-14T11:31:10.180838Z"
    },
    "papermill": {
     "duration": 0.040911,
     "end_time": "2021-01-14T11:31:10.180980",
     "exception": false,
     "start_time": "2021-01-14T11:31:10.140069",
     "status": "completed"
    },
    "tags": []
   },
   "outputs": [
    {
     "name": "stdout",
     "output_type": "stream",
     "text": [
      "PassengerId      0\n",
      "Pclass           0\n",
      "Name             0\n",
      "Sex              0\n",
      "Age             86\n",
      "SibSp            0\n",
      "Parch            0\n",
      "Ticket           0\n",
      "Fare             1\n",
      "Cabin          327\n",
      "Embarked         0\n",
      "dtype: int64\n",
      "PassengerId      0\n",
      "Survived         0\n",
      "Pclass           0\n",
      "Name             0\n",
      "Sex              0\n",
      "Age            177\n",
      "SibSp            0\n",
      "Parch            0\n",
      "Ticket           0\n",
      "Fare             0\n",
      "Cabin          687\n",
      "Embarked         2\n",
      "dtype: int64\n"
     ]
    }
   ],
   "source": [
    "print (data_predict.isnull().sum())\n",
    "print (data.isnull().sum())\n"
   ]
  },
  {
   "cell_type": "code",
   "execution_count": 8,
   "metadata": {
    "execution": {
     "iopub.execute_input": "2021-01-14T11:31:10.238169Z",
     "iopub.status.busy": "2021-01-14T11:31:10.237159Z",
     "iopub.status.idle": "2021-01-14T11:31:10.253660Z",
     "shell.execute_reply": "2021-01-14T11:31:10.254203Z"
    },
    "papermill": {
     "duration": 0.046893,
     "end_time": "2021-01-14T11:31:10.254349",
     "exception": false,
     "start_time": "2021-01-14T11:31:10.207456",
     "status": "completed"
    },
    "tags": []
   },
   "outputs": [
    {
     "data": {
      "text/html": [
       "<div>\n",
       "<style scoped>\n",
       "    .dataframe tbody tr th:only-of-type {\n",
       "        vertical-align: middle;\n",
       "    }\n",
       "\n",
       "    .dataframe tbody tr th {\n",
       "        vertical-align: top;\n",
       "    }\n",
       "\n",
       "    .dataframe thead th {\n",
       "        text-align: right;\n",
       "    }\n",
       "</style>\n",
       "<table border=\"1\" class=\"dataframe\">\n",
       "  <thead>\n",
       "    <tr style=\"text-align: right;\">\n",
       "      <th></th>\n",
       "      <th>PassengerId</th>\n",
       "      <th>Survived</th>\n",
       "      <th>Pclass</th>\n",
       "      <th>Name</th>\n",
       "      <th>Sex</th>\n",
       "      <th>Age</th>\n",
       "      <th>SibSp</th>\n",
       "      <th>Parch</th>\n",
       "      <th>Ticket</th>\n",
       "      <th>Fare</th>\n",
       "      <th>Cabin</th>\n",
       "      <th>Embarked</th>\n",
       "    </tr>\n",
       "  </thead>\n",
       "  <tbody>\n",
       "    <tr>\n",
       "      <th>61</th>\n",
       "      <td>62</td>\n",
       "      <td>1</td>\n",
       "      <td>1</td>\n",
       "      <td>Icard, Miss. Amelie</td>\n",
       "      <td>female</td>\n",
       "      <td>38.0</td>\n",
       "      <td>0</td>\n",
       "      <td>0</td>\n",
       "      <td>113572</td>\n",
       "      <td>80.0</td>\n",
       "      <td>B28</td>\n",
       "      <td>NaN</td>\n",
       "    </tr>\n",
       "    <tr>\n",
       "      <th>829</th>\n",
       "      <td>830</td>\n",
       "      <td>1</td>\n",
       "      <td>1</td>\n",
       "      <td>Stone, Mrs. George Nelson (Martha Evelyn)</td>\n",
       "      <td>female</td>\n",
       "      <td>62.0</td>\n",
       "      <td>0</td>\n",
       "      <td>0</td>\n",
       "      <td>113572</td>\n",
       "      <td>80.0</td>\n",
       "      <td>B28</td>\n",
       "      <td>NaN</td>\n",
       "    </tr>\n",
       "  </tbody>\n",
       "</table>\n",
       "</div>"
      ],
      "text/plain": [
       "     PassengerId  Survived  Pclass                                       Name  \\\n",
       "61            62         1       1                        Icard, Miss. Amelie   \n",
       "829          830         1       1  Stone, Mrs. George Nelson (Martha Evelyn)   \n",
       "\n",
       "        Sex   Age  SibSp  Parch  Ticket  Fare Cabin Embarked  \n",
       "61   female  38.0      0      0  113572  80.0   B28      NaN  \n",
       "829  female  62.0      0      0  113572  80.0   B28      NaN  "
      ]
     },
     "execution_count": 8,
     "metadata": {},
     "output_type": "execute_result"
    }
   ],
   "source": [
    "#check for missing values\n",
    "data[data[\"Embarked\"].isnull()]\n"
   ]
  },
  {
   "cell_type": "code",
   "execution_count": 9,
   "metadata": {
    "execution": {
     "iopub.execute_input": "2021-01-14T11:31:10.313723Z",
     "iopub.status.busy": "2021-01-14T11:31:10.312981Z",
     "iopub.status.idle": "2021-01-14T11:31:10.333270Z",
     "shell.execute_reply": "2021-01-14T11:31:10.332679Z"
    },
    "papermill": {
     "duration": 0.05142,
     "end_time": "2021-01-14T11:31:10.333406",
     "exception": false,
     "start_time": "2021-01-14T11:31:10.281986",
     "status": "completed"
    },
    "tags": []
   },
   "outputs": [],
   "source": [
    "avg=data.groupby([\"Sex\",\"Pclass\"]).median()[\"Age\"].mean()\n",
    "avg_test=data_predict.groupby([\"Sex\",\"Pclass\"]).median()[\"Age\"].mean()\n",
    "data[\"Age\"]=data[\"Age\"].replace(np.nan,avg)\n",
    "data_predict[\"Age\"]=data_predict[\"Age\"].replace(np.nan,avg_test)\n",
    "data_predict[\"Fare\"] = data_predict[\"Fare\"].replace(np.NaN, data_predict[\"Fare\"].mean())\n",
    "data[\"Embarked\"] = data[\"Embarked\"].replace(np.NaN,\"S\")\n",
    "\n",
    "\n"
   ]
  },
  {
   "cell_type": "code",
   "execution_count": 10,
   "metadata": {
    "execution": {
     "iopub.execute_input": "2021-01-14T11:31:10.394283Z",
     "iopub.status.busy": "2021-01-14T11:31:10.393611Z",
     "iopub.status.idle": "2021-01-14T11:31:10.900883Z",
     "shell.execute_reply": "2021-01-14T11:31:10.900187Z"
    },
    "papermill": {
     "duration": 0.540584,
     "end_time": "2021-01-14T11:31:10.901181",
     "exception": false,
     "start_time": "2021-01-14T11:31:10.360597",
     "status": "completed"
    },
    "tags": []
   },
   "outputs": [
    {
     "data": {
      "text/plain": [
       "<matplotlib.axes._subplots.AxesSubplot at 0x7f78b9870e10>"
      ]
     },
     "execution_count": 10,
     "metadata": {},
     "output_type": "execute_result"
    },
    {
     "data": {
      "image/png": "[encoded data removed]",
      "text/plain": [
       "<Figure size 1800x720 with 2 Axes>"
      ]
     },
     "metadata": {},
     "output_type": "display_data"
    }
   ],
   "source": [
    "#plot the missing values using missingno library\n",
    "msno.matrix(data)\n"
   ]
  },
  {
   "cell_type": "code",
   "execution_count": 11,
   "metadata": {
    "execution": {
     "iopub.execute_input": "2021-01-14T11:31:10.970275Z",
     "iopub.status.busy": "2021-01-14T11:31:10.969343Z",
     "iopub.status.idle": "2021-01-14T11:31:10.973123Z",
     "shell.execute_reply": "2021-01-14T11:31:10.972465Z"
    },
    "papermill": {
     "duration": 0.040733,
     "end_time": "2021-01-14T11:31:10.973246",
     "exception": false,
     "start_time": "2021-01-14T11:31:10.932513",
     "status": "completed"
    },
    "tags": []
   },
   "outputs": [],
   "source": [
    "#drop the unnecessary colums which for sure wont have any effect on training/prediction\n",
    "data=data.drop([\"PassengerId\",\"Name\",\"Cabin\"],axis=1)\n",
    "data_predict=data_predict.drop([\"PassengerId\",\"Name\",\"Cabin\"],axis=1)\n"
   ]
  },
  {
   "cell_type": "code",
   "execution_count": 12,
   "metadata": {
    "execution": {
     "iopub.execute_input": "2021-01-14T11:31:11.043550Z",
     "iopub.status.busy": "2021-01-14T11:31:11.042453Z",
     "iopub.status.idle": "2021-01-14T11:31:11.046151Z",
     "shell.execute_reply": "2021-01-14T11:31:11.046754Z"
    },
    "papermill": {
     "duration": 0.043456,
     "end_time": "2021-01-14T11:31:11.046928",
     "exception": false,
     "start_time": "2021-01-14T11:31:11.003472",
     "status": "completed"
    },
    "tags": []
   },
   "outputs": [
    {
     "name": "stdout",
     "output_type": "stream",
     "text": [
      "Pclass      0\n",
      "Sex         0\n",
      "Age         0\n",
      "SibSp       0\n",
      "Parch       0\n",
      "Ticket      0\n",
      "Fare        0\n",
      "Embarked    0\n",
      "dtype: int64\n",
      "Survived    0\n",
      "Pclass      0\n",
      "Sex         0\n",
      "Age         0\n",
      "SibSp       0\n",
      "Parch       0\n",
      "Ticket      0\n",
      "Fare        0\n",
      "Embarked    0\n",
      "dtype: int64\n"
     ]
    }
   ],
   "source": [
    "#Check is all the missing values have been replaced or not\n",
    "print (data_predict.isnull().sum())\n",
    "print (data.isnull().sum())\n"
   ]
  },
  {
   "cell_type": "code",
   "execution_count": 13,
   "metadata": {
    "execution": {
     "iopub.execute_input": "2021-01-14T11:31:11.117106Z",
     "iopub.status.busy": "2021-01-14T11:31:11.116085Z",
     "iopub.status.idle": "2021-01-14T11:31:11.132369Z",
     "shell.execute_reply": "2021-01-14T11:31:11.132967Z"
    },
    "papermill": {
     "duration": 0.05553,
     "end_time": "2021-01-14T11:31:11.133109",
     "exception": false,
     "start_time": "2021-01-14T11:31:11.077579",
     "status": "completed"
    },
    "tags": []
   },
   "outputs": [],
   "source": [
    "#The categorical values should be encoded  \n",
    "le = LabelEncoder() \n",
    "one_hot = OneHotEncoder()\n",
    "\n",
    "  \n",
    "data['Sex']= le.fit_transform(data['Sex']) \n",
    "data_predict['Sex']= le.fit_transform(data_predict['Sex']) \n",
    "\n",
    "oe_results= one_hot.fit_transform(data[['Embarked']])\n",
    "oe_results_pre= one_hot.fit_transform(data_predict[['Embarked']])\n",
    "\n",
    "data = data.join(pd.DataFrame(oe_results.toarray(), columns=one_hot.categories_))\n",
    "data_predict= data_predict.join(pd.DataFrame(oe_results_pre.toarray(), columns=one_hot.categories_))\n",
    "\n",
    "\n"
   ]
  },
  {
   "cell_type": "code",
   "execution_count": 14,
   "metadata": {
    "execution": {
     "iopub.execute_input": "2021-01-14T11:31:11.197520Z",
     "iopub.status.busy": "2021-01-14T11:31:11.196735Z",
     "iopub.status.idle": "2021-01-14T11:31:11.204967Z",
     "shell.execute_reply": "2021-01-14T11:31:11.205562Z"
    },
    "papermill": {
     "duration": 0.042139,
     "end_time": "2021-01-14T11:31:11.205732",
     "exception": false,
     "start_time": "2021-01-14T11:31:11.163593",
     "status": "completed"
    },
    "tags": []
   },
   "outputs": [],
   "source": [
    "data=data.drop([\"Ticket\",\"Embarked\"],axis=1)\n",
    "data_predict=data_predict.drop([\"Ticket\",\"Embarked\"],axis=1)"
   ]
  },
  {
   "cell_type": "code",
   "execution_count": 15,
   "metadata": {
    "execution": {
     "iopub.execute_input": "2021-01-14T11:31:11.272007Z",
     "iopub.status.busy": "2021-01-14T11:31:11.271148Z",
     "iopub.status.idle": "2021-01-14T11:31:11.294387Z",
     "shell.execute_reply": "2021-01-14T11:31:11.293764Z"
    },
    "papermill": {
     "duration": 0.057966,
     "end_time": "2021-01-14T11:31:11.294516",
     "exception": false,
     "start_time": "2021-01-14T11:31:11.236550",
     "status": "completed"
    },
    "tags": []
   },
   "outputs": [
    {
     "data": {
      "text/html": [
       "<div>\n",
       "<style scoped>\n",
       "    .dataframe tbody tr th:only-of-type {\n",
       "        vertical-align: middle;\n",
       "    }\n",
       "\n",
       "    .dataframe tbody tr th {\n",
       "        vertical-align: top;\n",
       "    }\n",
       "\n",
       "    .dataframe thead th {\n",
       "        text-align: right;\n",
       "    }\n",
       "</style>\n",
       "<table border=\"1\" class=\"dataframe\">\n",
       "  <thead>\n",
       "    <tr style=\"text-align: right;\">\n",
       "      <th></th>\n",
       "      <th>Survived</th>\n",
       "      <th>Pclass</th>\n",
       "      <th>Sex</th>\n",
       "      <th>Age</th>\n",
       "      <th>SibSp</th>\n",
       "      <th>Parch</th>\n",
       "      <th>Fare</th>\n",
       "      <th>(C,)</th>\n",
       "      <th>(Q,)</th>\n",
       "      <th>(S,)</th>\n",
       "    </tr>\n",
       "  </thead>\n",
       "  <tbody>\n",
       "    <tr>\n",
       "      <th>Survived</th>\n",
       "      <td>1.000000</td>\n",
       "      <td>-0.338481</td>\n",
       "      <td>-0.543351</td>\n",
       "      <td>-0.070423</td>\n",
       "      <td>-0.035322</td>\n",
       "      <td>0.081629</td>\n",
       "      <td>0.257307</td>\n",
       "      <td>0.168240</td>\n",
       "      <td>0.003650</td>\n",
       "      <td>-0.149683</td>\n",
       "    </tr>\n",
       "    <tr>\n",
       "      <th>Pclass</th>\n",
       "      <td>-0.338481</td>\n",
       "      <td>1.000000</td>\n",
       "      <td>0.131900</td>\n",
       "      <td>-0.330176</td>\n",
       "      <td>0.083081</td>\n",
       "      <td>0.018443</td>\n",
       "      <td>-0.549500</td>\n",
       "      <td>-0.243292</td>\n",
       "      <td>0.221009</td>\n",
       "      <td>0.074053</td>\n",
       "    </tr>\n",
       "    <tr>\n",
       "      <th>Sex</th>\n",
       "      <td>-0.543351</td>\n",
       "      <td>0.131900</td>\n",
       "      <td>1.000000</td>\n",
       "      <td>0.084520</td>\n",
       "      <td>-0.114631</td>\n",
       "      <td>-0.245489</td>\n",
       "      <td>-0.182333</td>\n",
       "      <td>-0.082853</td>\n",
       "      <td>-0.074115</td>\n",
       "      <td>0.119224</td>\n",
       "    </tr>\n",
       "    <tr>\n",
       "      <th>Age</th>\n",
       "      <td>-0.070423</td>\n",
       "      <td>-0.330176</td>\n",
       "      <td>0.084520</td>\n",
       "      <td>1.000000</td>\n",
       "      <td>-0.232493</td>\n",
       "      <td>-0.180016</td>\n",
       "      <td>0.090891</td>\n",
       "      <td>0.032246</td>\n",
       "      <td>-0.011601</td>\n",
       "      <td>-0.020948</td>\n",
       "    </tr>\n",
       "    <tr>\n",
       "      <th>SibSp</th>\n",
       "      <td>-0.035322</td>\n",
       "      <td>0.083081</td>\n",
       "      <td>-0.114631</td>\n",
       "      <td>-0.232493</td>\n",
       "      <td>1.000000</td>\n",
       "      <td>0.414838</td>\n",
       "      <td>0.159651</td>\n",
       "      <td>-0.059528</td>\n",
       "      <td>-0.026354</td>\n",
       "      <td>0.068734</td>\n",
       "    </tr>\n",
       "    <tr>\n",
       "      <th>Parch</th>\n",
       "      <td>0.081629</td>\n",
       "      <td>0.018443</td>\n",
       "      <td>-0.245489</td>\n",
       "      <td>-0.180016</td>\n",
       "      <td>0.414838</td>\n",
       "      <td>1.000000</td>\n",
       "      <td>0.216225</td>\n",
       "      <td>-0.011069</td>\n",
       "      <td>-0.081228</td>\n",
       "      <td>0.060814</td>\n",
       "    </tr>\n",
       "    <tr>\n",
       "      <th>Fare</th>\n",
       "      <td>0.257307</td>\n",
       "      <td>-0.549500</td>\n",
       "      <td>-0.182333</td>\n",
       "      <td>0.090891</td>\n",
       "      <td>0.159651</td>\n",
       "      <td>0.216225</td>\n",
       "      <td>1.000000</td>\n",
       "      <td>0.269335</td>\n",
       "      <td>-0.117216</td>\n",
       "      <td>-0.162184</td>\n",
       "    </tr>\n",
       "    <tr>\n",
       "      <th>(C,)</th>\n",
       "      <td>0.168240</td>\n",
       "      <td>-0.243292</td>\n",
       "      <td>-0.082853</td>\n",
       "      <td>0.032246</td>\n",
       "      <td>-0.059528</td>\n",
       "      <td>-0.011069</td>\n",
       "      <td>0.269335</td>\n",
       "      <td>1.000000</td>\n",
       "      <td>-0.148258</td>\n",
       "      <td>-0.782742</td>\n",
       "    </tr>\n",
       "    <tr>\n",
       "      <th>(Q,)</th>\n",
       "      <td>0.003650</td>\n",
       "      <td>0.221009</td>\n",
       "      <td>-0.074115</td>\n",
       "      <td>-0.011601</td>\n",
       "      <td>-0.026354</td>\n",
       "      <td>-0.081228</td>\n",
       "      <td>-0.117216</td>\n",
       "      <td>-0.148258</td>\n",
       "      <td>1.000000</td>\n",
       "      <td>-0.499421</td>\n",
       "    </tr>\n",
       "    <tr>\n",
       "      <th>(S,)</th>\n",
       "      <td>-0.149683</td>\n",
       "      <td>0.074053</td>\n",
       "      <td>0.119224</td>\n",
       "      <td>-0.020948</td>\n",
       "      <td>0.068734</td>\n",
       "      <td>0.060814</td>\n",
       "      <td>-0.162184</td>\n",
       "      <td>-0.782742</td>\n",
       "      <td>-0.499421</td>\n",
       "      <td>1.000000</td>\n",
       "    </tr>\n",
       "  </tbody>\n",
       "</table>\n",
       "</div>"
      ],
      "text/plain": [
       "          Survived    Pclass       Sex       Age     SibSp     Parch  \\\n",
       "Survived  1.000000 -0.338481 -0.543351 -0.070423 -0.035322  0.081629   \n",
       "Pclass   -0.338481  1.000000  0.131900 -0.330176  0.083081  0.018443   \n",
       "Sex      -0.543351  0.131900  1.000000  0.084520 -0.114631 -0.245489   \n",
       "Age      -0.070423 -0.330176  0.084520  1.000000 -0.232493 -0.180016   \n",
       "SibSp    -0.035322  0.083081 -0.114631 -0.232493  1.000000  0.414838   \n",
       "Parch     0.081629  0.018443 -0.245489 -0.180016  0.414838  1.000000   \n",
       "Fare      0.257307 -0.549500 -0.182333  0.090891  0.159651  0.216225   \n",
       "(C,)      0.168240 -0.243292 -0.082853  0.032246 -0.059528 -0.011069   \n",
       "(Q,)      0.003650  0.221009 -0.074115 -0.011601 -0.026354 -0.081228   \n",
       "(S,)     -0.149683  0.074053  0.119224 -0.020948  0.068734  0.060814   \n",
       "\n",
       "              Fare      (C,)      (Q,)      (S,)  \n",
       "Survived  0.257307  0.168240  0.003650 -0.149683  \n",
       "Pclass   -0.549500 -0.243292  0.221009  0.074053  \n",
       "Sex      -0.182333 -0.082853 -0.074115  0.119224  \n",
       "Age       0.090891  0.032246 -0.011601 -0.020948  \n",
       "SibSp     0.159651 -0.059528 -0.026354  0.068734  \n",
       "Parch     0.216225 -0.011069 -0.081228  0.060814  \n",
       "Fare      1.000000  0.269335 -0.117216 -0.162184  \n",
       "(C,)      0.269335  1.000000 -0.148258 -0.782742  \n",
       "(Q,)     -0.117216 -0.148258  1.000000 -0.499421  \n",
       "(S,)     -0.162184 -0.782742 -0.499421  1.000000  "
      ]
     },
     "execution_count": 15,
     "metadata": {},
     "output_type": "execute_result"
    }
   ],
   "source": [
    "#check for correlation matrix [onlt for numeric values]\n",
    "data.corr()\n"
   ]
  },
  {
   "cell_type": "markdown",
   "metadata": {
    "papermill": {
     "duration": 0.032092,
     "end_time": "2021-01-14T11:31:11.360709",
     "exception": false,
     "start_time": "2021-01-14T11:31:11.328617",
     "status": "completed"
    },
    "tags": []
   },
   "source": [
    "parch and sibsp seem to have co-linearity(mulicolinearity).If you wish you can drop one of them and check for the accruracy and decide to keep both of them or only one"
   ]
  },
  {
   "cell_type": "code",
   "execution_count": 16,
   "metadata": {
    "execution": {
     "iopub.execute_input": "2021-01-14T11:31:11.433678Z",
     "iopub.status.busy": "2021-01-14T11:31:11.432960Z",
     "iopub.status.idle": "2021-01-14T11:31:11.443784Z",
     "shell.execute_reply": "2021-01-14T11:31:11.443121Z"
    },
    "papermill": {
     "duration": 0.0511,
     "end_time": "2021-01-14T11:31:11.443897",
     "exception": false,
     "start_time": "2021-01-14T11:31:11.392797",
     "status": "completed"
    },
    "tags": []
   },
   "outputs": [
    {
     "data": {
      "text/html": [
       "<div>\n",
       "<style scoped>\n",
       "    .dataframe tbody tr th:only-of-type {\n",
       "        vertical-align: middle;\n",
       "    }\n",
       "\n",
       "    .dataframe tbody tr th {\n",
       "        vertical-align: top;\n",
       "    }\n",
       "\n",
       "    .dataframe thead th {\n",
       "        text-align: right;\n",
       "    }\n",
       "</style>\n",
       "<table border=\"1\" class=\"dataframe\">\n",
       "  <thead>\n",
       "    <tr style=\"text-align: right;\">\n",
       "      <th></th>\n",
       "      <th>Survived</th>\n",
       "      <th>Pclass</th>\n",
       "      <th>Sex</th>\n",
       "      <th>Age</th>\n",
       "      <th>SibSp</th>\n",
       "      <th>Parch</th>\n",
       "      <th>Fare</th>\n",
       "      <th>(C,)</th>\n",
       "      <th>(Q,)</th>\n",
       "      <th>(S,)</th>\n",
       "    </tr>\n",
       "  </thead>\n",
       "  <tbody>\n",
       "    <tr>\n",
       "      <th>0</th>\n",
       "      <td>0</td>\n",
       "      <td>3</td>\n",
       "      <td>1</td>\n",
       "      <td>22.0</td>\n",
       "      <td>1</td>\n",
       "      <td>0</td>\n",
       "      <td>7.2500</td>\n",
       "      <td>0.0</td>\n",
       "      <td>0.0</td>\n",
       "      <td>1.0</td>\n",
       "    </tr>\n",
       "    <tr>\n",
       "      <th>1</th>\n",
       "      <td>1</td>\n",
       "      <td>1</td>\n",
       "      <td>0</td>\n",
       "      <td>38.0</td>\n",
       "      <td>1</td>\n",
       "      <td>0</td>\n",
       "      <td>71.2833</td>\n",
       "      <td>1.0</td>\n",
       "      <td>0.0</td>\n",
       "      <td>0.0</td>\n",
       "    </tr>\n",
       "    <tr>\n",
       "      <th>2</th>\n",
       "      <td>1</td>\n",
       "      <td>3</td>\n",
       "      <td>0</td>\n",
       "      <td>26.0</td>\n",
       "      <td>0</td>\n",
       "      <td>0</td>\n",
       "      <td>7.9250</td>\n",
       "      <td>0.0</td>\n",
       "      <td>0.0</td>\n",
       "      <td>1.0</td>\n",
       "    </tr>\n",
       "    <tr>\n",
       "      <th>3</th>\n",
       "      <td>1</td>\n",
       "      <td>1</td>\n",
       "      <td>0</td>\n",
       "      <td>35.0</td>\n",
       "      <td>1</td>\n",
       "      <td>0</td>\n",
       "      <td>53.1000</td>\n",
       "      <td>0.0</td>\n",
       "      <td>0.0</td>\n",
       "      <td>1.0</td>\n",
       "    </tr>\n",
       "    <tr>\n",
       "      <th>4</th>\n",
       "      <td>0</td>\n",
       "      <td>3</td>\n",
       "      <td>1</td>\n",
       "      <td>35.0</td>\n",
       "      <td>0</td>\n",
       "      <td>0</td>\n",
       "      <td>8.0500</td>\n",
       "      <td>0.0</td>\n",
       "      <td>0.0</td>\n",
       "      <td>1.0</td>\n",
       "    </tr>\n",
       "  </tbody>\n",
       "</table>\n",
       "</div>"
      ],
      "text/plain": [
       "   Survived  Pclass  Sex   Age  SibSp  Parch     Fare  (C,)  (Q,)  (S,)\n",
       "0         0       3    1  22.0      1      0   7.2500   0.0   0.0   1.0\n",
       "1         1       1    0  38.0      1      0  71.2833   1.0   0.0   0.0\n",
       "2         1       3    0  26.0      0      0   7.9250   0.0   0.0   1.0\n",
       "3         1       1    0  35.0      1      0  53.1000   0.0   0.0   1.0\n",
       "4         0       3    1  35.0      0      0   8.0500   0.0   0.0   1.0"
      ]
     },
     "execution_count": 16,
     "metadata": {},
     "output_type": "execute_result"
    }
   ],
   "source": [
    "data.head()"
   ]
  },
  {
   "cell_type": "code",
   "execution_count": 17,
   "metadata": {
    "execution": {
     "iopub.execute_input": "2021-01-14T11:31:11.526041Z",
     "iopub.status.busy": "2021-01-14T11:31:11.524932Z",
     "iopub.status.idle": "2021-01-14T11:31:11.529395Z",
     "shell.execute_reply": "2021-01-14T11:31:11.528719Z"
    },
    "papermill": {
     "duration": 0.053351,
     "end_time": "2021-01-14T11:31:11.529536",
     "exception": false,
     "start_time": "2021-01-14T11:31:11.476185",
     "status": "completed"
    },
    "tags": []
   },
   "outputs": [
    {
     "data": {
      "text/html": [
       "<div>\n",
       "<style scoped>\n",
       "    .dataframe tbody tr th:only-of-type {\n",
       "        vertical-align: middle;\n",
       "    }\n",
       "\n",
       "    .dataframe tbody tr th {\n",
       "        vertical-align: top;\n",
       "    }\n",
       "\n",
       "    .dataframe thead th {\n",
       "        text-align: right;\n",
       "    }\n",
       "</style>\n",
       "<table border=\"1\" class=\"dataframe\">\n",
       "  <thead>\n",
       "    <tr style=\"text-align: right;\">\n",
       "      <th></th>\n",
       "      <th>Pclass</th>\n",
       "      <th>Sex</th>\n",
       "      <th>Age</th>\n",
       "      <th>SibSp</th>\n",
       "      <th>Parch</th>\n",
       "      <th>Fare</th>\n",
       "      <th>(C,)</th>\n",
       "      <th>(Q,)</th>\n",
       "      <th>(S,)</th>\n",
       "    </tr>\n",
       "  </thead>\n",
       "  <tbody>\n",
       "    <tr>\n",
       "      <th>0</th>\n",
       "      <td>3</td>\n",
       "      <td>1</td>\n",
       "      <td>34.5</td>\n",
       "      <td>0</td>\n",
       "      <td>0</td>\n",
       "      <td>7.8292</td>\n",
       "      <td>0.0</td>\n",
       "      <td>1.0</td>\n",
       "      <td>0.0</td>\n",
       "    </tr>\n",
       "    <tr>\n",
       "      <th>1</th>\n",
       "      <td>3</td>\n",
       "      <td>0</td>\n",
       "      <td>47.0</td>\n",
       "      <td>1</td>\n",
       "      <td>0</td>\n",
       "      <td>7.0000</td>\n",
       "      <td>0.0</td>\n",
       "      <td>0.0</td>\n",
       "      <td>1.0</td>\n",
       "    </tr>\n",
       "    <tr>\n",
       "      <th>2</th>\n",
       "      <td>2</td>\n",
       "      <td>1</td>\n",
       "      <td>62.0</td>\n",
       "      <td>0</td>\n",
       "      <td>0</td>\n",
       "      <td>9.6875</td>\n",
       "      <td>0.0</td>\n",
       "      <td>1.0</td>\n",
       "      <td>0.0</td>\n",
       "    </tr>\n",
       "    <tr>\n",
       "      <th>3</th>\n",
       "      <td>3</td>\n",
       "      <td>1</td>\n",
       "      <td>27.0</td>\n",
       "      <td>0</td>\n",
       "      <td>0</td>\n",
       "      <td>8.6625</td>\n",
       "      <td>0.0</td>\n",
       "      <td>0.0</td>\n",
       "      <td>1.0</td>\n",
       "    </tr>\n",
       "    <tr>\n",
       "      <th>4</th>\n",
       "      <td>3</td>\n",
       "      <td>0</td>\n",
       "      <td>22.0</td>\n",
       "      <td>1</td>\n",
       "      <td>1</td>\n",
       "      <td>12.2875</td>\n",
       "      <td>0.0</td>\n",
       "      <td>0.0</td>\n",
       "      <td>1.0</td>\n",
       "    </tr>\n",
       "  </tbody>\n",
       "</table>\n",
       "</div>"
      ],
      "text/plain": [
       "   Pclass  Sex   Age  SibSp  Parch     Fare  (C,)  (Q,)  (S,)\n",
       "0       3    1  34.5      0      0   7.8292   0.0   1.0   0.0\n",
       "1       3    0  47.0      1      0   7.0000   0.0   0.0   1.0\n",
       "2       2    1  62.0      0      0   9.6875   0.0   1.0   0.0\n",
       "3       3    1  27.0      0      0   8.6625   0.0   0.0   1.0\n",
       "4       3    0  22.0      1      1  12.2875   0.0   0.0   1.0"
      ]
     },
     "execution_count": 17,
     "metadata": {},
     "output_type": "execute_result"
    }
   ],
   "source": [
    "data_predict.head()"
   ]
  },
  {
   "cell_type": "code",
   "execution_count": null,
   "metadata": {
    "papermill": {
     "duration": 0.032463,
     "end_time": "2021-01-14T11:31:11.595286",
     "exception": false,
     "start_time": "2021-01-14T11:31:11.562823",
     "status": "completed"
    },
    "tags": []
   },
   "outputs": [],
   "source": []
  },
  {
   "cell_type": "code",
   "execution_count": 18,
   "metadata": {
    "execution": {
     "iopub.execute_input": "2021-01-14T11:31:11.663975Z",
     "iopub.status.busy": "2021-01-14T11:31:11.663258Z",
     "iopub.status.idle": "2021-01-14T11:31:11.678329Z",
     "shell.execute_reply": "2021-01-14T11:31:11.678851Z"
    },
    "papermill": {
     "duration": 0.051106,
     "end_time": "2021-01-14T11:31:11.679011",
     "exception": false,
     "start_time": "2021-01-14T11:31:11.627905",
     "status": "completed"
    },
    "tags": []
   },
   "outputs": [
    {
     "data": {
      "text/html": [
       "<div>\n",
       "<style scoped>\n",
       "    .dataframe tbody tr th:only-of-type {\n",
       "        vertical-align: middle;\n",
       "    }\n",
       "\n",
       "    .dataframe tbody tr th {\n",
       "        vertical-align: top;\n",
       "    }\n",
       "\n",
       "    .dataframe thead th {\n",
       "        text-align: right;\n",
       "    }\n",
       "</style>\n",
       "<table border=\"1\" class=\"dataframe\">\n",
       "  <thead>\n",
       "    <tr style=\"text-align: right;\">\n",
       "      <th></th>\n",
       "      <th>Survived</th>\n",
       "      <th>Pclass</th>\n",
       "      <th>Sex</th>\n",
       "      <th>Age</th>\n",
       "      <th>SibSp</th>\n",
       "      <th>Parch</th>\n",
       "      <th>Fare</th>\n",
       "      <th>(C,)</th>\n",
       "      <th>(Q,)</th>\n",
       "      <th>(S,)</th>\n",
       "    </tr>\n",
       "  </thead>\n",
       "  <tbody>\n",
       "    <tr>\n",
       "      <th>0</th>\n",
       "      <td>0</td>\n",
       "      <td>3</td>\n",
       "      <td>1</td>\n",
       "      <td>22.0</td>\n",
       "      <td>1</td>\n",
       "      <td>0</td>\n",
       "      <td>7.2500</td>\n",
       "      <td>0.0</td>\n",
       "      <td>0.0</td>\n",
       "      <td>1.0</td>\n",
       "    </tr>\n",
       "    <tr>\n",
       "      <th>1</th>\n",
       "      <td>1</td>\n",
       "      <td>1</td>\n",
       "      <td>0</td>\n",
       "      <td>38.0</td>\n",
       "      <td>1</td>\n",
       "      <td>0</td>\n",
       "      <td>71.2833</td>\n",
       "      <td>1.0</td>\n",
       "      <td>0.0</td>\n",
       "      <td>0.0</td>\n",
       "    </tr>\n",
       "    <tr>\n",
       "      <th>2</th>\n",
       "      <td>1</td>\n",
       "      <td>3</td>\n",
       "      <td>0</td>\n",
       "      <td>26.0</td>\n",
       "      <td>0</td>\n",
       "      <td>0</td>\n",
       "      <td>7.9250</td>\n",
       "      <td>0.0</td>\n",
       "      <td>0.0</td>\n",
       "      <td>1.0</td>\n",
       "    </tr>\n",
       "    <tr>\n",
       "      <th>3</th>\n",
       "      <td>1</td>\n",
       "      <td>1</td>\n",
       "      <td>0</td>\n",
       "      <td>35.0</td>\n",
       "      <td>1</td>\n",
       "      <td>0</td>\n",
       "      <td>53.1000</td>\n",
       "      <td>0.0</td>\n",
       "      <td>0.0</td>\n",
       "      <td>1.0</td>\n",
       "    </tr>\n",
       "    <tr>\n",
       "      <th>4</th>\n",
       "      <td>0</td>\n",
       "      <td>3</td>\n",
       "      <td>1</td>\n",
       "      <td>35.0</td>\n",
       "      <td>0</td>\n",
       "      <td>0</td>\n",
       "      <td>8.0500</td>\n",
       "      <td>0.0</td>\n",
       "      <td>0.0</td>\n",
       "      <td>1.0</td>\n",
       "    </tr>\n",
       "  </tbody>\n",
       "</table>\n",
       "</div>"
      ],
      "text/plain": [
       "   Survived  Pclass  Sex   Age  SibSp  Parch     Fare  (C,)  (Q,)  (S,)\n",
       "0         0       3    1  22.0      1      0   7.2500   0.0   0.0   1.0\n",
       "1         1       1    0  38.0      1      0  71.2833   1.0   0.0   0.0\n",
       "2         1       3    0  26.0      0      0   7.9250   0.0   0.0   1.0\n",
       "3         1       1    0  35.0      1      0  53.1000   0.0   0.0   1.0\n",
       "4         0       3    1  35.0      0      0   8.0500   0.0   0.0   1.0"
      ]
     },
     "execution_count": 18,
     "metadata": {},
     "output_type": "execute_result"
    }
   ],
   "source": [
    "data.head()"
   ]
  },
  {
   "cell_type": "code",
   "execution_count": 19,
   "metadata": {
    "execution": {
     "iopub.execute_input": "2021-01-14T11:31:11.750974Z",
     "iopub.status.busy": "2021-01-14T11:31:11.750294Z",
     "iopub.status.idle": "2021-01-14T11:31:11.765607Z",
     "shell.execute_reply": "2021-01-14T11:31:11.766165Z"
    },
    "papermill": {
     "duration": 0.053881,
     "end_time": "2021-01-14T11:31:11.766324",
     "exception": false,
     "start_time": "2021-01-14T11:31:11.712443",
     "status": "completed"
    },
    "tags": []
   },
   "outputs": [
    {
     "data": {
      "text/html": [
       "<div>\n",
       "<style scoped>\n",
       "    .dataframe tbody tr th:only-of-type {\n",
       "        vertical-align: middle;\n",
       "    }\n",
       "\n",
       "    .dataframe tbody tr th {\n",
       "        vertical-align: top;\n",
       "    }\n",
       "\n",
       "    .dataframe thead th {\n",
       "        text-align: right;\n",
       "    }\n",
       "</style>\n",
       "<table border=\"1\" class=\"dataframe\">\n",
       "  <thead>\n",
       "    <tr style=\"text-align: right;\">\n",
       "      <th></th>\n",
       "      <th>Pclass</th>\n",
       "      <th>Sex</th>\n",
       "      <th>Age</th>\n",
       "      <th>SibSp</th>\n",
       "      <th>Parch</th>\n",
       "      <th>Fare</th>\n",
       "      <th>(C,)</th>\n",
       "      <th>(Q,)</th>\n",
       "      <th>(S,)</th>\n",
       "    </tr>\n",
       "  </thead>\n",
       "  <tbody>\n",
       "    <tr>\n",
       "      <th>0</th>\n",
       "      <td>3</td>\n",
       "      <td>1</td>\n",
       "      <td>34.5</td>\n",
       "      <td>0</td>\n",
       "      <td>0</td>\n",
       "      <td>7.8292</td>\n",
       "      <td>0.0</td>\n",
       "      <td>1.0</td>\n",
       "      <td>0.0</td>\n",
       "    </tr>\n",
       "    <tr>\n",
       "      <th>1</th>\n",
       "      <td>3</td>\n",
       "      <td>0</td>\n",
       "      <td>47.0</td>\n",
       "      <td>1</td>\n",
       "      <td>0</td>\n",
       "      <td>7.0000</td>\n",
       "      <td>0.0</td>\n",
       "      <td>0.0</td>\n",
       "      <td>1.0</td>\n",
       "    </tr>\n",
       "    <tr>\n",
       "      <th>2</th>\n",
       "      <td>2</td>\n",
       "      <td>1</td>\n",
       "      <td>62.0</td>\n",
       "      <td>0</td>\n",
       "      <td>0</td>\n",
       "      <td>9.6875</td>\n",
       "      <td>0.0</td>\n",
       "      <td>1.0</td>\n",
       "      <td>0.0</td>\n",
       "    </tr>\n",
       "    <tr>\n",
       "      <th>3</th>\n",
       "      <td>3</td>\n",
       "      <td>1</td>\n",
       "      <td>27.0</td>\n",
       "      <td>0</td>\n",
       "      <td>0</td>\n",
       "      <td>8.6625</td>\n",
       "      <td>0.0</td>\n",
       "      <td>0.0</td>\n",
       "      <td>1.0</td>\n",
       "    </tr>\n",
       "    <tr>\n",
       "      <th>4</th>\n",
       "      <td>3</td>\n",
       "      <td>0</td>\n",
       "      <td>22.0</td>\n",
       "      <td>1</td>\n",
       "      <td>1</td>\n",
       "      <td>12.2875</td>\n",
       "      <td>0.0</td>\n",
       "      <td>0.0</td>\n",
       "      <td>1.0</td>\n",
       "    </tr>\n",
       "  </tbody>\n",
       "</table>\n",
       "</div>"
      ],
      "text/plain": [
       "   Pclass  Sex   Age  SibSp  Parch     Fare  (C,)  (Q,)  (S,)\n",
       "0       3    1  34.5      0      0   7.8292   0.0   1.0   0.0\n",
       "1       3    0  47.0      1      0   7.0000   0.0   0.0   1.0\n",
       "2       2    1  62.0      0      0   9.6875   0.0   1.0   0.0\n",
       "3       3    1  27.0      0      0   8.6625   0.0   0.0   1.0\n",
       "4       3    0  22.0      1      1  12.2875   0.0   0.0   1.0"
      ]
     },
     "execution_count": 19,
     "metadata": {},
     "output_type": "execute_result"
    }
   ],
   "source": [
    "data_predict.head()"
   ]
  },
  {
   "cell_type": "code",
   "execution_count": 20,
   "metadata": {
    "execution": {
     "iopub.execute_input": "2021-01-14T11:31:11.838644Z",
     "iopub.status.busy": "2021-01-14T11:31:11.837924Z",
     "iopub.status.idle": "2021-01-14T11:31:11.847941Z",
     "shell.execute_reply": "2021-01-14T11:31:11.848515Z"
    },
    "papermill": {
     "duration": 0.047404,
     "end_time": "2021-01-14T11:31:11.848675",
     "exception": false,
     "start_time": "2021-01-14T11:31:11.801271",
     "status": "completed"
    },
    "tags": []
   },
   "outputs": [],
   "source": [
    "#scale the all the columns so thar they have the same range\n",
    "standscaler=StandardScaler()\n",
    "data_predict = pd.DataFrame(standscaler.fit_transform(data_predict),columns = data_predict.columns)\n",
    "\n"
   ]
  },
  {
   "cell_type": "code",
   "execution_count": 21,
   "metadata": {
    "execution": {
     "iopub.execute_input": "2021-01-14T11:31:11.921226Z",
     "iopub.status.busy": "2021-01-14T11:31:11.920529Z",
     "iopub.status.idle": "2021-01-14T11:31:11.926080Z",
     "shell.execute_reply": "2021-01-14T11:31:11.926638Z"
    },
    "papermill": {
     "duration": 0.043266,
     "end_time": "2021-01-14T11:31:11.926791",
     "exception": false,
     "start_time": "2021-01-14T11:31:11.883525",
     "status": "completed"
    },
    "tags": []
   },
   "outputs": [],
   "source": [
    "X = data.drop('Survived',axis = 1)\n",
    "y = data['Survived']"
   ]
  },
  {
   "cell_type": "code",
   "execution_count": 22,
   "metadata": {
    "execution": {
     "iopub.execute_input": "2021-01-14T11:31:11.998829Z",
     "iopub.status.busy": "2021-01-14T11:31:11.998153Z",
     "iopub.status.idle": "2021-01-14T11:31:12.009314Z",
     "shell.execute_reply": "2021-01-14T11:31:12.008730Z"
    },
    "papermill": {
     "duration": 0.048394,
     "end_time": "2021-01-14T11:31:12.009446",
     "exception": false,
     "start_time": "2021-01-14T11:31:11.961052",
     "status": "completed"
    },
    "tags": []
   },
   "outputs": [],
   "source": [
    "X = pd.DataFrame(standscaler.fit_transform(X),columns = X.columns)\n"
   ]
  },
  {
   "cell_type": "code",
   "execution_count": 23,
   "metadata": {
    "execution": {
     "iopub.execute_input": "2021-01-14T11:31:12.095838Z",
     "iopub.status.busy": "2021-01-14T11:31:12.094914Z",
     "iopub.status.idle": "2021-01-14T11:31:12.100218Z",
     "shell.execute_reply": "2021-01-14T11:31:12.099599Z"
    },
    "papermill": {
     "duration": 0.055817,
     "end_time": "2021-01-14T11:31:12.100335",
     "exception": false,
     "start_time": "2021-01-14T11:31:12.044518",
     "status": "completed"
    },
    "tags": []
   },
   "outputs": [
    {
     "data": {
      "text/html": [
       "<div>\n",
       "<style scoped>\n",
       "    .dataframe tbody tr th:only-of-type {\n",
       "        vertical-align: middle;\n",
       "    }\n",
       "\n",
       "    .dataframe tbody tr th {\n",
       "        vertical-align: top;\n",
       "    }\n",
       "\n",
       "    .dataframe thead th {\n",
       "        text-align: right;\n",
       "    }\n",
       "</style>\n",
       "<table border=\"1\" class=\"dataframe\">\n",
       "  <thead>\n",
       "    <tr style=\"text-align: right;\">\n",
       "      <th></th>\n",
       "      <th>Pclass</th>\n",
       "      <th>Sex</th>\n",
       "      <th>Age</th>\n",
       "      <th>SibSp</th>\n",
       "      <th>Parch</th>\n",
       "      <th>Fare</th>\n",
       "      <th>(C,)</th>\n",
       "      <th>(Q,)</th>\n",
       "      <th>(S,)</th>\n",
       "    </tr>\n",
       "  </thead>\n",
       "  <tbody>\n",
       "    <tr>\n",
       "      <th>0</th>\n",
       "      <td>0.827377</td>\n",
       "      <td>0.737695</td>\n",
       "      <td>-0.595793</td>\n",
       "      <td>0.432793</td>\n",
       "      <td>-0.473674</td>\n",
       "      <td>-0.502445</td>\n",
       "      <td>-0.482043</td>\n",
       "      <td>-0.307562</td>\n",
       "      <td>0.615838</td>\n",
       "    </tr>\n",
       "    <tr>\n",
       "      <th>1</th>\n",
       "      <td>-1.566107</td>\n",
       "      <td>-1.355574</td>\n",
       "      <td>0.635449</td>\n",
       "      <td>0.432793</td>\n",
       "      <td>-0.473674</td>\n",
       "      <td>0.786845</td>\n",
       "      <td>2.074505</td>\n",
       "      <td>-0.307562</td>\n",
       "      <td>-1.623803</td>\n",
       "    </tr>\n",
       "    <tr>\n",
       "      <th>2</th>\n",
       "      <td>0.827377</td>\n",
       "      <td>-1.355574</td>\n",
       "      <td>-0.287982</td>\n",
       "      <td>-0.474545</td>\n",
       "      <td>-0.473674</td>\n",
       "      <td>-0.488854</td>\n",
       "      <td>-0.482043</td>\n",
       "      <td>-0.307562</td>\n",
       "      <td>0.615838</td>\n",
       "    </tr>\n",
       "    <tr>\n",
       "      <th>3</th>\n",
       "      <td>-1.566107</td>\n",
       "      <td>-1.355574</td>\n",
       "      <td>0.404591</td>\n",
       "      <td>0.432793</td>\n",
       "      <td>-0.473674</td>\n",
       "      <td>0.420730</td>\n",
       "      <td>-0.482043</td>\n",
       "      <td>-0.307562</td>\n",
       "      <td>0.615838</td>\n",
       "    </tr>\n",
       "    <tr>\n",
       "      <th>4</th>\n",
       "      <td>0.827377</td>\n",
       "      <td>0.737695</td>\n",
       "      <td>0.404591</td>\n",
       "      <td>-0.474545</td>\n",
       "      <td>-0.473674</td>\n",
       "      <td>-0.486337</td>\n",
       "      <td>-0.482043</td>\n",
       "      <td>-0.307562</td>\n",
       "      <td>0.615838</td>\n",
       "    </tr>\n",
       "  </tbody>\n",
       "</table>\n",
       "</div>"
      ],
      "text/plain": [
       "     Pclass       Sex       Age     SibSp     Parch      Fare      (C,)  \\\n",
       "0  0.827377  0.737695 -0.595793  0.432793 -0.473674 -0.502445 -0.482043   \n",
       "1 -1.566107 -1.355574  0.635449  0.432793 -0.473674  0.786845  2.074505   \n",
       "2  0.827377 -1.355574 -0.287982 -0.474545 -0.473674 -0.488854 -0.482043   \n",
       "3 -1.566107 -1.355574  0.404591  0.432793 -0.473674  0.420730 -0.482043   \n",
       "4  0.827377  0.737695  0.404591 -0.474545 -0.473674 -0.486337 -0.482043   \n",
       "\n",
       "       (Q,)      (S,)  \n",
       "0 -0.307562  0.615838  \n",
       "1 -0.307562 -1.623803  \n",
       "2 -0.307562  0.615838  \n",
       "3 -0.307562  0.615838  \n",
       "4 -0.307562  0.615838  "
      ]
     },
     "execution_count": 23,
     "metadata": {},
     "output_type": "execute_result"
    }
   ],
   "source": [
    "\n",
    "X.head()"
   ]
  },
  {
   "cell_type": "code",
   "execution_count": 24,
   "metadata": {
    "execution": {
     "iopub.execute_input": "2021-01-14T11:31:12.175326Z",
     "iopub.status.busy": "2021-01-14T11:31:12.174625Z",
     "iopub.status.idle": "2021-01-14T11:31:12.183504Z",
     "shell.execute_reply": "2021-01-14T11:31:12.182803Z"
    },
    "papermill": {
     "duration": 0.046671,
     "end_time": "2021-01-14T11:31:12.183623",
     "exception": false,
     "start_time": "2021-01-14T11:31:12.136952",
     "status": "completed"
    },
    "tags": []
   },
   "outputs": [
    {
     "data": {
      "text/plain": [
       "Pclass    0\n",
       "Sex       0\n",
       "Age       0\n",
       "SibSp     0\n",
       "Parch     0\n",
       "Fare      0\n",
       "(C,)      0\n",
       "(Q,)      0\n",
       "(S,)      0\n",
       "dtype: int64"
      ]
     },
     "execution_count": 24,
     "metadata": {},
     "output_type": "execute_result"
    }
   ],
   "source": [
    "data_predict.isnull().sum()"
   ]
  },
  {
   "cell_type": "markdown",
   "metadata": {
    "papermill": {
     "duration": 0.038687,
     "end_time": "2021-01-14T11:31:12.259039",
     "exception": false,
     "start_time": "2021-01-14T11:31:12.220352",
     "status": "completed"
    },
    "tags": []
   },
   "source": [
    "# Training the model"
   ]
  },
  {
   "cell_type": "code",
   "execution_count": 25,
   "metadata": {
    "execution": {
     "iopub.execute_input": "2021-01-14T11:31:12.343168Z",
     "iopub.status.busy": "2021-01-14T11:31:12.342362Z",
     "iopub.status.idle": "2021-01-14T11:31:17.514567Z",
     "shell.execute_reply": "2021-01-14T11:31:17.515680Z"
    },
    "papermill": {
     "duration": 5.220972,
     "end_time": "2021-01-14T11:31:17.515868",
     "exception": false,
     "start_time": "2021-01-14T11:31:12.294896",
     "status": "completed"
    },
    "tags": []
   },
   "outputs": [
    {
     "name": "stdout",
     "output_type": "stream",
     "text": [
      "0.7968414481897629\n",
      "0.7923408239700374\n",
      "0.8198626716604245\n",
      "0.7801123595505618\n",
      "0.7771910112359551\n",
      "0.801916354556804\n",
      "0.8142322097378278\n"
     ]
    }
   ],
   "source": [
    "\n",
    "seed = 7\n",
    "# preparing models\n",
    "models = []\n",
    "models.append(('LR', LogisticRegression()))\n",
    "models.append(('LDA', LinearDiscriminantAnalysis()))\n",
    "models.append(('GradientBoostingClassifier', GradientBoostingClassifier(learning_rate=0.01)))\n",
    "models.append(('CART', DecisionTreeClassifier()))\n",
    "models.append(('NB', GaussianNB()))\n",
    "models.append(('NB', RandomForestClassifier(n_estimators=10,criterion = 'entropy')))\n",
    "\n",
    "models.append(('XGBClassifier', XGBClassifier()))\n",
    "\n",
    "for name,model in models:\n",
    "    cv = RepeatedStratifiedKFold(n_splits=10, n_repeats=2)\n",
    "    \n",
    "    \n",
    "    cv_results = model_selection.cross_val_score(model, X, y, cv=cv, scoring=\"accuracy\").mean()\n",
    "    \n",
    "    print (cv_results)\n",
    "\n"
   ]
  },
  {
   "cell_type": "code",
   "execution_count": 26,
   "metadata": {
    "execution": {
     "iopub.execute_input": "2021-01-14T11:31:17.633516Z",
     "iopub.status.busy": "2021-01-14T11:31:17.632722Z",
     "iopub.status.idle": "2021-01-14T11:31:17.784493Z",
     "shell.execute_reply": "2021-01-14T11:31:17.785047Z"
    },
    "papermill": {
     "duration": 0.219962,
     "end_time": "2021-01-14T11:31:17.785208",
     "exception": false,
     "start_time": "2021-01-14T11:31:17.565246",
     "status": "completed"
    },
    "tags": []
   },
   "outputs": [],
   "source": [
    "#choose the final model depending on Cross validation accuracy\n",
    "classifier=GradientBoostingClassifier(learning_rate=0.01)\n",
    "# classifier=GaussianNB()\n",
    "classifier.fit(X,y)\n",
    "y_prdict_t=classifier.predict(X)\n",
    "\n"
   ]
  },
  {
   "cell_type": "markdown",
   "metadata": {
    "papermill": {
     "duration": 0.037902,
     "end_time": "2021-01-14T11:31:17.861041",
     "exception": false,
     "start_time": "2021-01-14T11:31:17.823139",
     "status": "completed"
    },
    "tags": []
   },
   "source": [
    "# Evaluate accuracy of the model"
   ]
  },
  {
   "cell_type": "code",
   "execution_count": 27,
   "metadata": {
    "execution": {
     "iopub.execute_input": "2021-01-14T11:31:17.943116Z",
     "iopub.status.busy": "2021-01-14T11:31:17.942317Z",
     "iopub.status.idle": "2021-01-14T11:31:17.953509Z",
     "shell.execute_reply": "2021-01-14T11:31:17.952777Z"
    },
    "papermill": {
     "duration": 0.054283,
     "end_time": "2021-01-14T11:31:17.953626",
     "exception": false,
     "start_time": "2021-01-14T11:31:17.899343",
     "status": "completed"
    },
    "tags": []
   },
   "outputs": [],
   "source": [
    "acc_score=accuracy_score(y,y_prdict_t)\n",
    "prec_score=precision_score(y,y_prdict_t)\n",
    "confusion_mat=confusion_matrix(y,y_prdict_t)\n",
    "y_predict=classifier.predict(data_predict)"
   ]
  },
  {
   "cell_type": "code",
   "execution_count": 28,
   "metadata": {
    "execution": {
     "iopub.execute_input": "2021-01-14T11:31:18.035483Z",
     "iopub.status.busy": "2021-01-14T11:31:18.034672Z",
     "iopub.status.idle": "2021-01-14T11:31:18.037751Z",
     "shell.execute_reply": "2021-01-14T11:31:18.038270Z"
    },
    "papermill": {
     "duration": 0.046766,
     "end_time": "2021-01-14T11:31:18.038425",
     "exception": false,
     "start_time": "2021-01-14T11:31:17.991659",
     "status": "completed"
    },
    "tags": []
   },
   "outputs": [
    {
     "name": "stdout",
     "output_type": "stream",
     "text": [
      "0.8327721661054994\n"
     ]
    }
   ],
   "source": [
    "print (acc_score)"
   ]
  },
  {
   "cell_type": "code",
   "execution_count": 29,
   "metadata": {
    "execution": {
     "iopub.execute_input": "2021-01-14T11:31:18.121871Z",
     "iopub.status.busy": "2021-01-14T11:31:18.121141Z",
     "iopub.status.idle": "2021-01-14T11:31:18.124599Z",
     "shell.execute_reply": "2021-01-14T11:31:18.123931Z"
    },
    "papermill": {
     "duration": 0.047794,
     "end_time": "2021-01-14T11:31:18.124711",
     "exception": false,
     "start_time": "2021-01-14T11:31:18.076917",
     "status": "completed"
    },
    "tags": []
   },
   "outputs": [],
   "source": [
    "submission = pd.DataFrame({'PassengerId':data_predict_ori[\"PassengerId\"],'Survived':y_predict})"
   ]
  },
  {
   "cell_type": "code",
   "execution_count": 30,
   "metadata": {
    "execution": {
     "iopub.execute_input": "2021-01-14T11:31:18.218581Z",
     "iopub.status.busy": "2021-01-14T11:31:18.217649Z",
     "iopub.status.idle": "2021-01-14T11:31:18.233241Z",
     "shell.execute_reply": "2021-01-14T11:31:18.232433Z"
    },
    "papermill": {
     "duration": 0.064307,
     "end_time": "2021-01-14T11:31:18.233458",
     "exception": false,
     "start_time": "2021-01-14T11:31:18.169151",
     "status": "completed"
    },
    "tags": []
   },
   "outputs": [
    {
     "data": {
      "text/plain": [
       "418"
      ]
     },
     "execution_count": 30,
     "metadata": {},
     "output_type": "execute_result"
    }
   ],
   "source": [
    "len(submission)"
   ]
  },
  {
   "cell_type": "code",
   "execution_count": 31,
   "metadata": {
    "execution": {
     "iopub.execute_input": "2021-01-14T11:31:18.328062Z",
     "iopub.status.busy": "2021-01-14T11:31:18.327071Z",
     "iopub.status.idle": "2021-01-14T11:31:18.588648Z",
     "shell.execute_reply": "2021-01-14T11:31:18.589318Z"
    },
    "papermill": {
     "duration": 0.311429,
     "end_time": "2021-01-14T11:31:18.589497",
     "exception": false,
     "start_time": "2021-01-14T11:31:18.278068",
     "status": "completed"
    },
    "tags": []
   },
   "outputs": [],
   "source": [
    "submission.to_csv('submission.csv',index=False)"
   ]
  },
  {
   "cell_type": "code",
   "execution_count": null,
   "metadata": {
    "papermill": {
     "duration": 0.039863,
     "end_time": "2021-01-14T11:31:18.677484",
     "exception": false,
     "start_time": "2021-01-14T11:31:18.637621",
     "status": "completed"
    },
    "tags": []
   },
   "outputs": [],
   "source": []
  }
 ],
 "metadata": {
  "kernelspec": {
   "display_name": "Python 3",
   "language": "python",
   "name": "python3"
  },
  "language_info": {
   "codemirror_mode": {
    "name": "ipython",
    "version": 3
   },
   "file_extension": ".py",
   "mimetype": "text/x-python",
   "name": "python",
   "nbconvert_exporter": "python",
   "pygments_lexer": "ipython3",
   "version": "3.7.6"
  },
  "papermill": {
   "duration": 16.729697,
   "end_time": "2021-01-14T11:31:18.825388",
   "environment_variables": {},
   "exception": null,
   "input_path": "__notebook__.ipynb",
   "output_path": "__notebook__.ipynb",
   "parameters": {},
   "start_time": "2021-01-14T11:31:02.095691",
   "version": "2.1.0"
  }
 },
 "nbformat": 4,
 "nbformat_minor": 4
}
